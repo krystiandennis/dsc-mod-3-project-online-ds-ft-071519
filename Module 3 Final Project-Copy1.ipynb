{
 "cells": [
  {
   "cell_type": "code",
   "execution_count": 5,
   "metadata": {},
   "outputs": [
    {
     "name": "stdout",
     "output_type": "stream",
     "text": [
      "Requirement already satisfied: researchpy in c:\\users\\krystiandennis\\anaconda3\\envs\\learn-env\\lib\\site-packages (0.1.7)\n",
      "Requirement already satisfied: pandas in c:\\users\\krystiandennis\\anaconda3\\envs\\learn-env\\lib\\site-packages (from researchpy) (0.23.4)\n",
      "Requirement already satisfied: numpy in c:\\users\\krystiandennis\\anaconda3\\envs\\learn-env\\lib\\site-packages (from researchpy) (1.16.4)\n",
      "Requirement already satisfied: statsmodels in c:\\users\\krystiandennis\\anaconda3\\envs\\learn-env\\lib\\site-packages (from researchpy) (0.9.0)\n",
      "Requirement already satisfied: scipy in c:\\users\\krystiandennis\\anaconda3\\envs\\learn-env\\lib\\site-packages (from researchpy) (1.1.0)\n",
      "Requirement already satisfied: python-dateutil>=2.5.0 in c:\\users\\krystiandennis\\anaconda3\\envs\\learn-env\\lib\\site-packages (from pandas->researchpy) (2.8.0)\n",
      "Requirement already satisfied: pytz>=2011k in c:\\users\\krystiandennis\\anaconda3\\envs\\learn-env\\lib\\site-packages (from pandas->researchpy) (2018.5)\n",
      "Requirement already satisfied: six>=1.5 in c:\\users\\krystiandennis\\anaconda3\\envs\\learn-env\\lib\\site-packages (from python-dateutil>=2.5.0->pandas->researchpy) (1.11.0)\n"
     ]
    },
    {
     "name": "stderr",
     "output_type": "stream",
     "text": [
      "pexpect 4.6.0 requires ptyprocess>=0.5, which is not installed.\n",
      "You are using pip version 10.0.1, however version 19.2.3 is available.\n",
      "You should consider upgrading via the 'python -m pip install --upgrade pip' command.\n"
     ]
    }
   ],
   "source": [
    "!pip install researchpy"
   ]
  },
  {
   "cell_type": "code",
   "execution_count": 54,
   "metadata": {},
   "outputs": [],
   "source": [
    "import sqlite3 \n",
    "import pandas as pd\n",
    "import numpy as np\n",
    "import math \n",
    "\n",
    "from datetime import datetime\n",
    "\n",
    "from scipy import stats\n",
    "from scipy.stats import ttest_ind\n",
    "\n",
    "from statsmodels.formula.api import ols\n",
    "import statsmodels.api as sm\n",
    "from statsmodels.stats.multicomp import pairwise_tukeyhsd\n",
    "from statsmodels.stats.multicomp import MultiComparison\n",
    "from statsmodels.stats.power import TTestIndPower, TTestPower\n",
    "\n",
    "import researchpy as rp\n",
    "\n",
    "import matplotlib.pyplot as plt\n",
    "%matplotlib inline\n",
    "import seaborn as sns\n",
    "sns.set_palette('colorblind')\n",
    "\n",
    "import warnings\n",
    "warnings.filterwarnings(\"ignore\")"
   ]
  },
  {
   "cell_type": "code",
   "execution_count": 10,
   "metadata": {},
   "outputs": [],
   "source": [
    "conn = sqlite3.connect('Northwind_small.sqlite')\n",
    "c = conn.cursor()"
   ]
  },
  {
   "cell_type": "markdown",
   "metadata": {},
   "source": [
    "Discount vs. No Discount"
   ]
  },
  {
   "cell_type": "code",
   "execution_count": 11,
   "metadata": {},
   "outputs": [
    {
     "data": {
      "text/html": [
       "<div>\n",
       "<style scoped>\n",
       "    .dataframe tbody tr th:only-of-type {\n",
       "        vertical-align: middle;\n",
       "    }\n",
       "\n",
       "    .dataframe tbody tr th {\n",
       "        vertical-align: top;\n",
       "    }\n",
       "\n",
       "    .dataframe thead th {\n",
       "        text-align: right;\n",
       "    }\n",
       "</style>\n",
       "<table border=\"1\" class=\"dataframe\">\n",
       "  <thead>\n",
       "    <tr style=\"text-align: right;\">\n",
       "      <th></th>\n",
       "      <th>Quantity</th>\n",
       "      <th>Discount</th>\n",
       "    </tr>\n",
       "  </thead>\n",
       "  <tbody>\n",
       "    <tr>\n",
       "      <th>0</th>\n",
       "      <td>45</td>\n",
       "      <td>0.20</td>\n",
       "    </tr>\n",
       "    <tr>\n",
       "      <th>1</th>\n",
       "      <td>18</td>\n",
       "      <td>0.00</td>\n",
       "    </tr>\n",
       "    <tr>\n",
       "      <th>2</th>\n",
       "      <td>20</td>\n",
       "      <td>0.00</td>\n",
       "    </tr>\n",
       "    <tr>\n",
       "      <th>3</th>\n",
       "      <td>15</td>\n",
       "      <td>0.15</td>\n",
       "    </tr>\n",
       "    <tr>\n",
       "      <th>4</th>\n",
       "      <td>12</td>\n",
       "      <td>0.00</td>\n",
       "    </tr>\n",
       "  </tbody>\n",
       "</table>\n",
       "</div>"
      ],
      "text/plain": [
       "   Quantity  Discount\n",
       "0        45      0.20\n",
       "1        18      0.00\n",
       "2        20      0.00\n",
       "3        15      0.15\n",
       "4        12      0.00"
      ]
     },
     "execution_count": 11,
     "metadata": {},
     "output_type": "execute_result"
    }
   ],
   "source": [
    "c.execute(\"\"\"SELECT Quantity, Discount \n",
    "               FROM OrderDetail\n",
    "               ORDER BY ProductId;\"\"\")\n",
    "df = pd.DataFrame(c.fetchall())\n",
    "df.columns = [x[0] for x in c.description]\n",
    "df.head()"
   ]
  },
  {
   "cell_type": "code",
   "execution_count": 12,
   "metadata": {},
   "outputs": [
    {
     "data": {
      "text/plain": [
       "0.00    1317\n",
       "0.05     185\n",
       "0.10     173\n",
       "0.20     161\n",
       "0.15     157\n",
       "0.25     154\n",
       "0.03       3\n",
       "0.02       2\n",
       "0.01       1\n",
       "0.04       1\n",
       "0.06       1\n",
       "Name: Discount, dtype: int64"
      ]
     },
     "execution_count": 12,
     "metadata": {},
     "output_type": "execute_result"
    }
   ],
   "source": [
    "df['Discount'].value_counts()"
   ]
  },
  {
   "cell_type": "code",
   "execution_count": 13,
   "metadata": {},
   "outputs": [],
   "source": [
    "drop = [0.01, 0.02, 0.03, 0.04, 0.06]\n",
    "df = df[~df['Discount'].isin(drop)]"
   ]
  },
  {
   "cell_type": "code",
   "execution_count": 14,
   "metadata": {},
   "outputs": [
    {
     "data": {
      "text/plain": [
       "0.00    1317\n",
       "0.05     185\n",
       "0.10     173\n",
       "0.20     161\n",
       "0.15     157\n",
       "0.25     154\n",
       "Name: Discount, dtype: int64"
      ]
     },
     "execution_count": 14,
     "metadata": {},
     "output_type": "execute_result"
    }
   ],
   "source": [
    "df['Discount'].value_counts()"
   ]
  },
  {
   "cell_type": "code",
   "execution_count": 15,
   "metadata": {},
   "outputs": [
    {
     "data": {
      "text/plain": [
       "1    18\n",
       "2    20\n",
       "4    12\n",
       "6    10\n",
       "7    24\n",
       "Name: Quantity, dtype: int64"
      ]
     },
     "execution_count": 15,
     "metadata": {},
     "output_type": "execute_result"
    }
   ],
   "source": [
    "no_discount = df.loc[df['Discount'] == 0, 'Quantity']\n",
    "no_discount.head()"
   ]
  },
  {
   "cell_type": "code",
   "execution_count": 22,
   "metadata": {},
   "outputs": [
    {
     "data": {
      "text/plain": [
       "0     45\n",
       "3     15\n",
       "5     15\n",
       "9     40\n",
       "10     8\n",
       "Name: Quantity, dtype: int64"
      ]
     },
     "execution_count": 22,
     "metadata": {},
     "output_type": "execute_result"
    }
   ],
   "source": [
    "discount = df.loc[df['Discount'] != 0, 'Quantity']\n",
    "discount.head()"
   ]
  },
  {
   "cell_type": "code",
   "execution_count": 23,
   "metadata": {},
   "outputs": [
    {
     "data": {
      "image/png": "[encoded data removed]",
      "text/plain": [
       "<Figure size 432x288 with 1 Axes>"
      ]
     },
     "metadata": {
      "needs_background": "light"
     },
     "output_type": "display_data"
    }
   ],
   "source": [
    "sns.distplot(no_discount, label='No Discount')\n",
    "sns.distplot(discount, label='Discount')\n",
    "plt.axvline(np.mean(no_discount), color='#FF0000', label=('No Discount mean:', np.mean(no_discount))\n",
    "plt.axvline(np.mean(discount), color='#008000', label=('Discount mean:', np.mean(discount))\n",
    "plt.legend()\n",
    "plt.show();"
   ]
  },
  {
   "cell_type": "code",
   "execution_count": 24,
   "metadata": {},
   "outputs": [
    {
     "data": {
      "text/plain": [
       "(27.35, 21.72, 5.64)"
      ]
     },
     "execution_count": 24,
     "metadata": {},
     "output_type": "execute_result"
    }
   ],
   "source": [
    "no_discount_mean = np.mean(no_discount)\n",
    "discount_mean = np.mean(discount)\n",
    "mean_difference = discount_mean - no_discount_mean\n",
    "round(discount_mean,2), round(no_discount_mean,2), round(mean_difference,2)"
   ]
  },
  {
   "cell_type": "code",
   "execution_count": 25,
   "metadata": {},
   "outputs": [],
   "source": [
    "alpha = 0.05"
   ]
  },
  {
   "cell_type": "markdown",
   "metadata": {},
   "source": [
    "Testing for Normality"
   ]
  },
  {
   "cell_type": "code",
   "execution_count": 50,
   "metadata": {},
   "outputs": [
    {
     "data": {
      "text/plain": [
       "(0.8673426508903503, 6.471277454941499e-26)"
      ]
     },
     "execution_count": 50,
     "metadata": {},
     "output_type": "execute_result"
    }
   ],
   "source": [
    "stats.shapiro(discount)"
   ]
  },
  {
   "cell_type": "code",
   "execution_count": 51,
   "metadata": {},
   "outputs": [
    {
     "data": {
      "text/plain": [
       "(0.8434571027755737, 3.803856556577728e-34)"
      ]
     },
     "execution_count": 51,
     "metadata": {},
     "output_type": "execute_result"
    }
   ],
   "source": [
    "stats.shapiro(no_discount)"
   ]
  },
  {
   "cell_type": "markdown",
   "metadata": {},
   "source": [
    "Testing for Homogeneity of Variance"
   ]
  },
  {
   "cell_type": "code",
   "execution_count": 26,
   "metadata": {},
   "outputs": [
    {
     "data": {
      "text/plain": [
       "BartlettResult(statistic=29.48129316230489, pvalue=5.645902482998379e-08)"
      ]
     },
     "execution_count": 26,
     "metadata": {},
     "output_type": "execute_result"
    }
   ],
   "source": [
    "# perform Bartlett test for variance\n",
    "stats.bartlett(discount, no_discount)"
   ]
  },
  {
   "cell_type": "code",
   "execution_count": 28,
   "metadata": {},
   "outputs": [
    {
     "data": {
      "text/plain": [
       "LeveneResult(statistic=14.296405109976126, pvalue=0.0001604308631855048)"
      ]
     },
     "execution_count": 28,
     "metadata": {},
     "output_type": "execute_result"
    }
   ],
   "source": [
    "# perform Levene test for homogeneity of variance\n",
    "stats.levene(discount, no_discount)"
   ]
  },
  {
   "cell_type": "code",
   "execution_count": 29,
   "metadata": {},
   "outputs": [
    {
     "data": {
      "text/html": [
       "<div>\n",
       "<style scoped>\n",
       "    .dataframe tbody tr th:only-of-type {\n",
       "        vertical-align: middle;\n",
       "    }\n",
       "\n",
       "    .dataframe tbody tr th {\n",
       "        vertical-align: top;\n",
       "    }\n",
       "\n",
       "    .dataframe thead th {\n",
       "        text-align: right;\n",
       "    }\n",
       "</style>\n",
       "<table border=\"1\" class=\"dataframe\">\n",
       "  <thead>\n",
       "    <tr style=\"text-align: right;\">\n",
       "      <th></th>\n",
       "      <th>Variable</th>\n",
       "      <th>N</th>\n",
       "      <th>Mean</th>\n",
       "      <th>SD</th>\n",
       "      <th>SE</th>\n",
       "      <th>95% Conf.</th>\n",
       "      <th>Interval</th>\n",
       "    </tr>\n",
       "  </thead>\n",
       "  <tbody>\n",
       "    <tr>\n",
       "      <th>0</th>\n",
       "      <td>Quantity</td>\n",
       "      <td>830.0</td>\n",
       "      <td>27.354217</td>\n",
       "      <td>20.720667</td>\n",
       "      <td>0.719225</td>\n",
       "      <td>25.942501</td>\n",
       "      <td>28.765933</td>\n",
       "    </tr>\n",
       "    <tr>\n",
       "      <th>1</th>\n",
       "      <td>Quantity</td>\n",
       "      <td>1317.0</td>\n",
       "      <td>21.715262</td>\n",
       "      <td>17.507493</td>\n",
       "      <td>0.482426</td>\n",
       "      <td>20.768853</td>\n",
       "      <td>22.661671</td>\n",
       "    </tr>\n",
       "    <tr>\n",
       "      <th>2</th>\n",
       "      <td>combined</td>\n",
       "      <td>2147.0</td>\n",
       "      <td>23.895203</td>\n",
       "      <td>19.009580</td>\n",
       "      <td>0.410257</td>\n",
       "      <td>23.090659</td>\n",
       "      <td>24.699746</td>\n",
       "    </tr>\n",
       "  </tbody>\n",
       "</table>\n",
       "</div>"
      ],
      "text/plain": [
       "   Variable       N       Mean         SD        SE  95% Conf.   Interval\n",
       "0  Quantity   830.0  27.354217  20.720667  0.719225  25.942501  28.765933\n",
       "1  Quantity  1317.0  21.715262  17.507493  0.482426  20.768853  22.661671\n",
       "2  combined  2147.0  23.895203  19.009580  0.410257  23.090659  24.699746"
      ]
     },
     "execution_count": 29,
     "metadata": {},
     "output_type": "execute_result"
    }
   ],
   "source": [
    "#welch's t done in researchpy \n",
    "#equal_variance = False to perform Welch's T Test\n",
    "descriptives, results = researchpy.ttest(discount, no_discount, equal_variance = False)\n",
    "descriptives"
   ]
  },
  {
   "cell_type": "code",
   "execution_count": null,
   "metadata": {},
   "outputs": [],
   "source": [
    "results"
   ]
  },
  {
   "cell_type": "code",
   "execution_count": 30,
   "metadata": {},
   "outputs": [
    {
     "name": "stdout",
     "output_type": "stream",
     "text": [
      "t-critical value: 1.6458303594014525\n"
     ]
    }
   ],
   "source": [
    "#t-critical value \n",
    "print ('t-critical value:',stats.t.ppf(1 - 0.05, df=1561))"
   ]
  },
  {
   "cell_type": "markdown",
   "metadata": {},
   "source": [
    "Level of Discount"
   ]
  },
  {
   "cell_type": "code",
   "execution_count": 31,
   "metadata": {},
   "outputs": [],
   "source": [
    "disc_00 = df.loc[df['Discount'] == 0.00, 'Quantity']\n",
    "disc_05 = df.loc[df['Discount'] == 0.05, 'Quantity']\n",
    "disc_10 = df.loc[df['Discount'] == 0.10, 'Quantity']\n",
    "disc_15 = df.loc[df['Discount'] == 0.15, 'Quantity']\n",
    "disc_20 = df.loc[df['Discount'] == 0.20, 'Quantity']\n",
    "disc_25 = df.loc[df['Discount'] == 0.25, 'Quantity']"
   ]
  },
  {
   "cell_type": "code",
   "execution_count": 32,
   "metadata": {},
   "outputs": [],
   "source": [
    "all_discounts = [disc_05, disc_10, disc_15, disc_20, disc_25]"
   ]
  },
  {
   "cell_type": "code",
   "execution_count": 37,
   "metadata": {},
   "outputs": [],
   "source": [
    "for disc in all_discounts:\n",
    "    parameters, results = rp.ttest(disc, disc_00, equal_variances=False)\n",
    "    results"
   ]
  },
  {
   "cell_type": "code",
   "execution_count": 38,
   "metadata": {},
   "outputs": [
    {
     "data": {
      "text/plain": [
       "F_onewayResult(statistic=0.6741032559876161, pvalue=0.610041445360832)"
      ]
     },
     "execution_count": 38,
     "metadata": {},
     "output_type": "execute_result"
    }
   ],
   "source": [
    "stats.f_oneway(disc_05, disc_10, disc_15, disc_20, disc_25)"
   ]
  },
  {
   "cell_type": "code",
   "execution_count": 39,
   "metadata": {},
   "outputs": [
    {
     "name": "stdout",
     "output_type": "stream",
     "text": [
      "f-critical value: 0.5843916553857266\n"
     ]
    }
   ],
   "source": [
    "print ('f-critical value:',stats.f.cdf(1-0.05, dfn=3, dfd=1561))"
   ]
  },
  {
   "cell_type": "code",
   "execution_count": null,
   "metadata": {},
   "outputs": [],
   "source": [
    "mc = MultiComparison(df['Quantity'], df['Discount'])\n",
    "mc_results = mc.tukeyhsd()"
   ]
  },
  {
   "cell_type": "code",
   "execution_count": null,
   "metadata": {},
   "outputs": [],
   "source": [
    "mc_results.plot_simultaneous(comparison_name=0.0, figsize=(6,4), \n",
    "                             ylabel='Discount Level\\n', xlabel='\\nAverage Number of Products in Order');"
   ]
  },
  {
   "cell_type": "code",
   "execution_count": 40,
   "metadata": {},
   "outputs": [],
   "source": [
    "power = TTestIndPower()\n",
    "power_05 = power.power(effect_size=0.3948744653331997, nobs1=len(disc_05), alpha=alpha, ratio=len(no_discount)/len(disc_05), df=(len(disc_05) -1 + len(no_discount)-1), alternative='larger')\n",
    "power_10 = power.power(effect_size=0.19821666416305028, nobs1=len(disc_10), alpha=alpha, ratio=len(no_discount)/len(disc_10), df=(len(disc_10) -1 + len(no_discount)-1), alternative='larger')\n",
    "power_15 = power.power(effect_size=0.45301566498890056, nobs1=len(disc_15), alpha=alpha, ratio=len(no_discount)/len(disc_15), df=(len(disc_15) -1 + len(no_discount)-1), alternative='larger')\n",
    "power_20 = power.power(effect_size=0.3750987110329681, nobs1=len(disc_20), alpha=alpha, ratio=len(no_discount)/len(disc_20), df=(len(disc_20) -1 + len(no_discount)-1), alternative='larger')\n",
    "power_25 = power.power(effect_size=0.4109384470929913, nobs1=len(disc_25), alpha=alpha, ratio=len(no_discount)/len(disc_25), df=(len(disc_25) -1 + len(no_discount)-1), alternative='larger')"
   ]
  },
  {
   "cell_type": "code",
   "execution_count": 41,
   "metadata": {},
   "outputs": [
    {
     "data": {
      "text/plain": [
       "(0.9996403433653781,\n",
       " 0.7896313760530537,\n",
       " 0.9999999596290499,\n",
       " 0.9977853833217225,\n",
       " 0.9992590585768565)"
      ]
     },
     "execution_count": 41,
     "metadata": {},
     "output_type": "execute_result"
    }
   ],
   "source": [
    "power_05, power_10, power_15, power_20, power_25"
   ]
  },
  {
   "cell_type": "markdown",
   "metadata": {},
   "source": [
    "Order Total and Discount"
   ]
  },
  {
   "cell_type": "code",
   "execution_count": 53,
   "metadata": {},
   "outputs": [
    {
     "data": {
      "text/html": [
       "<div>\n",
       "<style scoped>\n",
       "    .dataframe tbody tr th:only-of-type {\n",
       "        vertical-align: middle;\n",
       "    }\n",
       "\n",
       "    .dataframe tbody tr th {\n",
       "        vertical-align: top;\n",
       "    }\n",
       "\n",
       "    .dataframe thead th {\n",
       "        text-align: right;\n",
       "    }\n",
       "</style>\n",
       "<table border=\"1\" class=\"dataframe\">\n",
       "  <thead>\n",
       "    <tr style=\"text-align: right;\">\n",
       "      <th></th>\n",
       "      <th>Id</th>\n",
       "      <th>Discount</th>\n",
       "      <th>UnitPrice</th>\n",
       "      <th>Quantity</th>\n",
       "    </tr>\n",
       "  </thead>\n",
       "  <tbody>\n",
       "    <tr>\n",
       "      <th>0</th>\n",
       "      <td>10248</td>\n",
       "      <td>0.0</td>\n",
       "      <td>14.0</td>\n",
       "      <td>12</td>\n",
       "    </tr>\n",
       "    <tr>\n",
       "      <th>1</th>\n",
       "      <td>10248</td>\n",
       "      <td>0.0</td>\n",
       "      <td>9.8</td>\n",
       "      <td>10</td>\n",
       "    </tr>\n",
       "    <tr>\n",
       "      <th>2</th>\n",
       "      <td>10248</td>\n",
       "      <td>0.0</td>\n",
       "      <td>34.8</td>\n",
       "      <td>5</td>\n",
       "    </tr>\n",
       "    <tr>\n",
       "      <th>3</th>\n",
       "      <td>10249</td>\n",
       "      <td>0.0</td>\n",
       "      <td>18.6</td>\n",
       "      <td>9</td>\n",
       "    </tr>\n",
       "    <tr>\n",
       "      <th>4</th>\n",
       "      <td>10249</td>\n",
       "      <td>0.0</td>\n",
       "      <td>42.4</td>\n",
       "      <td>40</td>\n",
       "    </tr>\n",
       "  </tbody>\n",
       "</table>\n",
       "</div>"
      ],
      "text/plain": [
       "      Id  Discount  UnitPrice  Quantity\n",
       "0  10248       0.0       14.0        12\n",
       "1  10248       0.0        9.8        10\n",
       "2  10248       0.0       34.8         5\n",
       "3  10249       0.0       18.6         9\n",
       "4  10249       0.0       42.4        40"
      ]
     },
     "execution_count": 53,
     "metadata": {},
     "output_type": "execute_result"
    }
   ],
   "source": [
    "c.execute(\"\"\"SELECT [Order].Id,\n",
    "            Quantity*(OrderDetail.UnitPrice - (OrderDetail.UnitPrice*Discount))\n",
    "               AS 'OrderTotal'\n",
    "            FROM OrderDetail\n",
    "            JOIN [Order]\n",
    "            ON [Order].Id = OrderDetail.OrderId\n",
    "            INNER JOIN Product\n",
    "            ON Product.Id = OrderDetail.ProductId\n",
    "            WHERE Discount != 0.06 AND Discount > 0.04 OR Discount = 0.00\n",
    "            GROUP BY [Order].Id\n",
    "             ;\"\"\")\n",
    "df = pd.DataFrame(c.fetchall())\n",
    "df.columns = [x[0] for x in c.description]\n",
    "df.head()"
   ]
  },
  {
   "cell_type": "code",
   "execution_count": 1,
   "metadata": {},
   "outputs": [
    {
     "ename": "NameError",
     "evalue": "name 'df' is not defined",
     "output_type": "error",
     "traceback": [
      "\u001b[1;31m---------------------------------------------------------------------------\u001b[0m",
      "\u001b[1;31mNameError\u001b[0m                                 Traceback (most recent call last)",
      "\u001b[1;32m<ipython-input-1-225df1f5ef48>\u001b[0m in \u001b[0;36m<module>\u001b[1;34m()\u001b[0m\n\u001b[1;32m----> 1\u001b[1;33m \u001b[0mdf\u001b[0m\u001b[1;33m[\u001b[0m\u001b[1;34m'Total'\u001b[0m\u001b[1;33m]\u001b[0m\u001b[1;33m=\u001b[0m \u001b[0mdf\u001b[0m\u001b[1;33m[\u001b[0m\u001b[1;34m'UnitPrice'\u001b[0m\u001b[1;33m]\u001b[0m\u001b[1;33m*\u001b[0m \u001b[0mdf\u001b[0m\u001b[1;33m[\u001b[0m\u001b[1;34m'Quantity'\u001b[0m\u001b[1;33m]\u001b[0m\u001b[1;33m\u001b[0m\u001b[0m\n\u001b[0m\u001b[0;32m      2\u001b[0m \u001b[0mdf\u001b[0m \u001b[1;33m=\u001b[0m \u001b[0mdf\u001b[0m\u001b[1;33m.\u001b[0m\u001b[0mgroupby\u001b[0m\u001b[1;33m(\u001b[0m\u001b[1;33m[\u001b[0m\u001b[1;34m'OrderId'\u001b[0m\u001b[1;33m]\u001b[0m\u001b[1;33m)\u001b[0m\u001b[1;33m.\u001b[0m\u001b[0msum\u001b[0m\u001b[1;33m(\u001b[0m\u001b[1;33m)\u001b[0m\u001b[1;33m.\u001b[0m\u001b[0mhead\u001b[0m\u001b[1;33m(\u001b[0m\u001b[1;33m)\u001b[0m\u001b[1;33m\u001b[0m\u001b[0m\n",
      "\u001b[1;31mNameError\u001b[0m: name 'df' is not defined"
     ]
    }
   ],
   "source": [
    "df['Total']= df['UnitPrice']* df['Quantity']\n",
    "df = df.groupby(['OrderId']).sum().head()"
   ]
  },
  {
   "cell_type": "code",
   "execution_count": null,
   "metadata": {},
   "outputs": [],
   "source": [
    "not_discounted = df.loc[df['Discount'] == 0, 'OrderTotal']\n",
    "not_discounted.head()"
   ]
  },
  {
   "cell_type": "code",
   "execution_count": null,
   "metadata": {},
   "outputs": [],
   "source": [
    "discounted = df.loc[df['Discount'] != 0, 'OrderTotal']\n",
    "discounted.head()"
   ]
  },
  {
   "cell_type": "code",
   "execution_count": null,
   "metadata": {},
   "outputs": [],
   "source": [
    "descriptives, results = rp.ttest(discounted, not_discounted, equal_variances = False)\n",
    "descriptives"
   ]
  },
  {
   "cell_type": "markdown",
   "metadata": {},
   "source": [
    "Customer Loyalty"
   ]
  },
  {
   "cell_type": "markdown",
   "metadata": {},
   "source": [
    "$H_0$: People who order more frequently (= above the median) do not spend more money on average than people who order less frequently.\n",
    "\n",
    "$H_1$: People who order more frequently also spend more money on average than people who order less frequently."
   ]
  },
  {
   "cell_type": "code",
   "execution_count": null,
   "metadata": {},
   "outputs": [],
   "source": [
    "c.execute('''SELECT Customer.Id, [Order].Id,\n",
    "                           Quantity*(OrderDetail.UnitPrice - (OrderDetail.UnitPrice*Discount))\n",
    "                            AS 'OrderTotal'\n",
    "                            FROM OrderDetail\n",
    "                            JOIN [Order] ON OrderDetails.OrderId = [Order].Id\n",
    "                            JOIN Customer ON [Order].CustomerId = Customer.Id\n",
    "                            GROUP BY CustomerId\n",
    "                           ORDER BY SUM(OrderTotal) DESC\n",
    "                            ;''')\n",
    "df = pd.DataFrame(c.fetchall())\n",
    "df.columns = [x[0] for x in c.description]\n",
    "df.head()"
   ]
  },
  {
   "cell_type": "code",
   "execution_count": null,
   "metadata": {},
   "outputs": [],
   "source": [
    "mean = np.mean(df['OrderId'].count())\n",
    "median = np.median(df['OrderId'].count())\n",
    "print('Mean:', mean)\n",
    "print('Median:', median)"
   ]
  },
  {
   "cell_type": "code",
   "execution_count": null,
   "metadata": {},
   "outputs": [],
   "source": [
    "df['Number of Orders'] = df['OrderId'].count().apply(lambda x: 'Below Median' if x <= median else 'Above Median')\n",
    "df.head()"
   ]
  },
  {
   "cell_type": "code",
   "execution_count": null,
   "metadata": {},
   "outputs": [],
   "source": [
    "frequent = df.loc[df['Number of Orders'] == 'Above Median']\n",
    "regular = df.loc[df['Number of Orders'] == 'Below Median']"
   ]
  },
  {
   "cell_type": "code",
   "execution_count": null,
   "metadata": {},
   "outputs": [],
   "source": [
    "stats.levene(frequent, regular)"
   ]
  },
  {
   "cell_type": "markdown",
   "metadata": {},
   "source": [
    "Shipping Speed"
   ]
  },
  {
   "cell_type": "code",
   "execution_count": 57,
   "metadata": {},
   "outputs": [
    {
     "data": {
      "text/html": [
       "<div>\n",
       "<style scoped>\n",
       "    .dataframe tbody tr th:only-of-type {\n",
       "        vertical-align: middle;\n",
       "    }\n",
       "\n",
       "    .dataframe tbody tr th {\n",
       "        vertical-align: top;\n",
       "    }\n",
       "\n",
       "    .dataframe thead th {\n",
       "        text-align: right;\n",
       "    }\n",
       "</style>\n",
       "<table border=\"1\" class=\"dataframe\">\n",
       "  <thead>\n",
       "    <tr style=\"text-align: right;\">\n",
       "      <th></th>\n",
       "      <th>ShippedDate</th>\n",
       "      <th>ShipVia</th>\n",
       "      <th>OrderDate</th>\n",
       "      <th>RequiredDate</th>\n",
       "    </tr>\n",
       "  </thead>\n",
       "  <tbody>\n",
       "    <tr>\n",
       "      <th>0</th>\n",
       "      <td>2012-07-16</td>\n",
       "      <td>3</td>\n",
       "      <td>2012-07-04</td>\n",
       "      <td>2012-08-01</td>\n",
       "    </tr>\n",
       "    <tr>\n",
       "      <th>1</th>\n",
       "      <td>2012-07-10</td>\n",
       "      <td>1</td>\n",
       "      <td>2012-07-05</td>\n",
       "      <td>2012-08-16</td>\n",
       "    </tr>\n",
       "    <tr>\n",
       "      <th>2</th>\n",
       "      <td>2012-07-12</td>\n",
       "      <td>2</td>\n",
       "      <td>2012-07-08</td>\n",
       "      <td>2012-08-05</td>\n",
       "    </tr>\n",
       "    <tr>\n",
       "      <th>3</th>\n",
       "      <td>2012-07-15</td>\n",
       "      <td>1</td>\n",
       "      <td>2012-07-08</td>\n",
       "      <td>2012-08-05</td>\n",
       "    </tr>\n",
       "    <tr>\n",
       "      <th>4</th>\n",
       "      <td>2012-07-11</td>\n",
       "      <td>2</td>\n",
       "      <td>2012-07-09</td>\n",
       "      <td>2012-08-06</td>\n",
       "    </tr>\n",
       "  </tbody>\n",
       "</table>\n",
       "</div>"
      ],
      "text/plain": [
       "  ShippedDate  ShipVia   OrderDate RequiredDate\n",
       "0  2012-07-16        3  2012-07-04   2012-08-01\n",
       "1  2012-07-10        1  2012-07-05   2012-08-16\n",
       "2  2012-07-12        2  2012-07-08   2012-08-05\n",
       "3  2012-07-15        1  2012-07-08   2012-08-05\n",
       "4  2012-07-11        2  2012-07-09   2012-08-06"
      ]
     },
     "execution_count": 57,
     "metadata": {},
     "output_type": "execute_result"
    }
   ],
   "source": [
    "c.execute(\"\"\"SELECT ShippedDate, ShipVia, OrderDate, RequiredDate\n",
    "            FROM 'Order'\n",
    "             ;\"\"\")\n",
    "df = pd.DataFrame(c.fetchall())\n",
    "df.columns = [x[0] for x in c.description]\n",
    "df.head()"
   ]
  },
  {
   "cell_type": "code",
   "execution_count": 58,
   "metadata": {},
   "outputs": [
    {
     "name": "stdout",
     "output_type": "stream",
     "text": [
      "<class 'pandas.core.frame.DataFrame'>\n",
      "RangeIndex: 830 entries, 0 to 829\n",
      "Data columns (total 4 columns):\n",
      "ShippedDate     809 non-null object\n",
      "ShipVia         830 non-null int64\n",
      "OrderDate       830 non-null object\n",
      "RequiredDate    830 non-null object\n",
      "dtypes: int64(1), object(3)\n",
      "memory usage: 26.0+ KB\n"
     ]
    }
   ],
   "source": [
    "df.info()"
   ]
  },
  {
   "cell_type": "code",
   "execution_count": 59,
   "metadata": {},
   "outputs": [],
   "source": [
    "df = df.dropna()"
   ]
  },
  {
   "cell_type": "code",
   "execution_count": 60,
   "metadata": {},
   "outputs": [],
   "source": [
    "df['ShippedDate']= pd.to_datetime(df['ShippedDate'])\n",
    "df['OrderDate'] = pd.to_datetime(df['OrderDate'])\n",
    "df['RequiredDate'] = pd.to_datetime(df['RequiredDate'])"
   ]
  },
  {
   "cell_type": "code",
   "execution_count": 62,
   "metadata": {},
   "outputs": [],
   "source": [
    "df['ShipTime'] = (df['ShippedDate'] - df['OrderDate']).dt.days"
   ]
  },
  {
   "cell_type": "code",
   "execution_count": 63,
   "metadata": {},
   "outputs": [
    {
     "data": {
      "text/plain": [
       "ShipVia\n",
       "1    8.571429\n",
       "2    9.234921\n",
       "3    7.473896\n",
       "Name: ShipTime, dtype: float64"
      ]
     },
     "execution_count": 63,
     "metadata": {},
     "output_type": "execute_result"
    }
   ],
   "source": [
    "df.groupby(['ShipVia'])['ShipTime'].mean()"
   ]
  },
  {
   "cell_type": "code",
   "execution_count": 65,
   "metadata": {},
   "outputs": [
    {
     "data": {
      "text/html": [
       "<div>\n",
       "<style scoped>\n",
       "    .dataframe tbody tr th:only-of-type {\n",
       "        vertical-align: middle;\n",
       "    }\n",
       "\n",
       "    .dataframe tbody tr th {\n",
       "        vertical-align: top;\n",
       "    }\n",
       "\n",
       "    .dataframe thead th {\n",
       "        text-align: right;\n",
       "    }\n",
       "</style>\n",
       "<table border=\"1\" class=\"dataframe\">\n",
       "  <thead>\n",
       "    <tr style=\"text-align: right;\">\n",
       "      <th></th>\n",
       "      <th>Variable</th>\n",
       "      <th>N</th>\n",
       "      <th>Mean</th>\n",
       "      <th>SD</th>\n",
       "      <th>SE</th>\n",
       "      <th>95% Conf.</th>\n",
       "      <th>Interval</th>\n",
       "    </tr>\n",
       "  </thead>\n",
       "  <tbody>\n",
       "    <tr>\n",
       "      <th>0</th>\n",
       "      <td>ShipTime</td>\n",
       "      <td>809.0</td>\n",
       "      <td>8.491965</td>\n",
       "      <td>6.838682</td>\n",
       "      <td>0.240435</td>\n",
       "      <td>8.020014</td>\n",
       "      <td>8.963917</td>\n",
       "    </tr>\n",
       "    <tr>\n",
       "      <th>1</th>\n",
       "      <td>ShipVia</td>\n",
       "      <td>809.0</td>\n",
       "      <td>2.004944</td>\n",
       "      <td>0.781896</td>\n",
       "      <td>0.027490</td>\n",
       "      <td>1.950984</td>\n",
       "      <td>2.058905</td>\n",
       "    </tr>\n",
       "    <tr>\n",
       "      <th>2</th>\n",
       "      <td>combined</td>\n",
       "      <td>1618.0</td>\n",
       "      <td>5.248455</td>\n",
       "      <td>5.848220</td>\n",
       "      <td>0.145390</td>\n",
       "      <td>4.963282</td>\n",
       "      <td>5.533627</td>\n",
       "    </tr>\n",
       "  </tbody>\n",
       "</table>\n",
       "</div>"
      ],
      "text/plain": [
       "   Variable       N      Mean        SD        SE  95% Conf.  Interval\n",
       "0  ShipTime   809.0  8.491965  6.838682  0.240435   8.020014  8.963917\n",
       "1   ShipVia   809.0  2.004944  0.781896  0.027490   1.950984  2.058905\n",
       "2  combined  1618.0  5.248455  5.848220  0.145390   4.963282  5.533627"
      ]
     },
     "execution_count": 65,
     "metadata": {},
     "output_type": "execute_result"
    }
   ],
   "source": [
    "descriptives, results = rp.ttest(df['ShipTime'], df['ShipVia'], equal_variances = False)\n",
    "descriptives"
   ]
  },
  {
   "cell_type": "code",
   "execution_count": 64,
   "metadata": {},
   "outputs": [
    {
     "data": {
      "text/plain": [
       "F_onewayResult(statistic=718.5448047260277, pvalue=2.9251787431230465e-131)"
      ]
     },
     "execution_count": 64,
     "metadata": {},
     "output_type": "execute_result"
    }
   ],
   "source": [
    "#anova\n",
    "stats.f_oneway(df['ShipTime'], df['ShipVia'])"
   ]
  },
  {
   "cell_type": "markdown",
   "metadata": {},
   "source": [
    "Employee Sales"
   ]
  },
  {
   "cell_type": "code",
   "execution_count": 70,
   "metadata": {},
   "outputs": [
    {
     "data": {
      "text/html": [
       "<div>\n",
       "<style scoped>\n",
       "    .dataframe tbody tr th:only-of-type {\n",
       "        vertical-align: middle;\n",
       "    }\n",
       "\n",
       "    .dataframe tbody tr th {\n",
       "        vertical-align: top;\n",
       "    }\n",
       "\n",
       "    .dataframe thead th {\n",
       "        text-align: right;\n",
       "    }\n",
       "</style>\n",
       "<table border=\"1\" class=\"dataframe\">\n",
       "  <thead>\n",
       "    <tr style=\"text-align: right;\">\n",
       "      <th></th>\n",
       "      <th>EmployeeId</th>\n",
       "      <th>Name</th>\n",
       "      <th>Region</th>\n",
       "      <th>OrderTotal</th>\n",
       "      <th>Discount</th>\n",
       "    </tr>\n",
       "  </thead>\n",
       "  <tbody>\n",
       "    <tr>\n",
       "      <th>0</th>\n",
       "      <td>6</td>\n",
       "      <td>Michael Suyama</td>\n",
       "      <td>British Isles</td>\n",
       "      <td>1272.000</td>\n",
       "      <td>0.00</td>\n",
       "    </tr>\n",
       "    <tr>\n",
       "      <th>1</th>\n",
       "      <td>9</td>\n",
       "      <td>Anne Dodsworth</td>\n",
       "      <td>British Isles</td>\n",
       "      <td>714.000</td>\n",
       "      <td>0.00</td>\n",
       "    </tr>\n",
       "    <tr>\n",
       "      <th>2</th>\n",
       "      <td>3</td>\n",
       "      <td>Janet Leverling</td>\n",
       "      <td>North America</td>\n",
       "      <td>662.400</td>\n",
       "      <td>0.10</td>\n",
       "    </tr>\n",
       "    <tr>\n",
       "      <th>3</th>\n",
       "      <td>4</td>\n",
       "      <td>Margaret Peacock</td>\n",
       "      <td>North America</td>\n",
       "      <td>375.000</td>\n",
       "      <td>0.25</td>\n",
       "    </tr>\n",
       "    <tr>\n",
       "      <th>4</th>\n",
       "      <td>7</td>\n",
       "      <td>Robert King</td>\n",
       "      <td>British Isles</td>\n",
       "      <td>232.085</td>\n",
       "      <td>0.05</td>\n",
       "    </tr>\n",
       "  </tbody>\n",
       "</table>\n",
       "</div>"
      ],
      "text/plain": [
       "   EmployeeId              Name         Region  OrderTotal  Discount\n",
       "0           6    Michael Suyama  British Isles    1272.000      0.00\n",
       "1           9    Anne Dodsworth  British Isles     714.000      0.00\n",
       "2           3   Janet Leverling  North America     662.400      0.10\n",
       "3           4  Margaret Peacock  North America     375.000      0.25\n",
       "4           7       Robert King  British Isles     232.085      0.05"
      ]
     },
     "execution_count": 70,
     "metadata": {},
     "output_type": "execute_result"
    }
   ],
   "source": [
    "c.execute(\"\"\"SELECT EmployeeId\n",
    "               ,FirstName || ' ' || LastName\n",
    "               AS 'Name', \n",
    "               Quantity*(OrderDetail.UnitPrice - (OrderDetail.UnitPrice*Discount))\n",
    "               AS 'OrderTotal'\n",
    "               FROM [Order]\n",
    "               LEFT OUTER JOIN Employee\n",
    "               ON [Order].EmployeeId=Employee.Id\n",
    "               LEFT OUTER JOIN OrderDetail\n",
    "               ON [Order].Id=OrderDetail.OrderId\n",
    "               GROUP BY EmployeeId\n",
    "               ORDER BY SUM(OrderTotal) DESC;\"\"\")\n",
    "df = pd.DataFrame(c.fetchall())\n",
    "df.columns = [x[0] for x in c.description]\n",
    "df.head()"
   ]
  },
  {
   "cell_type": "code",
   "execution_count": 79,
   "metadata": {},
   "outputs": [
    {
     "data": {
      "image/png": "[encoded data removed]",
      "text/plain": [
       "<Figure size 432x288 with 1 Axes>"
      ]
     },
     "metadata": {
      "needs_background": "light"
     },
     "output_type": "display_data"
    }
   ],
   "source": [
    "plt.bar(df['EmployeeId'], df['OrderTotal'])\n",
    "plt.hlines(y=df[\"OrderTotal\"].mean(), xmin=0, xmax=10, color='magenta')\n",
    "\n",
    "plt.title('Total value of orders per employee')\n",
    "plt.xlabel('Employee ID')\n",
    "plt.ylabel('Total Sales')\n",
    "\n",
    "plt.show()"
   ]
  }
 ],
 "metadata": {
  "kernelspec": {
   "display_name": "Python [conda env:learn-env] *",
   "language": "python",
   "name": "conda-env-learn-env-py"
  },
  "language_info": {
   "codemirror_mode": {
    "name": "ipython",
    "version": 3
   },
   "file_extension": ".py",
   "mimetype": "text/x-python",
   "name": "python",
   "nbconvert_exporter": "python",
   "pygments_lexer": "ipython3",
   "version": "3.6.6"
  }
 },
 "nbformat": 4,
 "nbformat_minor": 2
}
