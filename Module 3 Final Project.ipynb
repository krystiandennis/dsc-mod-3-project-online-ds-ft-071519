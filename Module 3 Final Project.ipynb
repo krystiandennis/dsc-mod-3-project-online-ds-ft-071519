{
 "cells": [
  {
   "cell_type": "markdown",
   "metadata": {},
   "source": [
    "# Module 3 Final Project - Hypothesis Testing Using Northwind Database\n",
    "\n",
    "* Student name: Krystian Dennis\n",
    "* Student pace: Full Time\n",
    "* Scheduled project review date/time: 19 September 2019 14:00pm \n",
    "* Instructor name: Abhineet Kulkarni\n",
    "* Blog post URL:"
   ]
  },
  {
   "cell_type": "markdown",
   "metadata": {},
   "source": [
    "## Business Understanding\n",
    "\n",
    "Northwind Traders is a company that imports and exports specialty foods worldwide. Although there has been a recent increase in sales, profits are down. In this project, we will uncover the root causes of this downtick in profitability and make sound business recommendations based on our findings to set profits on an upward trend. \n",
    "\n",
    "We are specifically asked if discounts significantly impact the quantity of items in an order and if so, what level of discount had the greatest impact? We will explore the data to answer these questions and find important relationships in the data provided."
   ]
  },
  {
   "cell_type": "markdown",
   "metadata": {},
   "source": [
    "## Northwind Database\n",
    "\n",
    "Microsoft created the Northwind sample database to demonstrate features of the SQL server and Microsoft Access. The dataset provides a series of tables and their relationships shown below:\n",
    "\n",
    "<img src='Northwind_ERD_updated.png' height=100% width=100%>"
   ]
  },
  {
   "cell_type": "markdown",
   "metadata": {},
   "source": [
    "## Import Libraries"
   ]
  },
  {
   "cell_type": "code",
   "execution_count": 1,
   "metadata": {},
   "outputs": [
    {
     "name": "stdout",
     "output_type": "stream",
     "text": [
      "Requirement already satisfied: researchpy in c:\\users\\krystiandennis\\anaconda3\\envs\\learn-env\\lib\\site-packages (0.1.7)\n",
      "Requirement already satisfied: statsmodels in c:\\users\\krystiandennis\\anaconda3\\envs\\learn-env\\lib\\site-packages (from researchpy) (0.9.0)\n",
      "Requirement already satisfied: numpy in c:\\users\\krystiandennis\\anaconda3\\envs\\learn-env\\lib\\site-packages (from researchpy) (1.16.4)\n",
      "Requirement already satisfied: pandas in c:\\users\\krystiandennis\\anaconda3\\envs\\learn-env\\lib\\site-packages (from researchpy) (0.23.4)\n",
      "Requirement already satisfied: scipy in c:\\users\\krystiandennis\\anaconda3\\envs\\learn-env\\lib\\site-packages (from researchpy) (1.1.0)\n",
      "Requirement already satisfied: python-dateutil>=2.5.0 in c:\\users\\krystiandennis\\anaconda3\\envs\\learn-env\\lib\\site-packages (from pandas->researchpy) (2.8.0)\n",
      "Requirement already satisfied: pytz>=2011k in c:\\users\\krystiandennis\\anaconda3\\envs\\learn-env\\lib\\site-packages (from pandas->researchpy) (2018.5)\n",
      "Requirement already satisfied: six>=1.5 in c:\\users\\krystiandennis\\anaconda3\\envs\\learn-env\\lib\\site-packages (from python-dateutil>=2.5.0->pandas->researchpy) (1.11.0)\n"
     ]
    },
    {
     "name": "stderr",
     "output_type": "stream",
     "text": [
      "pexpect 4.6.0 requires ptyprocess>=0.5, which is not installed.\n",
      "You are using pip version 10.0.1, however version 19.2.3 is available.\n",
      "You should consider upgrading via the 'python -m pip install --upgrade pip' command.\n"
     ]
    }
   ],
   "source": [
    "!pip install researchpy\n",
    "\n",
    "import sqlite3 \n",
    "import pandas as pd\n",
    "\n",
    "import numpy as np\n",
    "\n",
    "from scipy import stats\n",
    "from scipy.stats import t\n",
    "\n",
    "from statistics import mean, stdev\n",
    "\n",
    "from statsmodels.formula.api import ols\n",
    "import statsmodels.api as sm\n",
    "from statsmodels.stats.multicomp import pairwise_tukeyhsd\n",
    "from statsmodels.stats.multicomp import MultiComparison\n",
    "from statsmodels.stats.power import TTestIndPower, TTestPower\n",
    "\n",
    "import researchpy as rp\n",
    "\n",
    "import matplotlib.pyplot as plt\n",
    "%matplotlib inline\n",
    "import seaborn as sns\n",
    "\n",
    "import warnings\n",
    "warnings.filterwarnings(\"ignore\")"
   ]
  },
  {
   "cell_type": "code",
   "execution_count": 2,
   "metadata": {},
   "outputs": [],
   "source": [
    "conn = sqlite3.connect('Northwind_small.sqlite')\n",
    "c = conn.cursor()"
   ]
  },
  {
   "cell_type": "code",
   "execution_count": 3,
   "metadata": {},
   "outputs": [
    {
     "data": {
      "text/plain": [
       "['Employee',\n",
       " 'Category',\n",
       " 'Customer',\n",
       " 'Shipper',\n",
       " 'Supplier',\n",
       " 'Order',\n",
       " 'Product',\n",
       " 'OrderDetail',\n",
       " 'CustomerCustomerDemo',\n",
       " 'CustomerDemographic',\n",
       " 'Region',\n",
       " 'Territory',\n",
       " 'EmployeeTerritory']"
      ]
     },
     "execution_count": 3,
     "metadata": {},
     "output_type": "execute_result"
    }
   ],
   "source": [
    "table_names = [x[0] for x in c.execute(\"SELECT name from sqlite_master WHERE type ='table';\").fetchall()]\n",
    "table_names"
   ]
  },
  {
   "cell_type": "code",
   "execution_count": 4,
   "metadata": {},
   "outputs": [
    {
     "data": {
      "text/html": [
       "<div>\n",
       "<style scoped>\n",
       "    .dataframe tbody tr th:only-of-type {\n",
       "        vertical-align: middle;\n",
       "    }\n",
       "\n",
       "    .dataframe tbody tr th {\n",
       "        vertical-align: top;\n",
       "    }\n",
       "\n",
       "    .dataframe thead th {\n",
       "        text-align: right;\n",
       "    }\n",
       "</style>\n",
       "<table border=\"1\" class=\"dataframe\">\n",
       "  <thead>\n",
       "    <tr style=\"text-align: right;\">\n",
       "      <th></th>\n",
       "      <th>Id</th>\n",
       "      <th>OrderDate</th>\n",
       "      <th>Sales Total</th>\n",
       "    </tr>\n",
       "  </thead>\n",
       "  <tbody>\n",
       "    <tr>\n",
       "      <th>0</th>\n",
       "      <td>10285</td>\n",
       "      <td>2012-08-20</td>\n",
       "      <td>648.0</td>\n",
       "    </tr>\n",
       "    <tr>\n",
       "      <th>1</th>\n",
       "      <td>10294</td>\n",
       "      <td>2012-08-30</td>\n",
       "      <td>259.2</td>\n",
       "    </tr>\n",
       "    <tr>\n",
       "      <th>2</th>\n",
       "      <td>10317</td>\n",
       "      <td>2012-09-30</td>\n",
       "      <td>288.0</td>\n",
       "    </tr>\n",
       "    <tr>\n",
       "      <th>3</th>\n",
       "      <td>10348</td>\n",
       "      <td>2012-11-07</td>\n",
       "      <td>216.0</td>\n",
       "    </tr>\n",
       "    <tr>\n",
       "      <th>4</th>\n",
       "      <td>10354</td>\n",
       "      <td>2012-11-14</td>\n",
       "      <td>172.8</td>\n",
       "    </tr>\n",
       "  </tbody>\n",
       "</table>\n",
       "</div>"
      ],
      "text/plain": [
       "      Id   OrderDate  Sales Total\n",
       "0  10285  2012-08-20        648.0\n",
       "1  10294  2012-08-30        259.2\n",
       "2  10317  2012-09-30        288.0\n",
       "3  10348  2012-11-07        216.0\n",
       "4  10354  2012-11-14        172.8"
      ]
     },
     "metadata": {},
     "output_type": "display_data"
    },
    {
     "name": "stdout",
     "output_type": "stream",
     "text": [
      "<class 'pandas.core.frame.DataFrame'>\n",
      "RangeIndex: 2155 entries, 0 to 2154\n",
      "Data columns (total 3 columns):\n",
      "Id             2155 non-null int64\n",
      "OrderDate      2155 non-null object\n",
      "Sales Total    2155 non-null float64\n",
      "dtypes: float64(1), int64(1), object(1)\n",
      "memory usage: 50.6+ KB\n"
     ]
    },
    {
     "data": {
      "text/plain": [
       "None"
      ]
     },
     "metadata": {},
     "output_type": "display_data"
    },
    {
     "data": {
      "text/html": [
       "<div>\n",
       "<style scoped>\n",
       "    .dataframe tbody tr th:only-of-type {\n",
       "        vertical-align: middle;\n",
       "    }\n",
       "\n",
       "    .dataframe tbody tr th {\n",
       "        vertical-align: top;\n",
       "    }\n",
       "\n",
       "    .dataframe thead th {\n",
       "        text-align: right;\n",
       "    }\n",
       "</style>\n",
       "<table border=\"1\" class=\"dataframe\">\n",
       "  <thead>\n",
       "    <tr style=\"text-align: right;\">\n",
       "      <th></th>\n",
       "      <th>Id</th>\n",
       "      <th>Sales Total</th>\n",
       "    </tr>\n",
       "  </thead>\n",
       "  <tbody>\n",
       "    <tr>\n",
       "      <th>count</th>\n",
       "      <td>2155.000000</td>\n",
       "      <td>2155.000000</td>\n",
       "    </tr>\n",
       "    <tr>\n",
       "      <th>mean</th>\n",
       "      <td>10659.375870</td>\n",
       "      <td>628.519067</td>\n",
       "    </tr>\n",
       "    <tr>\n",
       "      <th>std</th>\n",
       "      <td>241.378032</td>\n",
       "      <td>1036.466980</td>\n",
       "    </tr>\n",
       "    <tr>\n",
       "      <th>min</th>\n",
       "      <td>10248.000000</td>\n",
       "      <td>4.800000</td>\n",
       "    </tr>\n",
       "    <tr>\n",
       "      <th>25%</th>\n",
       "      <td>10451.000000</td>\n",
       "      <td>154.000000</td>\n",
       "    </tr>\n",
       "    <tr>\n",
       "      <th>50%</th>\n",
       "      <td>10657.000000</td>\n",
       "      <td>360.000000</td>\n",
       "    </tr>\n",
       "    <tr>\n",
       "      <th>75%</th>\n",
       "      <td>10862.500000</td>\n",
       "      <td>722.250000</td>\n",
       "    </tr>\n",
       "    <tr>\n",
       "      <th>max</th>\n",
       "      <td>11077.000000</td>\n",
       "      <td>15810.000000</td>\n",
       "    </tr>\n",
       "  </tbody>\n",
       "</table>\n",
       "</div>"
      ],
      "text/plain": [
       "                 Id   Sales Total\n",
       "count   2155.000000   2155.000000\n",
       "mean   10659.375870    628.519067\n",
       "std      241.378032   1036.466980\n",
       "min    10248.000000      4.800000\n",
       "25%    10451.000000    154.000000\n",
       "50%    10657.000000    360.000000\n",
       "75%    10862.500000    722.250000\n",
       "max    11077.000000  15810.000000"
      ]
     },
     "metadata": {},
     "output_type": "display_data"
    },
    {
     "data": {
      "text/plain": [
       "(2155, 3)"
      ]
     },
     "execution_count": 4,
     "metadata": {},
     "output_type": "execute_result"
    }
   ],
   "source": [
    "c.execute(\"\"\"SELECT [Order].Id, OrderDate, (UnitPrice*Quantity) AS 'Sales Total'\n",
    "               FROM OrderDetail\n",
    "               JOIN [Order]\n",
    "               ON [Order].Id = OrderDetail.OrderId\n",
    "               ORDER BY ProductId;\"\"\")\n",
    "df = pd.DataFrame(c.fetchall())\n",
    "df.columns = [x[0] for x in c.description]\n",
    "display(df.head())\n",
    "display(df.info())\n",
    "display(df.describe())\n",
    "np.shape(df)"
   ]
  },
  {
   "cell_type": "code",
   "execution_count": 5,
   "metadata": {},
   "outputs": [],
   "source": [
    "df['date_of_order'] = pd.to_datetime(df['OrderDate']).dt.to_period('M')"
   ]
  },
  {
   "cell_type": "code",
   "execution_count": 6,
   "metadata": {},
   "outputs": [
    {
     "data": {
      "text/plain": [
       "Text(0, 0.5, 'Total Sales in Dollars\\n')"
      ]
     },
     "execution_count": 6,
     "metadata": {},
     "output_type": "execute_result"
    },
    {
     "data": {
      "image/png": "[encoded data removed]",
      "text/plain": [
       "<Figure size 1080x360 with 1 Axes>"
      ]
     },
     "metadata": {
      "needs_background": "light"
     },
     "output_type": "display_data"
    }
   ],
   "source": [
    "plt.figure(figsize=(15,5))\n",
    "df.groupby(['date_of_order']).sum()['Sales Total'].plot(color='#7B68EE', marker='o')\n",
    "plt.title('Total Monthly Sales\\n', fontsize = 18)\n",
    "plt.xlabel('Month and Year of Sale\\n', fontsize = 14)\n",
    "plt.ylabel('Total Sales in Dollars\\n', fontsize = 14)"
   ]
  },
  {
   "cell_type": "markdown",
   "metadata": {},
   "source": [
    "## Hypothesis Test 1"
   ]
  },
  {
   "cell_type": "markdown",
   "metadata": {},
   "source": [
    "## Does discount amount have a statistically significant effect on the quantity of a product in an order? If so, at what level(s) of discount?"
   ]
  },
  {
   "cell_type": "markdown",
   "metadata": {},
   "source": [
    "### Part 1 - Discount vs. No Discount"
   ]
  },
  {
   "cell_type": "markdown",
   "metadata": {},
   "source": [
    "> $H_0$: Discounts do not have a statistically significant effect on the quantity of products customers order.\n",
    "\n",
    "> $H_1$: Discounts do have a statistically significant impact on the number of products customers order.\n",
    "\n",
    "> $\\alpha$ = 0.05"
   ]
  },
  {
   "cell_type": "code",
   "execution_count": 7,
   "metadata": {
    "scrolled": true
   },
   "outputs": [
    {
     "data": {
      "text/html": [
       "<div>\n",
       "<style scoped>\n",
       "    .dataframe tbody tr th:only-of-type {\n",
       "        vertical-align: middle;\n",
       "    }\n",
       "\n",
       "    .dataframe tbody tr th {\n",
       "        vertical-align: top;\n",
       "    }\n",
       "\n",
       "    .dataframe thead th {\n",
       "        text-align: right;\n",
       "    }\n",
       "</style>\n",
       "<table border=\"1\" class=\"dataframe\">\n",
       "  <thead>\n",
       "    <tr style=\"text-align: right;\">\n",
       "      <th></th>\n",
       "      <th>Quantity</th>\n",
       "      <th>Discount</th>\n",
       "      <th>UnitPrice</th>\n",
       "      <th>ProductId</th>\n",
       "      <th>CategoryId</th>\n",
       "      <th>CategoryName</th>\n",
       "    </tr>\n",
       "  </thead>\n",
       "  <tbody>\n",
       "    <tr>\n",
       "      <th>0</th>\n",
       "      <td>45</td>\n",
       "      <td>0.20</td>\n",
       "      <td>14.4</td>\n",
       "      <td>1</td>\n",
       "      <td>1</td>\n",
       "      <td>Beverages</td>\n",
       "    </tr>\n",
       "    <tr>\n",
       "      <th>1</th>\n",
       "      <td>18</td>\n",
       "      <td>0.00</td>\n",
       "      <td>14.4</td>\n",
       "      <td>1</td>\n",
       "      <td>1</td>\n",
       "      <td>Beverages</td>\n",
       "    </tr>\n",
       "    <tr>\n",
       "      <th>2</th>\n",
       "      <td>20</td>\n",
       "      <td>0.00</td>\n",
       "      <td>14.4</td>\n",
       "      <td>1</td>\n",
       "      <td>1</td>\n",
       "      <td>Beverages</td>\n",
       "    </tr>\n",
       "    <tr>\n",
       "      <th>3</th>\n",
       "      <td>15</td>\n",
       "      <td>0.15</td>\n",
       "      <td>14.4</td>\n",
       "      <td>1</td>\n",
       "      <td>1</td>\n",
       "      <td>Beverages</td>\n",
       "    </tr>\n",
       "    <tr>\n",
       "      <th>4</th>\n",
       "      <td>12</td>\n",
       "      <td>0.00</td>\n",
       "      <td>14.4</td>\n",
       "      <td>1</td>\n",
       "      <td>1</td>\n",
       "      <td>Beverages</td>\n",
       "    </tr>\n",
       "  </tbody>\n",
       "</table>\n",
       "</div>"
      ],
      "text/plain": [
       "   Quantity  Discount  UnitPrice  ProductId  CategoryId CategoryName\n",
       "0        45      0.20       14.4          1           1    Beverages\n",
       "1        18      0.00       14.4          1           1    Beverages\n",
       "2        20      0.00       14.4          1           1    Beverages\n",
       "3        15      0.15       14.4          1           1    Beverages\n",
       "4        12      0.00       14.4          1           1    Beverages"
      ]
     },
     "metadata": {},
     "output_type": "display_data"
    },
    {
     "name": "stdout",
     "output_type": "stream",
     "text": [
      "<class 'pandas.core.frame.DataFrame'>\n",
      "RangeIndex: 2155 entries, 0 to 2154\n",
      "Data columns (total 6 columns):\n",
      "Quantity        2155 non-null int64\n",
      "Discount        2155 non-null float64\n",
      "UnitPrice       2155 non-null float64\n",
      "ProductId       2155 non-null int64\n",
      "CategoryId      2155 non-null int64\n",
      "CategoryName    2155 non-null object\n",
      "dtypes: float64(2), int64(3), object(1)\n",
      "memory usage: 101.1+ KB\n"
     ]
    },
    {
     "data": {
      "text/plain": [
       "None"
      ]
     },
     "metadata": {},
     "output_type": "display_data"
    },
    {
     "data": {
      "text/html": [
       "<div>\n",
       "<style scoped>\n",
       "    .dataframe tbody tr th:only-of-type {\n",
       "        vertical-align: middle;\n",
       "    }\n",
       "\n",
       "    .dataframe tbody tr th {\n",
       "        vertical-align: top;\n",
       "    }\n",
       "\n",
       "    .dataframe thead th {\n",
       "        text-align: right;\n",
       "    }\n",
       "</style>\n",
       "<table border=\"1\" class=\"dataframe\">\n",
       "  <thead>\n",
       "    <tr style=\"text-align: right;\">\n",
       "      <th></th>\n",
       "      <th>Quantity</th>\n",
       "      <th>Discount</th>\n",
       "      <th>UnitPrice</th>\n",
       "      <th>ProductId</th>\n",
       "      <th>CategoryId</th>\n",
       "    </tr>\n",
       "  </thead>\n",
       "  <tbody>\n",
       "    <tr>\n",
       "      <th>count</th>\n",
       "      <td>2155.000000</td>\n",
       "      <td>2155.000000</td>\n",
       "      <td>2155.000000</td>\n",
       "      <td>2155.000000</td>\n",
       "      <td>2155.000000</td>\n",
       "    </tr>\n",
       "    <tr>\n",
       "      <th>mean</th>\n",
       "      <td>23.812993</td>\n",
       "      <td>0.056167</td>\n",
       "      <td>26.218520</td>\n",
       "      <td>40.793039</td>\n",
       "      <td>4.135499</td>\n",
       "    </tr>\n",
       "    <tr>\n",
       "      <th>std</th>\n",
       "      <td>19.022047</td>\n",
       "      <td>0.083450</td>\n",
       "      <td>29.827418</td>\n",
       "      <td>22.159019</td>\n",
       "      <td>2.378567</td>\n",
       "    </tr>\n",
       "    <tr>\n",
       "      <th>min</th>\n",
       "      <td>1.000000</td>\n",
       "      <td>0.000000</td>\n",
       "      <td>2.000000</td>\n",
       "      <td>1.000000</td>\n",
       "      <td>1.000000</td>\n",
       "    </tr>\n",
       "    <tr>\n",
       "      <th>25%</th>\n",
       "      <td>10.000000</td>\n",
       "      <td>0.000000</td>\n",
       "      <td>12.000000</td>\n",
       "      <td>22.000000</td>\n",
       "      <td>2.000000</td>\n",
       "    </tr>\n",
       "    <tr>\n",
       "      <th>50%</th>\n",
       "      <td>20.000000</td>\n",
       "      <td>0.000000</td>\n",
       "      <td>18.400000</td>\n",
       "      <td>41.000000</td>\n",
       "      <td>4.000000</td>\n",
       "    </tr>\n",
       "    <tr>\n",
       "      <th>75%</th>\n",
       "      <td>30.000000</td>\n",
       "      <td>0.100000</td>\n",
       "      <td>32.000000</td>\n",
       "      <td>60.000000</td>\n",
       "      <td>6.000000</td>\n",
       "    </tr>\n",
       "    <tr>\n",
       "      <th>max</th>\n",
       "      <td>130.000000</td>\n",
       "      <td>0.250000</td>\n",
       "      <td>263.500000</td>\n",
       "      <td>77.000000</td>\n",
       "      <td>8.000000</td>\n",
       "    </tr>\n",
       "  </tbody>\n",
       "</table>\n",
       "</div>"
      ],
      "text/plain": [
       "          Quantity     Discount    UnitPrice    ProductId   CategoryId\n",
       "count  2155.000000  2155.000000  2155.000000  2155.000000  2155.000000\n",
       "mean     23.812993     0.056167    26.218520    40.793039     4.135499\n",
       "std      19.022047     0.083450    29.827418    22.159019     2.378567\n",
       "min       1.000000     0.000000     2.000000     1.000000     1.000000\n",
       "25%      10.000000     0.000000    12.000000    22.000000     2.000000\n",
       "50%      20.000000     0.000000    18.400000    41.000000     4.000000\n",
       "75%      30.000000     0.100000    32.000000    60.000000     6.000000\n",
       "max     130.000000     0.250000   263.500000    77.000000     8.000000"
      ]
     },
     "metadata": {},
     "output_type": "display_data"
    },
    {
     "data": {
      "text/plain": [
       "(2155, 6)"
      ]
     },
     "execution_count": 7,
     "metadata": {},
     "output_type": "execute_result"
    }
   ],
   "source": [
    "c.execute(\"\"\"SELECT Quantity, Discount, OrderDetail.UnitPrice, ProductId, CategoryId, CategoryName\n",
    "               FROM OrderDetail\n",
    "               JOIN Product\n",
    "               ON ProductId = Product.Id\n",
    "               JOIN Category \n",
    "               ON CategoryId = Category.Id \n",
    "               ORDER BY ProductId;\"\"\")\n",
    "df = pd.DataFrame(c.fetchall())\n",
    "df.columns = [x[0] for x in c.description]\n",
    "display(df.head())\n",
    "display(df.info())\n",
    "display(df.describe())\n",
    "np.shape(df)"
   ]
  },
  {
   "cell_type": "code",
   "execution_count": 8,
   "metadata": {},
   "outputs": [
    {
     "data": {
      "text/plain": [
       "0.00    1317\n",
       "0.05     185\n",
       "0.10     173\n",
       "0.20     161\n",
       "0.15     157\n",
       "0.25     154\n",
       "0.03       3\n",
       "0.02       2\n",
       "0.01       1\n",
       "0.04       1\n",
       "0.06       1\n",
       "Name: Discount, dtype: int64"
      ]
     },
     "execution_count": 8,
     "metadata": {},
     "output_type": "execute_result"
    }
   ],
   "source": [
    "df['Discount'].value_counts()"
   ]
  },
  {
   "cell_type": "code",
   "execution_count": 9,
   "metadata": {},
   "outputs": [],
   "source": [
    "drop = [0.01, 0.02, 0.03, 0.04, 0.06]\n",
    "df = df[~df['Discount'].isin(drop)]"
   ]
  },
  {
   "cell_type": "code",
   "execution_count": 10,
   "metadata": {},
   "outputs": [
    {
     "data": {
      "text/plain": [
       "0.00    1317\n",
       "0.05     185\n",
       "0.10     173\n",
       "0.20     161\n",
       "0.15     157\n",
       "0.25     154\n",
       "Name: Discount, dtype: int64"
      ]
     },
     "execution_count": 10,
     "metadata": {},
     "output_type": "execute_result"
    }
   ],
   "source": [
    "df['Discount'].value_counts()"
   ]
  },
  {
   "cell_type": "code",
   "execution_count": 11,
   "metadata": {},
   "outputs": [
    {
     "data": {
      "text/plain": [
       "1    18\n",
       "2    20\n",
       "4    12\n",
       "6    10\n",
       "7    24\n",
       "Name: Quantity, dtype: int64"
      ]
     },
     "execution_count": 11,
     "metadata": {},
     "output_type": "execute_result"
    }
   ],
   "source": [
    "no_discount = df.loc[df['Discount'] == 0, 'Quantity']\n",
    "no_discount.head()"
   ]
  },
  {
   "cell_type": "code",
   "execution_count": 12,
   "metadata": {},
   "outputs": [
    {
     "data": {
      "text/plain": [
       "0     45\n",
       "3     15\n",
       "5     15\n",
       "9     40\n",
       "10     8\n",
       "Name: Quantity, dtype: int64"
      ]
     },
     "execution_count": 12,
     "metadata": {},
     "output_type": "execute_result"
    }
   ],
   "source": [
    "discount = df.loc[df['Discount'] != 0, 'Quantity']\n",
    "discount.head()"
   ]
  },
  {
   "cell_type": "code",
   "execution_count": 13,
   "metadata": {},
   "outputs": [],
   "source": [
    "df['Has Discount'] = (df['Discount'] != 0)"
   ]
  },
  {
   "cell_type": "code",
   "execution_count": 14,
   "metadata": {},
   "outputs": [
    {
     "data": {
      "text/plain": [
       "(0, 9)"
      ]
     },
     "execution_count": 14,
     "metadata": {},
     "output_type": "execute_result"
    },
    {
     "data": {
      "image/png": "[encoded data removed]",
      "text/plain": [
       "<Figure size 1080x504 with 1 Axes>"
      ]
     },
     "metadata": {
      "needs_background": "light"
     },
     "output_type": "display_data"
    }
   ],
   "source": [
    "fig, ax = plt.subplots(figsize=(15,7))\n",
    "df.groupby(['CategoryId', 'Has Discount']).mean()['Quantity'].unstack().plot(ax=ax, marker='o', linestyle='', ms=10)\n",
    "plt.xlabel('\\nCategory', fontsize = 14)\n",
    "plt.ylabel('Average Quantity Per Order\\n', fontsize = 14)\n",
    "plt.title('Discount and Average Quantity Ordered\\n', fontsize = 18)\n",
    "ax.set_xlim(0,9)"
   ]
  },
  {
   "cell_type": "code",
   "execution_count": 15,
   "metadata": {},
   "outputs": [
    {
     "data": {
      "image/png": "[encoded data removed]",
      "text/plain": [
       "<Figure size 864x576 with 1 Axes>"
      ]
     },
     "metadata": {},
     "output_type": "display_data"
    }
   ],
   "source": [
    "sns.set(rc={'figure.figsize':(12, 8)})\n",
    "sns.distplot(np.log(no_discount), label='No Discount')\n",
    "sns.distplot(np.log(discount), label='Discount')\n",
    "plt.axvline(np.mean(np.log(no_discount)), color='#FF0000', label='No Discount mean')\n",
    "plt.axvline(np.mean(np.log(discount)), color='#008000', label='Discount mean')\n",
    "plt.title('Average Quantity Per Order With or Without Discount (Log Transformed)\\n', fontsize = 18)\n",
    "plt.legend()\n",
    "plt.show();"
   ]
  },
  {
   "cell_type": "code",
   "execution_count": 16,
   "metadata": {},
   "outputs": [
    {
     "data": {
      "text/plain": [
       "Text(0, 0.5, '')"
      ]
     },
     "execution_count": 16,
     "metadata": {},
     "output_type": "execute_result"
    },
    {
     "data": {
      "image/png": "[encoded data removed]",
      "text/plain": [
       "<Figure size 576x576 with 3 Axes>"
      ]
     },
     "metadata": {},
     "output_type": "display_data"
    }
   ],
   "source": [
    "df_discounts = df.drop(df[(df['Discount'] == 0.00)].index)\n",
    "df_discounts['OrderTotal'] = df['Quantity']*(df['UnitPrice']*(1-df['Discount']))\n",
    "\n",
    "fig, (ax1, ax2, ax3) = plt.subplots(3, 1, figsize=(8,8))\n",
    "fig.subplots_adjust(hspace=0.4);\n",
    "df_discounts.groupby(['Discount'])['Discount'].count().plot(kind='barh', ax=ax1)\n",
    "df_discounts.groupby(['Discount'])['Quantity'].mean().plot(kind='barh', ax=ax2)\n",
    "df_discounts.groupby(['Discount'])['OrderTotal'].mean().plot(kind='barh', ax=ax3)\n",
    "ax1.set_title('Number Of Orders Per Level of Discount\\n')\n",
    "ax1.set_ylabel('')\n",
    "ax2.set_title('\\nAverage Quantity Per Order Per Discount Tier\\n')\n",
    "ax2.set_ylabel('')\n",
    "ax3.set_title('\\nAverage Revenue Per Discount Tier\\n')\n",
    "ax3.set_ylabel('')"
   ]
  },
  {
   "cell_type": "code",
   "execution_count": 17,
   "metadata": {},
   "outputs": [
    {
     "data": {
      "text/plain": [
       "(27.35, 21.72, 5.64)"
      ]
     },
     "execution_count": 17,
     "metadata": {},
     "output_type": "execute_result"
    }
   ],
   "source": [
    "no_discount_mean = np.mean(no_discount)\n",
    "discount_mean = np.mean(discount)\n",
    "mean_difference = discount_mean - no_discount_mean\n",
    "round(discount_mean,2), round(no_discount_mean,2), round(mean_difference,2)"
   ]
  },
  {
   "cell_type": "code",
   "execution_count": 18,
   "metadata": {},
   "outputs": [],
   "source": [
    "alpha = 0.05"
   ]
  },
  {
   "cell_type": "markdown",
   "metadata": {},
   "source": [
    "Testing for Normality"
   ]
  },
  {
   "cell_type": "code",
   "execution_count": 19,
   "metadata": {},
   "outputs": [
    {
     "data": {
      "text/plain": [
       "(0.8673426508903503, 6.471277454941499e-26)"
      ]
     },
     "execution_count": 19,
     "metadata": {},
     "output_type": "execute_result"
    }
   ],
   "source": [
    "#distribution not normal\n",
    "stats.shapiro(discount)"
   ]
  },
  {
   "cell_type": "code",
   "execution_count": 20,
   "metadata": {
    "scrolled": true
   },
   "outputs": [
    {
     "data": {
      "text/plain": [
       "(0.8434571027755737, 3.803856556577728e-34)"
      ]
     },
     "execution_count": 20,
     "metadata": {},
     "output_type": "execute_result"
    }
   ],
   "source": [
    "#distribution not normal\n",
    "stats.shapiro(no_discount)"
   ]
  },
  {
   "cell_type": "markdown",
   "metadata": {},
   "source": [
    "Testing for Homogeneity of Variance"
   ]
  },
  {
   "cell_type": "code",
   "execution_count": 21,
   "metadata": {},
   "outputs": [
    {
     "data": {
      "text/plain": [
       "LeveneResult(statistic=14.296405109976126, pvalue=0.0001604308631855048)"
      ]
     },
     "execution_count": 21,
     "metadata": {},
     "output_type": "execute_result"
    }
   ],
   "source": [
    "# perform Levene test for homogeneity of variance\n",
    "# variance not homogeneous\n",
    "stats.levene(discount, no_discount)"
   ]
  },
  {
   "cell_type": "markdown",
   "metadata": {},
   "source": [
    "Welch's T Test"
   ]
  },
  {
   "cell_type": "code",
   "execution_count": 22,
   "metadata": {},
   "outputs": [
    {
     "data": {
      "text/html": [
       "<div>\n",
       "<style scoped>\n",
       "    .dataframe tbody tr th:only-of-type {\n",
       "        vertical-align: middle;\n",
       "    }\n",
       "\n",
       "    .dataframe tbody tr th {\n",
       "        vertical-align: top;\n",
       "    }\n",
       "\n",
       "    .dataframe thead th {\n",
       "        text-align: right;\n",
       "    }\n",
       "</style>\n",
       "<table border=\"1\" class=\"dataframe\">\n",
       "  <thead>\n",
       "    <tr style=\"text-align: right;\">\n",
       "      <th></th>\n",
       "      <th>Variable</th>\n",
       "      <th>N</th>\n",
       "      <th>Mean</th>\n",
       "      <th>SD</th>\n",
       "      <th>SE</th>\n",
       "      <th>95% Conf.</th>\n",
       "      <th>Interval</th>\n",
       "    </tr>\n",
       "  </thead>\n",
       "  <tbody>\n",
       "    <tr>\n",
       "      <th>0</th>\n",
       "      <td>Quantity</td>\n",
       "      <td>830.0</td>\n",
       "      <td>27.354217</td>\n",
       "      <td>20.720667</td>\n",
       "      <td>0.719225</td>\n",
       "      <td>25.942501</td>\n",
       "      <td>28.765933</td>\n",
       "    </tr>\n",
       "    <tr>\n",
       "      <th>1</th>\n",
       "      <td>Quantity</td>\n",
       "      <td>1317.0</td>\n",
       "      <td>21.715262</td>\n",
       "      <td>17.507493</td>\n",
       "      <td>0.482426</td>\n",
       "      <td>20.768853</td>\n",
       "      <td>22.661671</td>\n",
       "    </tr>\n",
       "    <tr>\n",
       "      <th>2</th>\n",
       "      <td>combined</td>\n",
       "      <td>2147.0</td>\n",
       "      <td>23.895203</td>\n",
       "      <td>19.009580</td>\n",
       "      <td>0.410257</td>\n",
       "      <td>23.090659</td>\n",
       "      <td>24.699746</td>\n",
       "    </tr>\n",
       "  </tbody>\n",
       "</table>\n",
       "</div>"
      ],
      "text/plain": [
       "   Variable       N       Mean         SD        SE  95% Conf.   Interval\n",
       "0  Quantity   830.0  27.354217  20.720667  0.719225  25.942501  28.765933\n",
       "1  Quantity  1317.0  21.715262  17.507493  0.482426  20.768853  22.661671\n",
       "2  combined  2147.0  23.895203  19.009580  0.410257  23.090659  24.699746"
      ]
     },
     "metadata": {},
     "output_type": "display_data"
    },
    {
     "data": {
      "text/html": [
       "<div>\n",
       "<style scoped>\n",
       "    .dataframe tbody tr th:only-of-type {\n",
       "        vertical-align: middle;\n",
       "    }\n",
       "\n",
       "    .dataframe tbody tr th {\n",
       "        vertical-align: top;\n",
       "    }\n",
       "\n",
       "    .dataframe thead th {\n",
       "        text-align: right;\n",
       "    }\n",
       "</style>\n",
       "<table border=\"1\" class=\"dataframe\">\n",
       "  <thead>\n",
       "    <tr style=\"text-align: right;\">\n",
       "      <th></th>\n",
       "      <th>Welch's t-test</th>\n",
       "      <th>results</th>\n",
       "    </tr>\n",
       "  </thead>\n",
       "  <tbody>\n",
       "    <tr>\n",
       "      <th>0</th>\n",
       "      <td>Difference (Quantity - Quantity) =</td>\n",
       "      <td>5.6390</td>\n",
       "    </tr>\n",
       "    <tr>\n",
       "      <th>1</th>\n",
       "      <td>Degrees of freedom =</td>\n",
       "      <td>1545.6758</td>\n",
       "    </tr>\n",
       "    <tr>\n",
       "      <th>2</th>\n",
       "      <td>t =</td>\n",
       "      <td>6.5112</td>\n",
       "    </tr>\n",
       "    <tr>\n",
       "      <th>3</th>\n",
       "      <td>Two side test p value =</td>\n",
       "      <td>0.0000</td>\n",
       "    </tr>\n",
       "    <tr>\n",
       "      <th>4</th>\n",
       "      <td>Difference &gt; 0 p value =</td>\n",
       "      <td>1.0000</td>\n",
       "    </tr>\n",
       "    <tr>\n",
       "      <th>5</th>\n",
       "      <td>Difference &lt; 0 p value =</td>\n",
       "      <td>0.0000</td>\n",
       "    </tr>\n",
       "    <tr>\n",
       "      <th>6</th>\n",
       "      <td>Cohen's d =</td>\n",
       "      <td>0.2886</td>\n",
       "    </tr>\n",
       "    <tr>\n",
       "      <th>7</th>\n",
       "      <td>Hedge's g =</td>\n",
       "      <td>0.2885</td>\n",
       "    </tr>\n",
       "    <tr>\n",
       "      <th>8</th>\n",
       "      <td>Glass's delta =</td>\n",
       "      <td>0.2721</td>\n",
       "    </tr>\n",
       "    <tr>\n",
       "      <th>9</th>\n",
       "      <td>r =</td>\n",
       "      <td>0.1634</td>\n",
       "    </tr>\n",
       "  </tbody>\n",
       "</table>\n",
       "</div>"
      ],
      "text/plain": [
       "                        Welch's t-test    results\n",
       "0  Difference (Quantity - Quantity) =      5.6390\n",
       "1                Degrees of freedom =   1545.6758\n",
       "2                                 t =      6.5112\n",
       "3             Two side test p value =      0.0000\n",
       "4            Difference > 0 p value =      1.0000\n",
       "5            Difference < 0 p value =      0.0000\n",
       "6                         Cohen's d =      0.2886\n",
       "7                         Hedge's g =      0.2885\n",
       "8                     Glass's delta =      0.2721\n",
       "9                                 r =      0.1634"
      ]
     },
     "execution_count": 22,
     "metadata": {},
     "output_type": "execute_result"
    }
   ],
   "source": [
    "#welch's t done in researchpy \n",
    "#equal_variances = False to perform Welch's T Test\n",
    "descriptives, results = rp.ttest(discount, no_discount, equal_variances=False)\n",
    "display(descriptives)\n",
    "results"
   ]
  },
  {
   "cell_type": "code",
   "execution_count": 23,
   "metadata": {},
   "outputs": [
    {
     "name": "stdout",
     "output_type": "stream",
     "text": [
      "t-critical value: 1.6458398418218587\n"
     ]
    }
   ],
   "source": [
    "#t-critical value \n",
    "print ('t-critical value:',t.ppf(1 - 0.05, df=1546))\n",
    "\n",
    "#t value > t-critical value: difference is significant "
   ]
  },
  {
   "cell_type": "code",
   "execution_count": 24,
   "metadata": {},
   "outputs": [
    {
     "data": {
      "text/plain": [
       "0.9999999999629137"
      ]
     },
     "execution_count": 24,
     "metadata": {},
     "output_type": "execute_result"
    }
   ],
   "source": [
    "power = TTestIndPower()\n",
    "power_discount = power.power(effect_size=0.2886, nobs1=len(discount), alpha=alpha, ratio=len(no_discount)/len(discount), df=(len(discount) -1 + len(no_discount)-1), alternative='larger')\n",
    "power_discount"
   ]
  },
  {
   "cell_type": "markdown",
   "metadata": {},
   "source": [
    "- t value: 6.5112\n",
    "- t-critical value: 1.6458398418218587\n",
    "- p-value : 0.000 \n",
    "- cohen's d: 0.2886, small effect\n",
    "- power = 0.9999999999629137\n",
    "\n",
    "> $H_0$: Discounts do not have a statistically significant effect on the quantity of products customers order.\n",
    "\n",
    "> $H_1$: Discounts do have a statistically significant impact on the number of products customers order.\n",
    "    \n",
    "The findings are statistically significant! **We can reject the null hypothesis in support of the alternative.** We can say with 95% confidence that the mean quantity of products ordered is larger when there is a discount offered. \n",
    "\n",
    "We will take a look now as to how the level of discount effects sales."
   ]
  },
  {
   "cell_type": "markdown",
   "metadata": {},
   "source": [
    "### Part 2 - Level of Discount"
   ]
  },
  {
   "cell_type": "markdown",
   "metadata": {},
   "source": [
    "> $H_0$: Level of discount doesn not affect the quantity of products customers order.\n",
    "\n",
    "> $H_1$: Level of discount significantly impacts the number of products customers order.\n",
    "\n",
    "> $\\alpha$ = 0.05"
   ]
  },
  {
   "cell_type": "code",
   "execution_count": 25,
   "metadata": {},
   "outputs": [
    {
     "data": {
      "image/png": "[encoded data removed]",
      "text/plain": [
       "<Figure size 720x360 with 1 Axes>"
      ]
     },
     "metadata": {},
     "output_type": "display_data"
    }
   ],
   "source": [
    "df.boxplot('Quantity', by='Discount', figsize=(10, 5));"
   ]
  },
  {
   "cell_type": "code",
   "execution_count": 26,
   "metadata": {},
   "outputs": [],
   "source": [
    "disc_00 = df.loc[df['Discount'] == 0.00, 'Quantity']\n",
    "disc_05 = df.loc[df['Discount'] == 0.05, 'Quantity']\n",
    "disc_10 = df.loc[df['Discount'] == 0.10, 'Quantity']\n",
    "disc_15 = df.loc[df['Discount'] == 0.15, 'Quantity']\n",
    "disc_20 = df.loc[df['Discount'] == 0.20, 'Quantity']\n",
    "disc_25 = df.loc[df['Discount'] == 0.25, 'Quantity']"
   ]
  },
  {
   "cell_type": "code",
   "execution_count": 27,
   "metadata": {},
   "outputs": [
    {
     "data": {
      "text/plain": [
       "LeveneResult(statistic=2.9943951679841643, pvalue=0.010664285577385134)"
      ]
     },
     "execution_count": 27,
     "metadata": {},
     "output_type": "execute_result"
    }
   ],
   "source": [
    "stats.levene(disc_00,disc_05, disc_10, disc_15, disc_20, disc_25)"
   ]
  },
  {
   "cell_type": "code",
   "execution_count": 28,
   "metadata": {},
   "outputs": [
    {
     "data": {
      "text/plain": [
       "(0.8434571027755737, 3.803856556577728e-34)"
      ]
     },
     "execution_count": 28,
     "metadata": {},
     "output_type": "execute_result"
    }
   ],
   "source": [
    "stats.shapiro(disc_00)"
   ]
  },
  {
   "cell_type": "code",
   "execution_count": 29,
   "metadata": {},
   "outputs": [
    {
     "data": {
      "text/plain": [
       "(0.8356332778930664, 3.5543719660233175e-13)"
      ]
     },
     "execution_count": 29,
     "metadata": {},
     "output_type": "execute_result"
    }
   ],
   "source": [
    "stats.shapiro(disc_05)"
   ]
  },
  {
   "cell_type": "code",
   "execution_count": 30,
   "metadata": {},
   "outputs": [
    {
     "data": {
      "text/plain": [
       "(0.8002723455429077, 4.159971249851485e-14)"
      ]
     },
     "execution_count": 30,
     "metadata": {},
     "output_type": "execute_result"
    }
   ],
   "source": [
    "stats.shapiro(disc_10)"
   ]
  },
  {
   "cell_type": "code",
   "execution_count": 31,
   "metadata": {},
   "outputs": [
    {
     "data": {
      "text/plain": [
       "(0.8827876448631287, 8.372069704165597e-10)"
      ]
     },
     "execution_count": 31,
     "metadata": {},
     "output_type": "execute_result"
    }
   ],
   "source": [
    "stats.shapiro(disc_15)"
   ]
  },
  {
   "cell_type": "code",
   "execution_count": 32,
   "metadata": {},
   "outputs": [
    {
     "data": {
      "text/plain": [
       "(0.9130357503890991, 3.249125413162801e-08)"
      ]
     },
     "execution_count": 32,
     "metadata": {},
     "output_type": "execute_result"
    }
   ],
   "source": [
    "stats.shapiro(disc_20)"
   ]
  },
  {
   "cell_type": "code",
   "execution_count": 33,
   "metadata": {},
   "outputs": [
    {
     "data": {
      "text/plain": [
       "(0.8902021646499634, 2.6962121424389807e-09)"
      ]
     },
     "execution_count": 33,
     "metadata": {},
     "output_type": "execute_result"
    }
   ],
   "source": [
    "stats.shapiro(disc_25)"
   ]
  },
  {
   "cell_type": "code",
   "execution_count": 34,
   "metadata": {},
   "outputs": [
    {
     "name": "stdout",
     "output_type": "stream",
     "text": [
      "5% Discount:\n",
      "\n"
     ]
    },
    {
     "data": {
      "text/html": [
       "<div>\n",
       "<style scoped>\n",
       "    .dataframe tbody tr th:only-of-type {\n",
       "        vertical-align: middle;\n",
       "    }\n",
       "\n",
       "    .dataframe tbody tr th {\n",
       "        vertical-align: top;\n",
       "    }\n",
       "\n",
       "    .dataframe thead th {\n",
       "        text-align: right;\n",
       "    }\n",
       "</style>\n",
       "<table border=\"1\" class=\"dataframe\">\n",
       "  <thead>\n",
       "    <tr style=\"text-align: right;\">\n",
       "      <th></th>\n",
       "      <th>Variable</th>\n",
       "      <th>N</th>\n",
       "      <th>Mean</th>\n",
       "      <th>SD</th>\n",
       "      <th>SE</th>\n",
       "      <th>95% Conf.</th>\n",
       "      <th>Interval</th>\n",
       "    </tr>\n",
       "  </thead>\n",
       "  <tbody>\n",
       "    <tr>\n",
       "      <th>0</th>\n",
       "      <td>Quantity</td>\n",
       "      <td>185.0</td>\n",
       "      <td>28.010811</td>\n",
       "      <td>22.187685</td>\n",
       "      <td>1.631271</td>\n",
       "      <td>24.792410</td>\n",
       "      <td>31.229212</td>\n",
       "    </tr>\n",
       "    <tr>\n",
       "      <th>1</th>\n",
       "      <td>Quantity</td>\n",
       "      <td>1317.0</td>\n",
       "      <td>21.715262</td>\n",
       "      <td>17.507493</td>\n",
       "      <td>0.482426</td>\n",
       "      <td>20.768853</td>\n",
       "      <td>22.661671</td>\n",
       "    </tr>\n",
       "    <tr>\n",
       "      <th>2</th>\n",
       "      <td>combined</td>\n",
       "      <td>1502.0</td>\n",
       "      <td>22.490679</td>\n",
       "      <td>18.258295</td>\n",
       "      <td>0.471113</td>\n",
       "      <td>21.566569</td>\n",
       "      <td>23.414789</td>\n",
       "    </tr>\n",
       "  </tbody>\n",
       "</table>\n",
       "</div>"
      ],
      "text/plain": [
       "   Variable       N       Mean         SD        SE  95% Conf.   Interval\n",
       "0  Quantity   185.0  28.010811  22.187685  1.631271  24.792410  31.229212\n",
       "1  Quantity  1317.0  21.715262  17.507493  0.482426  20.768853  22.661671\n",
       "2  combined  1502.0  22.490679  18.258295  0.471113  21.566569  23.414789"
      ]
     },
     "metadata": {},
     "output_type": "display_data"
    },
    {
     "data": {
      "text/html": [
       "<div>\n",
       "<style scoped>\n",
       "    .dataframe tbody tr th:only-of-type {\n",
       "        vertical-align: middle;\n",
       "    }\n",
       "\n",
       "    .dataframe tbody tr th {\n",
       "        vertical-align: top;\n",
       "    }\n",
       "\n",
       "    .dataframe thead th {\n",
       "        text-align: right;\n",
       "    }\n",
       "</style>\n",
       "<table border=\"1\" class=\"dataframe\">\n",
       "  <thead>\n",
       "    <tr style=\"text-align: right;\">\n",
       "      <th></th>\n",
       "      <th>Welch's t-test</th>\n",
       "      <th>results</th>\n",
       "    </tr>\n",
       "  </thead>\n",
       "  <tbody>\n",
       "    <tr>\n",
       "      <th>0</th>\n",
       "      <td>Difference (Quantity - Quantity) =</td>\n",
       "      <td>6.2955</td>\n",
       "    </tr>\n",
       "    <tr>\n",
       "      <th>1</th>\n",
       "      <td>Degrees of freedom =</td>\n",
       "      <td>217.3603</td>\n",
       "    </tr>\n",
       "    <tr>\n",
       "      <th>2</th>\n",
       "      <td>t =</td>\n",
       "      <td>3.7008</td>\n",
       "    </tr>\n",
       "    <tr>\n",
       "      <th>3</th>\n",
       "      <td>Two side test p value =</td>\n",
       "      <td>0.0003</td>\n",
       "    </tr>\n",
       "    <tr>\n",
       "      <th>4</th>\n",
       "      <td>Difference &gt; 0 p value =</td>\n",
       "      <td>0.9999</td>\n",
       "    </tr>\n",
       "    <tr>\n",
       "      <th>5</th>\n",
       "      <td>Difference &lt; 0 p value =</td>\n",
       "      <td>0.0001</td>\n",
       "    </tr>\n",
       "    <tr>\n",
       "      <th>6</th>\n",
       "      <td>Cohen's d =</td>\n",
       "      <td>0.2906</td>\n",
       "    </tr>\n",
       "    <tr>\n",
       "      <th>7</th>\n",
       "      <td>Hedge's g =</td>\n",
       "      <td>0.2904</td>\n",
       "    </tr>\n",
       "    <tr>\n",
       "      <th>8</th>\n",
       "      <td>Glass's delta =</td>\n",
       "      <td>0.2837</td>\n",
       "    </tr>\n",
       "    <tr>\n",
       "      <th>9</th>\n",
       "      <td>r =</td>\n",
       "      <td>0.2435</td>\n",
       "    </tr>\n",
       "  </tbody>\n",
       "</table>\n",
       "</div>"
      ],
      "text/plain": [
       "                        Welch's t-test   results\n",
       "0  Difference (Quantity - Quantity) =     6.2955\n",
       "1                Degrees of freedom =   217.3603\n",
       "2                                 t =     3.7008\n",
       "3             Two side test p value =     0.0003\n",
       "4            Difference > 0 p value =     0.9999\n",
       "5            Difference < 0 p value =     0.0001\n",
       "6                         Cohen's d =     0.2906\n",
       "7                         Hedge's g =     0.2904\n",
       "8                     Glass's delta =     0.2837\n",
       "9                                 r =     0.2435"
      ]
     },
     "execution_count": 34,
     "metadata": {},
     "output_type": "execute_result"
    }
   ],
   "source": [
    "descriptives, results = rp.ttest(disc_05, disc_00, equal_variances=False)\n",
    "print('5% Discount:\\n')\n",
    "display(descriptives)\n",
    "results"
   ]
  },
  {
   "cell_type": "code",
   "execution_count": 35,
   "metadata": {},
   "outputs": [
    {
     "name": "stdout",
     "output_type": "stream",
     "text": [
      "10% Discount:\n",
      "\n"
     ]
    },
    {
     "data": {
      "text/html": [
       "<div>\n",
       "<style scoped>\n",
       "    .dataframe tbody tr th:only-of-type {\n",
       "        vertical-align: middle;\n",
       "    }\n",
       "\n",
       "    .dataframe tbody tr th {\n",
       "        vertical-align: top;\n",
       "    }\n",
       "\n",
       "    .dataframe thead th {\n",
       "        text-align: right;\n",
       "    }\n",
       "</style>\n",
       "<table border=\"1\" class=\"dataframe\">\n",
       "  <thead>\n",
       "    <tr style=\"text-align: right;\">\n",
       "      <th></th>\n",
       "      <th>Variable</th>\n",
       "      <th>N</th>\n",
       "      <th>Mean</th>\n",
       "      <th>SD</th>\n",
       "      <th>SE</th>\n",
       "      <th>95% Conf.</th>\n",
       "      <th>Interval</th>\n",
       "    </tr>\n",
       "  </thead>\n",
       "  <tbody>\n",
       "    <tr>\n",
       "      <th>0</th>\n",
       "      <td>Quantity</td>\n",
       "      <td>173.0</td>\n",
       "      <td>25.236994</td>\n",
       "      <td>21.186503</td>\n",
       "      <td>1.610780</td>\n",
       "      <td>22.057553</td>\n",
       "      <td>28.416436</td>\n",
       "    </tr>\n",
       "    <tr>\n",
       "      <th>1</th>\n",
       "      <td>Quantity</td>\n",
       "      <td>1317.0</td>\n",
       "      <td>21.715262</td>\n",
       "      <td>17.507493</td>\n",
       "      <td>0.482426</td>\n",
       "      <td>20.768853</td>\n",
       "      <td>22.661671</td>\n",
       "    </tr>\n",
       "    <tr>\n",
       "      <th>2</th>\n",
       "      <td>combined</td>\n",
       "      <td>1490.0</td>\n",
       "      <td>22.124161</td>\n",
       "      <td>18.000672</td>\n",
       "      <td>0.466332</td>\n",
       "      <td>21.209423</td>\n",
       "      <td>23.038899</td>\n",
       "    </tr>\n",
       "  </tbody>\n",
       "</table>\n",
       "</div>"
      ],
      "text/plain": [
       "   Variable       N       Mean         SD        SE  95% Conf.   Interval\n",
       "0  Quantity   173.0  25.236994  21.186503  1.610780  22.057553  28.416436\n",
       "1  Quantity  1317.0  21.715262  17.507493  0.482426  20.768853  22.661671\n",
       "2  combined  1490.0  22.124161  18.000672  0.466332  21.209423  23.038899"
      ]
     },
     "metadata": {},
     "output_type": "display_data"
    },
    {
     "data": {
      "text/html": [
       "<div>\n",
       "<style scoped>\n",
       "    .dataframe tbody tr th:only-of-type {\n",
       "        vertical-align: middle;\n",
       "    }\n",
       "\n",
       "    .dataframe tbody tr th {\n",
       "        vertical-align: top;\n",
       "    }\n",
       "\n",
       "    .dataframe thead th {\n",
       "        text-align: right;\n",
       "    }\n",
       "</style>\n",
       "<table border=\"1\" class=\"dataframe\">\n",
       "  <thead>\n",
       "    <tr style=\"text-align: right;\">\n",
       "      <th></th>\n",
       "      <th>Welch's t-test</th>\n",
       "      <th>results</th>\n",
       "    </tr>\n",
       "  </thead>\n",
       "  <tbody>\n",
       "    <tr>\n",
       "      <th>0</th>\n",
       "      <td>Difference (Quantity - Quantity) =</td>\n",
       "      <td>3.5217</td>\n",
       "    </tr>\n",
       "    <tr>\n",
       "      <th>1</th>\n",
       "      <td>Degrees of freedom =</td>\n",
       "      <td>204.0260</td>\n",
       "    </tr>\n",
       "    <tr>\n",
       "      <th>2</th>\n",
       "      <td>t =</td>\n",
       "      <td>2.0944</td>\n",
       "    </tr>\n",
       "    <tr>\n",
       "      <th>3</th>\n",
       "      <td>Two side test p value =</td>\n",
       "      <td>0.0375</td>\n",
       "    </tr>\n",
       "    <tr>\n",
       "      <th>4</th>\n",
       "      <td>Difference &gt; 0 p value =</td>\n",
       "      <td>0.9813</td>\n",
       "    </tr>\n",
       "    <tr>\n",
       "      <th>5</th>\n",
       "      <td>Difference &lt; 0 p value =</td>\n",
       "      <td>0.0187</td>\n",
       "    </tr>\n",
       "    <tr>\n",
       "      <th>6</th>\n",
       "      <td>Cohen's d =</td>\n",
       "      <td>0.1694</td>\n",
       "    </tr>\n",
       "    <tr>\n",
       "      <th>7</th>\n",
       "      <td>Hedge's g =</td>\n",
       "      <td>0.1693</td>\n",
       "    </tr>\n",
       "    <tr>\n",
       "      <th>8</th>\n",
       "      <td>Glass's delta =</td>\n",
       "      <td>0.1662</td>\n",
       "    </tr>\n",
       "    <tr>\n",
       "      <th>9</th>\n",
       "      <td>r =</td>\n",
       "      <td>0.1451</td>\n",
       "    </tr>\n",
       "  </tbody>\n",
       "</table>\n",
       "</div>"
      ],
      "text/plain": [
       "                        Welch's t-test   results\n",
       "0  Difference (Quantity - Quantity) =     3.5217\n",
       "1                Degrees of freedom =   204.0260\n",
       "2                                 t =     2.0944\n",
       "3             Two side test p value =     0.0375\n",
       "4            Difference > 0 p value =     0.9813\n",
       "5            Difference < 0 p value =     0.0187\n",
       "6                         Cohen's d =     0.1694\n",
       "7                         Hedge's g =     0.1693\n",
       "8                     Glass's delta =     0.1662\n",
       "9                                 r =     0.1451"
      ]
     },
     "execution_count": 35,
     "metadata": {},
     "output_type": "execute_result"
    }
   ],
   "source": [
    "descriptives, results = rp.ttest(disc_10, disc_00, equal_variances=False)\n",
    "print('10% Discount:\\n')\n",
    "display(descriptives)\n",
    "results"
   ]
  },
  {
   "cell_type": "code",
   "execution_count": 36,
   "metadata": {},
   "outputs": [
    {
     "name": "stdout",
     "output_type": "stream",
     "text": [
      "15% Discount:\n",
      "\n"
     ]
    },
    {
     "data": {
      "text/html": [
       "<div>\n",
       "<style scoped>\n",
       "    .dataframe tbody tr th:only-of-type {\n",
       "        vertical-align: middle;\n",
       "    }\n",
       "\n",
       "    .dataframe tbody tr th {\n",
       "        vertical-align: top;\n",
       "    }\n",
       "\n",
       "    .dataframe thead th {\n",
       "        text-align: right;\n",
       "    }\n",
       "</style>\n",
       "<table border=\"1\" class=\"dataframe\">\n",
       "  <thead>\n",
       "    <tr style=\"text-align: right;\">\n",
       "      <th></th>\n",
       "      <th>Variable</th>\n",
       "      <th>N</th>\n",
       "      <th>Mean</th>\n",
       "      <th>SD</th>\n",
       "      <th>SE</th>\n",
       "      <th>95% Conf.</th>\n",
       "      <th>Interval</th>\n",
       "    </tr>\n",
       "  </thead>\n",
       "  <tbody>\n",
       "    <tr>\n",
       "      <th>0</th>\n",
       "      <td>Quantity</td>\n",
       "      <td>157.0</td>\n",
       "      <td>28.382166</td>\n",
       "      <td>20.923099</td>\n",
       "      <td>1.669845</td>\n",
       "      <td>25.083741</td>\n",
       "      <td>31.680590</td>\n",
       "    </tr>\n",
       "    <tr>\n",
       "      <th>1</th>\n",
       "      <td>Quantity</td>\n",
       "      <td>1317.0</td>\n",
       "      <td>21.715262</td>\n",
       "      <td>17.507493</td>\n",
       "      <td>0.482426</td>\n",
       "      <td>20.768853</td>\n",
       "      <td>22.661671</td>\n",
       "    </tr>\n",
       "    <tr>\n",
       "      <th>2</th>\n",
       "      <td>combined</td>\n",
       "      <td>1474.0</td>\n",
       "      <td>22.425373</td>\n",
       "      <td>18.012184</td>\n",
       "      <td>0.469156</td>\n",
       "      <td>21.505087</td>\n",
       "      <td>23.345659</td>\n",
       "    </tr>\n",
       "  </tbody>\n",
       "</table>\n",
       "</div>"
      ],
      "text/plain": [
       "   Variable       N       Mean         SD        SE  95% Conf.   Interval\n",
       "0  Quantity   157.0  28.382166  20.923099  1.669845  25.083741  31.680590\n",
       "1  Quantity  1317.0  21.715262  17.507493  0.482426  20.768853  22.661671\n",
       "2  combined  1474.0  22.425373  18.012184  0.469156  21.505087  23.345659"
      ]
     },
     "metadata": {},
     "output_type": "display_data"
    },
    {
     "data": {
      "text/html": [
       "<div>\n",
       "<style scoped>\n",
       "    .dataframe tbody tr th:only-of-type {\n",
       "        vertical-align: middle;\n",
       "    }\n",
       "\n",
       "    .dataframe tbody tr th {\n",
       "        vertical-align: top;\n",
       "    }\n",
       "\n",
       "    .dataframe thead th {\n",
       "        text-align: right;\n",
       "    }\n",
       "</style>\n",
       "<table border=\"1\" class=\"dataframe\">\n",
       "  <thead>\n",
       "    <tr style=\"text-align: right;\">\n",
       "      <th></th>\n",
       "      <th>Welch's t-test</th>\n",
       "      <th>results</th>\n",
       "    </tr>\n",
       "  </thead>\n",
       "  <tbody>\n",
       "    <tr>\n",
       "      <th>0</th>\n",
       "      <td>Difference (Quantity - Quantity) =</td>\n",
       "      <td>6.6669</td>\n",
       "    </tr>\n",
       "    <tr>\n",
       "      <th>1</th>\n",
       "      <td>Degrees of freedom =</td>\n",
       "      <td>182.9771</td>\n",
       "    </tr>\n",
       "    <tr>\n",
       "      <th>2</th>\n",
       "      <td>t =</td>\n",
       "      <td>3.8357</td>\n",
       "    </tr>\n",
       "    <tr>\n",
       "      <th>3</th>\n",
       "      <td>Two side test p value =</td>\n",
       "      <td>0.0002</td>\n",
       "    </tr>\n",
       "    <tr>\n",
       "      <th>4</th>\n",
       "      <td>Difference &gt; 0 p value =</td>\n",
       "      <td>0.9999</td>\n",
       "    </tr>\n",
       "    <tr>\n",
       "      <th>5</th>\n",
       "      <td>Difference &lt; 0 p value =</td>\n",
       "      <td>0.0001</td>\n",
       "    </tr>\n",
       "    <tr>\n",
       "      <th>6</th>\n",
       "      <td>Cohen's d =</td>\n",
       "      <td>0.3239</td>\n",
       "    </tr>\n",
       "    <tr>\n",
       "      <th>7</th>\n",
       "      <td>Hedge's g =</td>\n",
       "      <td>0.3237</td>\n",
       "    </tr>\n",
       "    <tr>\n",
       "      <th>8</th>\n",
       "      <td>Glass's delta =</td>\n",
       "      <td>0.3186</td>\n",
       "    </tr>\n",
       "    <tr>\n",
       "      <th>9</th>\n",
       "      <td>r =</td>\n",
       "      <td>0.2728</td>\n",
       "    </tr>\n",
       "  </tbody>\n",
       "</table>\n",
       "</div>"
      ],
      "text/plain": [
       "                        Welch's t-test   results\n",
       "0  Difference (Quantity - Quantity) =     6.6669\n",
       "1                Degrees of freedom =   182.9771\n",
       "2                                 t =     3.8357\n",
       "3             Two side test p value =     0.0002\n",
       "4            Difference > 0 p value =     0.9999\n",
       "5            Difference < 0 p value =     0.0001\n",
       "6                         Cohen's d =     0.3239\n",
       "7                         Hedge's g =     0.3237\n",
       "8                     Glass's delta =     0.3186\n",
       "9                                 r =     0.2728"
      ]
     },
     "execution_count": 36,
     "metadata": {},
     "output_type": "execute_result"
    }
   ],
   "source": [
    "descriptives, results = rp.ttest(disc_15, disc_00, equal_variances=False)\n",
    "print('15% Discount:\\n')\n",
    "display(descriptives)\n",
    "results"
   ]
  },
  {
   "cell_type": "code",
   "execution_count": 37,
   "metadata": {},
   "outputs": [
    {
     "name": "stdout",
     "output_type": "stream",
     "text": [
      "20% Discount:\n",
      "\n"
     ]
    },
    {
     "data": {
      "text/html": [
       "<div>\n",
       "<style scoped>\n",
       "    .dataframe tbody tr th:only-of-type {\n",
       "        vertical-align: middle;\n",
       "    }\n",
       "\n",
       "    .dataframe tbody tr th {\n",
       "        vertical-align: top;\n",
       "    }\n",
       "\n",
       "    .dataframe thead th {\n",
       "        text-align: right;\n",
       "    }\n",
       "</style>\n",
       "<table border=\"1\" class=\"dataframe\">\n",
       "  <thead>\n",
       "    <tr style=\"text-align: right;\">\n",
       "      <th></th>\n",
       "      <th>Variable</th>\n",
       "      <th>N</th>\n",
       "      <th>Mean</th>\n",
       "      <th>SD</th>\n",
       "      <th>SE</th>\n",
       "      <th>95% Conf.</th>\n",
       "      <th>Interval</th>\n",
       "    </tr>\n",
       "  </thead>\n",
       "  <tbody>\n",
       "    <tr>\n",
       "      <th>0</th>\n",
       "      <td>Quantity</td>\n",
       "      <td>161.0</td>\n",
       "      <td>27.024845</td>\n",
       "      <td>18.832801</td>\n",
       "      <td>1.484233</td>\n",
       "      <td>24.093631</td>\n",
       "      <td>29.956058</td>\n",
       "    </tr>\n",
       "    <tr>\n",
       "      <th>1</th>\n",
       "      <td>Quantity</td>\n",
       "      <td>1317.0</td>\n",
       "      <td>21.715262</td>\n",
       "      <td>17.507493</td>\n",
       "      <td>0.482426</td>\n",
       "      <td>20.768853</td>\n",
       "      <td>22.661671</td>\n",
       "    </tr>\n",
       "    <tr>\n",
       "      <th>2</th>\n",
       "      <td>combined</td>\n",
       "      <td>1478.0</td>\n",
       "      <td>22.293640</td>\n",
       "      <td>17.727390</td>\n",
       "      <td>0.461113</td>\n",
       "      <td>21.389134</td>\n",
       "      <td>23.198147</td>\n",
       "    </tr>\n",
       "  </tbody>\n",
       "</table>\n",
       "</div>"
      ],
      "text/plain": [
       "   Variable       N       Mean         SD        SE  95% Conf.   Interval\n",
       "0  Quantity   161.0  27.024845  18.832801  1.484233  24.093631  29.956058\n",
       "1  Quantity  1317.0  21.715262  17.507493  0.482426  20.768853  22.661671\n",
       "2  combined  1478.0  22.293640  17.727390  0.461113  21.389134  23.198147"
      ]
     },
     "metadata": {},
     "output_type": "display_data"
    },
    {
     "data": {
      "text/html": [
       "<div>\n",
       "<style scoped>\n",
       "    .dataframe tbody tr th:only-of-type {\n",
       "        vertical-align: middle;\n",
       "    }\n",
       "\n",
       "    .dataframe tbody tr th {\n",
       "        vertical-align: top;\n",
       "    }\n",
       "\n",
       "    .dataframe thead th {\n",
       "        text-align: right;\n",
       "    }\n",
       "</style>\n",
       "<table border=\"1\" class=\"dataframe\">\n",
       "  <thead>\n",
       "    <tr style=\"text-align: right;\">\n",
       "      <th></th>\n",
       "      <th>Welch's t-test</th>\n",
       "      <th>results</th>\n",
       "    </tr>\n",
       "  </thead>\n",
       "  <tbody>\n",
       "    <tr>\n",
       "      <th>0</th>\n",
       "      <td>Difference (Quantity - Quantity) =</td>\n",
       "      <td>5.3096</td>\n",
       "    </tr>\n",
       "    <tr>\n",
       "      <th>1</th>\n",
       "      <td>Degrees of freedom =</td>\n",
       "      <td>195.3279</td>\n",
       "    </tr>\n",
       "    <tr>\n",
       "      <th>2</th>\n",
       "      <td>t =</td>\n",
       "      <td>3.4021</td>\n",
       "    </tr>\n",
       "    <tr>\n",
       "      <th>3</th>\n",
       "      <td>Two side test p value =</td>\n",
       "      <td>0.0008</td>\n",
       "    </tr>\n",
       "    <tr>\n",
       "      <th>4</th>\n",
       "      <td>Difference &gt; 0 p value =</td>\n",
       "      <td>0.9996</td>\n",
       "    </tr>\n",
       "    <tr>\n",
       "      <th>5</th>\n",
       "      <td>Difference &lt; 0 p value =</td>\n",
       "      <td>0.0004</td>\n",
       "    </tr>\n",
       "    <tr>\n",
       "      <th>6</th>\n",
       "      <td>Cohen's d =</td>\n",
       "      <td>0.2840</td>\n",
       "    </tr>\n",
       "    <tr>\n",
       "      <th>7</th>\n",
       "      <td>Hedge's g =</td>\n",
       "      <td>0.2839</td>\n",
       "    </tr>\n",
       "    <tr>\n",
       "      <th>8</th>\n",
       "      <td>Glass's delta =</td>\n",
       "      <td>0.2819</td>\n",
       "    </tr>\n",
       "    <tr>\n",
       "      <th>9</th>\n",
       "      <td>r =</td>\n",
       "      <td>0.2365</td>\n",
       "    </tr>\n",
       "  </tbody>\n",
       "</table>\n",
       "</div>"
      ],
      "text/plain": [
       "                        Welch's t-test   results\n",
       "0  Difference (Quantity - Quantity) =     5.3096\n",
       "1                Degrees of freedom =   195.3279\n",
       "2                                 t =     3.4021\n",
       "3             Two side test p value =     0.0008\n",
       "4            Difference > 0 p value =     0.9996\n",
       "5            Difference < 0 p value =     0.0004\n",
       "6                         Cohen's d =     0.2840\n",
       "7                         Hedge's g =     0.2839\n",
       "8                     Glass's delta =     0.2819\n",
       "9                                 r =     0.2365"
      ]
     },
     "execution_count": 37,
     "metadata": {},
     "output_type": "execute_result"
    }
   ],
   "source": [
    "descriptives, results = rp.ttest(disc_20, disc_00, equal_variances=False)\n",
    "print('20% Discount:\\n')\n",
    "display(descriptives)\n",
    "results"
   ]
  },
  {
   "cell_type": "code",
   "execution_count": 38,
   "metadata": {},
   "outputs": [
    {
     "name": "stdout",
     "output_type": "stream",
     "text": [
      "25% Discount:\n",
      "\n"
     ]
    },
    {
     "data": {
      "text/html": [
       "<div>\n",
       "<style scoped>\n",
       "    .dataframe tbody tr th:only-of-type {\n",
       "        vertical-align: middle;\n",
       "    }\n",
       "\n",
       "    .dataframe tbody tr th {\n",
       "        vertical-align: top;\n",
       "    }\n",
       "\n",
       "    .dataframe thead th {\n",
       "        text-align: right;\n",
       "    }\n",
       "</style>\n",
       "<table border=\"1\" class=\"dataframe\">\n",
       "  <thead>\n",
       "    <tr style=\"text-align: right;\">\n",
       "      <th></th>\n",
       "      <th>Variable</th>\n",
       "      <th>N</th>\n",
       "      <th>Mean</th>\n",
       "      <th>SD</th>\n",
       "      <th>SE</th>\n",
       "      <th>95% Conf.</th>\n",
       "      <th>Interval</th>\n",
       "    </tr>\n",
       "  </thead>\n",
       "  <tbody>\n",
       "    <tr>\n",
       "      <th>0</th>\n",
       "      <td>Quantity</td>\n",
       "      <td>154.0</td>\n",
       "      <td>28.240260</td>\n",
       "      <td>20.120570</td>\n",
       "      <td>1.621362</td>\n",
       "      <td>25.037113</td>\n",
       "      <td>31.443406</td>\n",
       "    </tr>\n",
       "    <tr>\n",
       "      <th>1</th>\n",
       "      <td>Quantity</td>\n",
       "      <td>1317.0</td>\n",
       "      <td>21.715262</td>\n",
       "      <td>17.507493</td>\n",
       "      <td>0.482426</td>\n",
       "      <td>20.768853</td>\n",
       "      <td>22.661671</td>\n",
       "    </tr>\n",
       "    <tr>\n",
       "      <th>2</th>\n",
       "      <td>combined</td>\n",
       "      <td>1471.0</td>\n",
       "      <td>22.398368</td>\n",
       "      <td>17.903379</td>\n",
       "      <td>0.466798</td>\n",
       "      <td>21.482708</td>\n",
       "      <td>23.314029</td>\n",
       "    </tr>\n",
       "  </tbody>\n",
       "</table>\n",
       "</div>"
      ],
      "text/plain": [
       "   Variable       N       Mean         SD        SE  95% Conf.   Interval\n",
       "0  Quantity   154.0  28.240260  20.120570  1.621362  25.037113  31.443406\n",
       "1  Quantity  1317.0  21.715262  17.507493  0.482426  20.768853  22.661671\n",
       "2  combined  1471.0  22.398368  17.903379  0.466798  21.482708  23.314029"
      ]
     },
     "metadata": {},
     "output_type": "display_data"
    },
    {
     "data": {
      "text/html": [
       "<div>\n",
       "<style scoped>\n",
       "    .dataframe tbody tr th:only-of-type {\n",
       "        vertical-align: middle;\n",
       "    }\n",
       "\n",
       "    .dataframe tbody tr th {\n",
       "        vertical-align: top;\n",
       "    }\n",
       "\n",
       "    .dataframe thead th {\n",
       "        text-align: right;\n",
       "    }\n",
       "</style>\n",
       "<table border=\"1\" class=\"dataframe\">\n",
       "  <thead>\n",
       "    <tr style=\"text-align: right;\">\n",
       "      <th></th>\n",
       "      <th>Welch's t-test</th>\n",
       "      <th>results</th>\n",
       "    </tr>\n",
       "  </thead>\n",
       "  <tbody>\n",
       "    <tr>\n",
       "      <th>0</th>\n",
       "      <td>Difference (Quantity - Quantity) =</td>\n",
       "      <td>6.5250</td>\n",
       "    </tr>\n",
       "    <tr>\n",
       "      <th>1</th>\n",
       "      <td>Degrees of freedom =</td>\n",
       "      <td>181.1251</td>\n",
       "    </tr>\n",
       "    <tr>\n",
       "      <th>2</th>\n",
       "      <td>t =</td>\n",
       "      <td>3.8573</td>\n",
       "    </tr>\n",
       "    <tr>\n",
       "      <th>3</th>\n",
       "      <td>Two side test p value =</td>\n",
       "      <td>0.0002</td>\n",
       "    </tr>\n",
       "    <tr>\n",
       "      <th>4</th>\n",
       "      <td>Difference &gt; 0 p value =</td>\n",
       "      <td>0.9999</td>\n",
       "    </tr>\n",
       "    <tr>\n",
       "      <th>5</th>\n",
       "      <td>Difference &lt; 0 p value =</td>\n",
       "      <td>0.0001</td>\n",
       "    </tr>\n",
       "    <tr>\n",
       "      <th>6</th>\n",
       "      <td>Cohen's d =</td>\n",
       "      <td>0.3285</td>\n",
       "    </tr>\n",
       "    <tr>\n",
       "      <th>7</th>\n",
       "      <td>Hedge's g =</td>\n",
       "      <td>0.3283</td>\n",
       "    </tr>\n",
       "    <tr>\n",
       "      <th>8</th>\n",
       "      <td>Glass's delta =</td>\n",
       "      <td>0.3243</td>\n",
       "    </tr>\n",
       "    <tr>\n",
       "      <th>9</th>\n",
       "      <td>r =</td>\n",
       "      <td>0.2755</td>\n",
       "    </tr>\n",
       "  </tbody>\n",
       "</table>\n",
       "</div>"
      ],
      "text/plain": [
       "                        Welch's t-test   results\n",
       "0  Difference (Quantity - Quantity) =     6.5250\n",
       "1                Degrees of freedom =   181.1251\n",
       "2                                 t =     3.8573\n",
       "3             Two side test p value =     0.0002\n",
       "4            Difference > 0 p value =     0.9999\n",
       "5            Difference < 0 p value =     0.0001\n",
       "6                         Cohen's d =     0.3285\n",
       "7                         Hedge's g =     0.3283\n",
       "8                     Glass's delta =     0.3243\n",
       "9                                 r =     0.2755"
      ]
     },
     "execution_count": 38,
     "metadata": {},
     "output_type": "execute_result"
    }
   ],
   "source": [
    "descriptives, results = rp.ttest(disc_25, disc_00, equal_variances=False)\n",
    "print('25% Discount:\\n')\n",
    "display(descriptives)\n",
    "results"
   ]
  },
  {
   "cell_type": "code",
   "execution_count": 39,
   "metadata": {},
   "outputs": [
    {
     "data": {
      "text/html": [
       "<table class=\"simpletable\">\n",
       "<caption>OLS Regression Results</caption>\n",
       "<tr>\n",
       "  <th>Dep. Variable:</th>        <td>Quantity</td>     <th>  R-squared:         </th> <td>   0.022</td> \n",
       "</tr>\n",
       "<tr>\n",
       "  <th>Model:</th>                   <td>OLS</td>       <th>  Adj. R-squared:    </th> <td>   0.020</td> \n",
       "</tr>\n",
       "<tr>\n",
       "  <th>Method:</th>             <td>Least Squares</td>  <th>  F-statistic:       </th> <td>   9.799</td> \n",
       "</tr>\n",
       "<tr>\n",
       "  <th>Date:</th>             <td>Tue, 17 Sep 2019</td> <th>  Prob (F-statistic):</th> <td>2.84e-09</td> \n",
       "</tr>\n",
       "<tr>\n",
       "  <th>Time:</th>                 <td>03:30:40</td>     <th>  Log-Likelihood:    </th> <td> -9344.5</td> \n",
       "</tr>\n",
       "<tr>\n",
       "  <th>No. Observations:</th>      <td>  2147</td>      <th>  AIC:               </th> <td>1.870e+04</td>\n",
       "</tr>\n",
       "<tr>\n",
       "  <th>Df Residuals:</th>          <td>  2141</td>      <th>  BIC:               </th> <td>1.873e+04</td>\n",
       "</tr>\n",
       "<tr>\n",
       "  <th>Df Model:</th>              <td>     5</td>      <th>                     </th>     <td> </td>    \n",
       "</tr>\n",
       "<tr>\n",
       "  <th>Covariance Type:</th>      <td>nonrobust</td>    <th>                     </th>     <td> </td>    \n",
       "</tr>\n",
       "</table>\n",
       "<table class=\"simpletable\">\n",
       "<tr>\n",
       "           <td></td>              <th>coef</th>     <th>std err</th>      <th>t</th>      <th>P>|t|</th>  <th>[0.025</th>    <th>0.975]</th>  \n",
       "</tr>\n",
       "<tr>\n",
       "  <th>Intercept</th>           <td>   21.7153</td> <td>    0.519</td> <td>   41.879</td> <td> 0.000</td> <td>   20.698</td> <td>   22.732</td>\n",
       "</tr>\n",
       "<tr>\n",
       "  <th>C(Discount)[T.0.05]</th> <td>    6.2955</td> <td>    1.477</td> <td>    4.261</td> <td> 0.000</td> <td>    3.398</td> <td>    9.193</td>\n",
       "</tr>\n",
       "<tr>\n",
       "  <th>C(Discount)[T.0.1]</th>  <td>    3.5217</td> <td>    1.522</td> <td>    2.314</td> <td> 0.021</td> <td>    0.537</td> <td>    6.506</td>\n",
       "</tr>\n",
       "<tr>\n",
       "  <th>C(Discount)[T.0.15]</th> <td>    6.6669</td> <td>    1.589</td> <td>    4.196</td> <td> 0.000</td> <td>    3.551</td> <td>    9.783</td>\n",
       "</tr>\n",
       "<tr>\n",
       "  <th>C(Discount)[T.0.2]</th>  <td>    5.3096</td> <td>    1.571</td> <td>    3.380</td> <td> 0.001</td> <td>    2.229</td> <td>    8.391</td>\n",
       "</tr>\n",
       "<tr>\n",
       "  <th>C(Discount)[T.0.25]</th> <td>    6.5250</td> <td>    1.603</td> <td>    4.072</td> <td> 0.000</td> <td>    3.382</td> <td>    9.668</td>\n",
       "</tr>\n",
       "</table>\n",
       "<table class=\"simpletable\">\n",
       "<tr>\n",
       "  <th>Omnibus:</th>       <td>784.809</td> <th>  Durbin-Watson:     </th> <td>   2.007</td>\n",
       "</tr>\n",
       "<tr>\n",
       "  <th>Prob(Omnibus):</th> <td> 0.000</td>  <th>  Jarque-Bera (JB):  </th> <td>3071.552</td>\n",
       "</tr>\n",
       "<tr>\n",
       "  <th>Skew:</th>          <td> 1.770</td>  <th>  Prob(JB):          </th> <td>    0.00</td>\n",
       "</tr>\n",
       "<tr>\n",
       "  <th>Kurtosis:</th>      <td> 7.670</td>  <th>  Cond. No.          </th> <td>    4.75</td>\n",
       "</tr>\n",
       "</table><br/><br/>Warnings:<br/>[1] Standard Errors assume that the covariance matrix of the errors is correctly specified."
      ],
      "text/plain": [
       "<class 'statsmodels.iolib.summary.Summary'>\n",
       "\"\"\"\n",
       "                            OLS Regression Results                            \n",
       "==============================================================================\n",
       "Dep. Variable:               Quantity   R-squared:                       0.022\n",
       "Model:                            OLS   Adj. R-squared:                  0.020\n",
       "Method:                 Least Squares   F-statistic:                     9.799\n",
       "Date:                Tue, 17 Sep 2019   Prob (F-statistic):           2.84e-09\n",
       "Time:                        03:30:40   Log-Likelihood:                -9344.5\n",
       "No. Observations:                2147   AIC:                         1.870e+04\n",
       "Df Residuals:                    2141   BIC:                         1.873e+04\n",
       "Df Model:                           5                                         \n",
       "Covariance Type:            nonrobust                                         \n",
       "=======================================================================================\n",
       "                          coef    std err          t      P>|t|      [0.025      0.975]\n",
       "---------------------------------------------------------------------------------------\n",
       "Intercept              21.7153      0.519     41.879      0.000      20.698      22.732\n",
       "C(Discount)[T.0.05]     6.2955      1.477      4.261      0.000       3.398       9.193\n",
       "C(Discount)[T.0.1]      3.5217      1.522      2.314      0.021       0.537       6.506\n",
       "C(Discount)[T.0.15]     6.6669      1.589      4.196      0.000       3.551       9.783\n",
       "C(Discount)[T.0.2]      5.3096      1.571      3.380      0.001       2.229       8.391\n",
       "C(Discount)[T.0.25]     6.5250      1.603      4.072      0.000       3.382       9.668\n",
       "==============================================================================\n",
       "Omnibus:                      784.809   Durbin-Watson:                   2.007\n",
       "Prob(Omnibus):                  0.000   Jarque-Bera (JB):             3071.552\n",
       "Skew:                           1.770   Prob(JB):                         0.00\n",
       "Kurtosis:                       7.670   Cond. No.                         4.75\n",
       "==============================================================================\n",
       "\n",
       "Warnings:\n",
       "[1] Standard Errors assume that the covariance matrix of the errors is correctly specified.\n",
       "\"\"\""
      ]
     },
     "execution_count": 39,
     "metadata": {},
     "output_type": "execute_result"
    }
   ],
   "source": [
    "results = ols('Quantity ~ C(Discount)', data=df).fit()\n",
    "results.summary()"
   ]
  },
  {
   "cell_type": "code",
   "execution_count": 40,
   "metadata": {},
   "outputs": [
    {
     "data": {
      "text/html": [
       "<div>\n",
       "<style scoped>\n",
       "    .dataframe tbody tr th:only-of-type {\n",
       "        vertical-align: middle;\n",
       "    }\n",
       "\n",
       "    .dataframe tbody tr th {\n",
       "        vertical-align: top;\n",
       "    }\n",
       "\n",
       "    .dataframe thead th {\n",
       "        text-align: right;\n",
       "    }\n",
       "</style>\n",
       "<table border=\"1\" class=\"dataframe\">\n",
       "  <thead>\n",
       "    <tr style=\"text-align: right;\">\n",
       "      <th></th>\n",
       "      <th>sum_sq</th>\n",
       "      <th>df</th>\n",
       "      <th>F</th>\n",
       "      <th>PR(&gt;F)</th>\n",
       "    </tr>\n",
       "  </thead>\n",
       "  <tbody>\n",
       "    <tr>\n",
       "      <th>C(Discount)</th>\n",
       "      <td>17348.854662</td>\n",
       "      <td>5.0</td>\n",
       "      <td>9.798709</td>\n",
       "      <td>2.840681e-09</td>\n",
       "    </tr>\n",
       "    <tr>\n",
       "      <th>Residual</th>\n",
       "      <td>758138.565924</td>\n",
       "      <td>2141.0</td>\n",
       "      <td>NaN</td>\n",
       "      <td>NaN</td>\n",
       "    </tr>\n",
       "  </tbody>\n",
       "</table>\n",
       "</div>"
      ],
      "text/plain": [
       "                    sum_sq      df         F        PR(>F)\n",
       "C(Discount)   17348.854662     5.0  9.798709  2.840681e-09\n",
       "Residual     758138.565924  2141.0       NaN           NaN"
      ]
     },
     "execution_count": 40,
     "metadata": {},
     "output_type": "execute_result"
    }
   ],
   "source": [
    "aov_table = sm.stats.anova_lm(results, typ=2)\n",
    "aov_table"
   ]
  },
  {
   "cell_type": "code",
   "execution_count": 41,
   "metadata": {},
   "outputs": [
    {
     "name": "stdout",
     "output_type": "stream",
     "text": [
      "f-critical value: 0.5659370686113215\n"
     ]
    }
   ],
   "source": [
    "print ('f-critical value:',stats.f.cdf(1-0.05, dfn=4, dfd=1546))"
   ]
  },
  {
   "cell_type": "code",
   "execution_count": 42,
   "metadata": {},
   "outputs": [
    {
     "data": {
      "text/html": [
       "<div>\n",
       "<style scoped>\n",
       "    .dataframe tbody tr th:only-of-type {\n",
       "        vertical-align: middle;\n",
       "    }\n",
       "\n",
       "    .dataframe tbody tr th {\n",
       "        vertical-align: top;\n",
       "    }\n",
       "\n",
       "    .dataframe thead th {\n",
       "        text-align: right;\n",
       "    }\n",
       "</style>\n",
       "<table border=\"1\" class=\"dataframe\">\n",
       "  <thead>\n",
       "    <tr style=\"text-align: right;\">\n",
       "      <th></th>\n",
       "      <th>sum_sq</th>\n",
       "      <th>df</th>\n",
       "      <th>mean_sq</th>\n",
       "      <th>F</th>\n",
       "      <th>PR(&gt;F)</th>\n",
       "      <th>eta_sq</th>\n",
       "      <th>omega_sq</th>\n",
       "    </tr>\n",
       "  </thead>\n",
       "  <tbody>\n",
       "    <tr>\n",
       "      <th>C(Discount)</th>\n",
       "      <td>17348.854662</td>\n",
       "      <td>5.0</td>\n",
       "      <td>3469.770932</td>\n",
       "      <td>9.798709</td>\n",
       "      <td>2.840681e-09</td>\n",
       "      <td>0.022372</td>\n",
       "      <td>0.020079</td>\n",
       "    </tr>\n",
       "    <tr>\n",
       "      <th>Residual</th>\n",
       "      <td>758138.565924</td>\n",
       "      <td>2141.0</td>\n",
       "      <td>354.104888</td>\n",
       "      <td>NaN</td>\n",
       "      <td>NaN</td>\n",
       "      <td>NaN</td>\n",
       "      <td>NaN</td>\n",
       "    </tr>\n",
       "  </tbody>\n",
       "</table>\n",
       "</div>"
      ],
      "text/plain": [
       "                    sum_sq      df      mean_sq         F        PR(>F)  \\\n",
       "C(Discount)   17348.854662     5.0  3469.770932  9.798709  2.840681e-09   \n",
       "Residual     758138.565924  2141.0   354.104888       NaN           NaN   \n",
       "\n",
       "               eta_sq  omega_sq  \n",
       "C(Discount)  0.022372  0.020079  \n",
       "Residual          NaN       NaN  "
      ]
     },
     "execution_count": 42,
     "metadata": {},
     "output_type": "execute_result"
    }
   ],
   "source": [
    "def anova_effect_size(aov):       \n",
    "    \"\"\" This function takes the Anova table performed with statsmodels\n",
    "    and appends two effect size measures: eta-squared and omega-squared. \"\"\"\n",
    "    \n",
    "    aov['mean_sq'] = aov[:]['sum_sq']/aov[:]['df']\n",
    "    \n",
    "    aov['eta_sq'] = aov[:-1]['sum_sq']/sum(aov['sum_sq'])\n",
    "    \n",
    "    aov['omega_sq'] = (aov[:-1]['sum_sq']-(aov[:-1]['df']*aov['mean_sq'][-1]))/(sum(aov['sum_sq'])+aov['mean_sq'][-1])\n",
    "    \n",
    "    cols = ['sum_sq', 'df', 'mean_sq', 'F', 'PR(>F)', 'eta_sq', 'omega_sq']\n",
    "    aov = aov[cols]\n",
    "    return aov\n",
    "\n",
    "anova_effect_size(aov_table)"
   ]
  },
  {
   "cell_type": "code",
   "execution_count": 43,
   "metadata": {},
   "outputs": [
    {
     "data": {
      "text/plain": [
       "{'jb': 3071.5520898739655,\n",
       " 'jbpv': 0.0,\n",
       " 'skew': 1.7699049877236657,\n",
       " 'kurtosis': 7.669555411350016,\n",
       " 'omni': 784.8094785378735,\n",
       " 'omnipv': 3.8087903033670104e-171,\n",
       " 'condno': 4.750871046284668,\n",
       " 'mineigval': 98.11946438447124}"
      ]
     },
     "execution_count": 43,
     "metadata": {},
     "output_type": "execute_result"
    }
   ],
   "source": [
    "results.diagn"
   ]
  },
  {
   "cell_type": "code",
   "execution_count": 44,
   "metadata": {},
   "outputs": [
    {
     "name": "stdout",
     "output_type": "stream",
     "text": [
      "Multiple Comparison of Means - Tukey HSD,FWER=0.05\n",
      "=============================================\n",
      "group1 group2 meandiff  lower   upper  reject\n",
      "---------------------------------------------\n",
      " 0.0    0.05   6.2955   2.0814 10.5097  True \n",
      " 0.0    0.1    3.5217  -0.8187  7.8622 False \n",
      " 0.0    0.15   6.6669   2.1352 11.1986  True \n",
      " 0.0    0.2    5.3096   0.8285  9.7907  True \n",
      " 0.0    0.25   6.525    1.954   11.096  True \n",
      " 0.05   0.1   -2.7738  -8.4504  2.9028 False \n",
      " 0.05   0.15   0.3714  -5.4528  6.1955 False \n",
      " 0.05   0.2    -0.986  -6.7708  4.7989 False \n",
      " 0.05   0.25   0.2294  -5.6253  6.0842 False \n",
      " 0.1    0.15   3.1452   -2.771  9.0613 False \n",
      " 0.1    0.2    1.7879  -4.0896  7.6653 False \n",
      " 0.1    0.25   3.0033   -2.943  8.9496 False \n",
      " 0.15   0.2   -1.3573  -7.3775  4.6628 False \n",
      " 0.15   0.25  -0.1419  -6.2292  5.9454 False \n",
      " 0.2    0.25   1.2154  -4.8343  7.2652 False \n",
      "---------------------------------------------\n"
     ]
    }
   ],
   "source": [
    "mc = MultiComparison(df['Quantity'], df['Discount'])\n",
    "mc_results = mc.tukeyhsd()\n",
    "print(mc_results)"
   ]
  },
  {
   "cell_type": "code",
   "execution_count": 45,
   "metadata": {},
   "outputs": [
    {
     "data": {
      "image/png": "[encoded data removed]",
      "text/plain": [
       "<Figure size 432x288 with 1 Axes>"
      ]
     },
     "metadata": {},
     "output_type": "display_data"
    }
   ],
   "source": [
    "mc_results.plot_simultaneous(comparison_name=0.0, figsize=(6,4), \n",
    "                             ylabel='Discount Level\\n', xlabel='\\nAverage Number of Products in Order');"
   ]
  },
  {
   "cell_type": "code",
   "execution_count": 46,
   "metadata": {},
   "outputs": [
    {
     "data": {
      "text/plain": [
       "(0.9800435616692902,\n",
       " 0.6732709538031703,\n",
       " 0.9857239082222566,\n",
       " 0.9603888003569658,\n",
       " 0.9864702641918153)"
      ]
     },
     "execution_count": 46,
     "metadata": {},
     "output_type": "execute_result"
    }
   ],
   "source": [
    "power = TTestIndPower()\n",
    "power_05 = power.power(effect_size=0.2906, nobs1=len(disc_05), alpha=alpha, ratio=len(disc_00)/len(disc_05), df=(len(disc_05) -1 + len(disc_00)-1), alternative='larger')\n",
    "power_10 = power.power(effect_size=0.1694, nobs1=len(disc_10), alpha=alpha, ratio=len(disc_00)/len(disc_10), df=(len(disc_10) -1 + len(disc_00)-1), alternative='larger')\n",
    "power_15 = power.power(effect_size=0.3239, nobs1=len(disc_15), alpha=alpha, ratio=len(disc_00)/len(disc_15), df=(len(disc_15) -1 + len(disc_00)-1), alternative='larger')\n",
    "power_20 = power.power(effect_size=0.2840, nobs1=len(disc_20), alpha=alpha, ratio=len(disc_00)/len(disc_20), df=(len(disc_20) -1 + len(disc_00)-1), alternative='larger')\n",
    "power_25 = power.power(effect_size=0.3285, nobs1=len(disc_25), alpha=alpha, ratio=len(disc_00)/len(disc_25), df=(len(disc_25) -1 + len(disc_00)-1), alternative='larger')\n",
    "\n",
    "power_05, power_10, power_15, power_20, power_25"
   ]
  },
  {
   "cell_type": "markdown",
   "metadata": {},
   "source": [
    "- f value: 9.798709\n",
    "- f-critical value: 0.5659370686113215\n",
    "- $\\eta^2$: 0.022372, small effect\n",
    "- $\\omega^2$: 0.020079, small effect\n",
    "- p-value : 0.610041445360832\n",
    "- cohen's d: \n",
    "    * 05% = 0.2906\n",
    "    * 10% = 0.1694\n",
    "    * 15% = 0.3239\n",
    "    * 20% = 0.2840\n",
    "    * 25% = 0.3285\n",
    "- power:\n",
    "    * 05% = 0.9800435616692902\n",
    "    * 10% = 0.6732709538031703\n",
    "    * 15% = 0.9857239082222566\n",
    "    * 20% = 0.9603888003569658\n",
    "    * 25% = 0.9864702641918153\n",
    "    \n",
    "> $H_0$: Level of discount does not affect the quantity of products customers order.\n",
    "\n",
    "> $H_1$: Level of discount significantly impacts the number of products customers order.\n",
    "\n",
    "The findings are not significant! **We can fail to reject the null hypothesis and reject the alternative.** The level of discount does not have a statistically significant effect of the quantity of products customers order. It seems that the number of items can't be increased by offering a discount higher than 0.05. \n",
    "\n",
    "There is some evidence that a discount of 0.1 may be less productive than one of 0.15 or 0.25 (double-digits).The results of Tukey's tests suggest that applying a product discount of 5, 15, 20, or 25 percent encourages customers to order products in higher quantities.\n",
    "\n",
    "The results can be used to investigate how discounts should be used to generate more revenue and which employees are overusing discounts to generate sales. "
   ]
  },
  {
   "cell_type": "markdown",
   "metadata": {},
   "source": [
    "## Hypothesis Test 2 "
   ]
  },
  {
   "cell_type": "markdown",
   "metadata": {},
   "source": [
    "## Order Total and Discount"
   ]
  },
  {
   "cell_type": "markdown",
   "metadata": {},
   "source": [
    "> $H_0$: Discount has no impact on order total.\n",
    "\n",
    "> $H_1$: Discount significantly impacts order total.\n",
    "\n",
    "> $\\alpha$ = 0.05"
   ]
  },
  {
   "cell_type": "code",
   "execution_count": 47,
   "metadata": {},
   "outputs": [
    {
     "data": {
      "text/html": [
       "<div>\n",
       "<style scoped>\n",
       "    .dataframe tbody tr th:only-of-type {\n",
       "        vertical-align: middle;\n",
       "    }\n",
       "\n",
       "    .dataframe tbody tr th {\n",
       "        vertical-align: top;\n",
       "    }\n",
       "\n",
       "    .dataframe thead th {\n",
       "        text-align: right;\n",
       "    }\n",
       "</style>\n",
       "<table border=\"1\" class=\"dataframe\">\n",
       "  <thead>\n",
       "    <tr style=\"text-align: right;\">\n",
       "      <th></th>\n",
       "      <th>Id</th>\n",
       "      <th>Quantity</th>\n",
       "      <th>UnitPrice</th>\n",
       "      <th>Discount</th>\n",
       "      <th>ProductId</th>\n",
       "      <th>CategoryId</th>\n",
       "    </tr>\n",
       "  </thead>\n",
       "  <tbody>\n",
       "    <tr>\n",
       "      <th>0</th>\n",
       "      <td>10248</td>\n",
       "      <td>5</td>\n",
       "      <td>34.8</td>\n",
       "      <td>0.00</td>\n",
       "      <td>72</td>\n",
       "      <td>4</td>\n",
       "    </tr>\n",
       "    <tr>\n",
       "      <th>1</th>\n",
       "      <td>10249</td>\n",
       "      <td>40</td>\n",
       "      <td>42.4</td>\n",
       "      <td>0.00</td>\n",
       "      <td>51</td>\n",
       "      <td>7</td>\n",
       "    </tr>\n",
       "    <tr>\n",
       "      <th>2</th>\n",
       "      <td>10250</td>\n",
       "      <td>15</td>\n",
       "      <td>16.8</td>\n",
       "      <td>0.15</td>\n",
       "      <td>65</td>\n",
       "      <td>2</td>\n",
       "    </tr>\n",
       "    <tr>\n",
       "      <th>3</th>\n",
       "      <td>10251</td>\n",
       "      <td>20</td>\n",
       "      <td>16.8</td>\n",
       "      <td>0.00</td>\n",
       "      <td>65</td>\n",
       "      <td>2</td>\n",
       "    </tr>\n",
       "    <tr>\n",
       "      <th>4</th>\n",
       "      <td>10252</td>\n",
       "      <td>40</td>\n",
       "      <td>27.2</td>\n",
       "      <td>0.00</td>\n",
       "      <td>60</td>\n",
       "      <td>4</td>\n",
       "    </tr>\n",
       "  </tbody>\n",
       "</table>\n",
       "</div>"
      ],
      "text/plain": [
       "      Id  Quantity  UnitPrice  Discount  ProductId  CategoryId\n",
       "0  10248         5       34.8      0.00         72           4\n",
       "1  10249        40       42.4      0.00         51           7\n",
       "2  10250        15       16.8      0.15         65           2\n",
       "3  10251        20       16.8      0.00         65           2\n",
       "4  10252        40       27.2      0.00         60           4"
      ]
     },
     "metadata": {},
     "output_type": "display_data"
    },
    {
     "name": "stdout",
     "output_type": "stream",
     "text": [
      "<class 'pandas.core.frame.DataFrame'>\n",
      "RangeIndex: 830 entries, 0 to 829\n",
      "Data columns (total 6 columns):\n",
      "Id            830 non-null int64\n",
      "Quantity      830 non-null int64\n",
      "UnitPrice     830 non-null float64\n",
      "Discount      830 non-null float64\n",
      "ProductId     830 non-null int64\n",
      "CategoryId    830 non-null int64\n",
      "dtypes: float64(2), int64(4)\n",
      "memory usage: 39.0 KB\n"
     ]
    },
    {
     "data": {
      "text/plain": [
       "None"
      ]
     },
     "metadata": {},
     "output_type": "display_data"
    },
    {
     "data": {
      "text/html": [
       "<div>\n",
       "<style scoped>\n",
       "    .dataframe tbody tr th:only-of-type {\n",
       "        vertical-align: middle;\n",
       "    }\n",
       "\n",
       "    .dataframe tbody tr th {\n",
       "        vertical-align: top;\n",
       "    }\n",
       "\n",
       "    .dataframe thead th {\n",
       "        text-align: right;\n",
       "    }\n",
       "</style>\n",
       "<table border=\"1\" class=\"dataframe\">\n",
       "  <thead>\n",
       "    <tr style=\"text-align: right;\">\n",
       "      <th></th>\n",
       "      <th>Id</th>\n",
       "      <th>Quantity</th>\n",
       "      <th>UnitPrice</th>\n",
       "      <th>Discount</th>\n",
       "      <th>ProductId</th>\n",
       "      <th>CategoryId</th>\n",
       "    </tr>\n",
       "  </thead>\n",
       "  <tbody>\n",
       "    <tr>\n",
       "      <th>count</th>\n",
       "      <td>830.000000</td>\n",
       "      <td>830.000000</td>\n",
       "      <td>830.000000</td>\n",
       "      <td>830.000000</td>\n",
       "      <td>830.000000</td>\n",
       "      <td>830.000000</td>\n",
       "    </tr>\n",
       "    <tr>\n",
       "      <th>mean</th>\n",
       "      <td>10662.500000</td>\n",
       "      <td>22.883133</td>\n",
       "      <td>24.868578</td>\n",
       "      <td>0.054157</td>\n",
       "      <td>55.489157</td>\n",
       "      <td>3.878313</td>\n",
       "    </tr>\n",
       "    <tr>\n",
       "      <th>std</th>\n",
       "      <td>239.744656</td>\n",
       "      <td>18.952727</td>\n",
       "      <td>25.800797</td>\n",
       "      <td>0.082725</td>\n",
       "      <td>18.093891</td>\n",
       "      <td>2.259068</td>\n",
       "    </tr>\n",
       "    <tr>\n",
       "      <th>min</th>\n",
       "      <td>10248.000000</td>\n",
       "      <td>1.000000</td>\n",
       "      <td>2.000000</td>\n",
       "      <td>0.000000</td>\n",
       "      <td>1.000000</td>\n",
       "      <td>1.000000</td>\n",
       "    </tr>\n",
       "    <tr>\n",
       "      <th>25%</th>\n",
       "      <td>10455.250000</td>\n",
       "      <td>10.000000</td>\n",
       "      <td>12.000000</td>\n",
       "      <td>0.000000</td>\n",
       "      <td>43.000000</td>\n",
       "      <td>2.000000</td>\n",
       "    </tr>\n",
       "    <tr>\n",
       "      <th>50%</th>\n",
       "      <td>10662.500000</td>\n",
       "      <td>20.000000</td>\n",
       "      <td>18.000000</td>\n",
       "      <td>0.000000</td>\n",
       "      <td>60.000000</td>\n",
       "      <td>4.000000</td>\n",
       "    </tr>\n",
       "    <tr>\n",
       "      <th>75%</th>\n",
       "      <td>10869.750000</td>\n",
       "      <td>30.000000</td>\n",
       "      <td>33.250000</td>\n",
       "      <td>0.100000</td>\n",
       "      <td>71.000000</td>\n",
       "      <td>5.000000</td>\n",
       "    </tr>\n",
       "    <tr>\n",
       "      <th>max</th>\n",
       "      <td>11077.000000</td>\n",
       "      <td>130.000000</td>\n",
       "      <td>263.500000</td>\n",
       "      <td>0.250000</td>\n",
       "      <td>77.000000</td>\n",
       "      <td>8.000000</td>\n",
       "    </tr>\n",
       "  </tbody>\n",
       "</table>\n",
       "</div>"
      ],
      "text/plain": [
       "                 Id    Quantity   UnitPrice    Discount   ProductId  \\\n",
       "count    830.000000  830.000000  830.000000  830.000000  830.000000   \n",
       "mean   10662.500000   22.883133   24.868578    0.054157   55.489157   \n",
       "std      239.744656   18.952727   25.800797    0.082725   18.093891   \n",
       "min    10248.000000    1.000000    2.000000    0.000000    1.000000   \n",
       "25%    10455.250000   10.000000   12.000000    0.000000   43.000000   \n",
       "50%    10662.500000   20.000000   18.000000    0.000000   60.000000   \n",
       "75%    10869.750000   30.000000   33.250000    0.100000   71.000000   \n",
       "max    11077.000000  130.000000  263.500000    0.250000   77.000000   \n",
       "\n",
       "       CategoryId  \n",
       "count  830.000000  \n",
       "mean     3.878313  \n",
       "std      2.259068  \n",
       "min      1.000000  \n",
       "25%      2.000000  \n",
       "50%      4.000000  \n",
       "75%      5.000000  \n",
       "max      8.000000  "
      ]
     },
     "metadata": {},
     "output_type": "display_data"
    },
    {
     "data": {
      "text/plain": [
       "(830, 6)"
      ]
     },
     "execution_count": 47,
     "metadata": {},
     "output_type": "execute_result"
    }
   ],
   "source": [
    "c.execute(\"\"\"SELECT [Order].Id,\n",
    "            OrderDetail.Quantity, OrderDetail.UnitPrice, OrderDetail.Discount, ProductId, CategoryId\n",
    "            FROM OrderDetail\n",
    "            JOIN [Order]\n",
    "            ON [Order].Id = OrderDetail.OrderId\n",
    "            INNER JOIN Product\n",
    "            ON Product.Id = OrderDetail.ProductId\n",
    "            JOIN Category\n",
    "            ON CategoryId = Category.Id\n",
    "            WHERE Discount != 0.06 AND Discount > 0.04 OR Discount = 0.00\n",
    "            GROUP BY [Order].Id\n",
    "             ;\"\"\")\n",
    "df = pd.DataFrame(c.fetchall())\n",
    "df.columns = [x[0] for x in c.description]\n",
    "display(df.head())\n",
    "display(df.info())\n",
    "display(df.describe())\n",
    "np.shape(df)"
   ]
  },
  {
   "cell_type": "code",
   "execution_count": 48,
   "metadata": {},
   "outputs": [
    {
     "name": "stdout",
     "output_type": "stream",
     "text": [
      "830\n",
      "830\n"
     ]
    }
   ],
   "source": [
    "print(df['Id'].nunique())\n",
    "print(len(df['Id']))"
   ]
  },
  {
   "cell_type": "code",
   "execution_count": 49,
   "metadata": {},
   "outputs": [
    {
     "data": {
      "text/html": [
       "<div>\n",
       "<style scoped>\n",
       "    .dataframe tbody tr th:only-of-type {\n",
       "        vertical-align: middle;\n",
       "    }\n",
       "\n",
       "    .dataframe tbody tr th {\n",
       "        vertical-align: top;\n",
       "    }\n",
       "\n",
       "    .dataframe thead th {\n",
       "        text-align: right;\n",
       "    }\n",
       "</style>\n",
       "<table border=\"1\" class=\"dataframe\">\n",
       "  <thead>\n",
       "    <tr style=\"text-align: right;\">\n",
       "      <th></th>\n",
       "      <th>Id</th>\n",
       "      <th>Quantity</th>\n",
       "      <th>UnitPrice</th>\n",
       "      <th>Discount</th>\n",
       "      <th>ProductId</th>\n",
       "      <th>CategoryId</th>\n",
       "      <th>OrderTotal</th>\n",
       "    </tr>\n",
       "  </thead>\n",
       "  <tbody>\n",
       "    <tr>\n",
       "      <th>0</th>\n",
       "      <td>10248</td>\n",
       "      <td>5</td>\n",
       "      <td>34.8</td>\n",
       "      <td>0.00</td>\n",
       "      <td>72</td>\n",
       "      <td>4</td>\n",
       "      <td>174.0</td>\n",
       "    </tr>\n",
       "    <tr>\n",
       "      <th>1</th>\n",
       "      <td>10249</td>\n",
       "      <td>40</td>\n",
       "      <td>42.4</td>\n",
       "      <td>0.00</td>\n",
       "      <td>51</td>\n",
       "      <td>7</td>\n",
       "      <td>1696.0</td>\n",
       "    </tr>\n",
       "    <tr>\n",
       "      <th>2</th>\n",
       "      <td>10250</td>\n",
       "      <td>15</td>\n",
       "      <td>16.8</td>\n",
       "      <td>0.15</td>\n",
       "      <td>65</td>\n",
       "      <td>2</td>\n",
       "      <td>214.2</td>\n",
       "    </tr>\n",
       "    <tr>\n",
       "      <th>3</th>\n",
       "      <td>10251</td>\n",
       "      <td>20</td>\n",
       "      <td>16.8</td>\n",
       "      <td>0.00</td>\n",
       "      <td>65</td>\n",
       "      <td>2</td>\n",
       "      <td>336.0</td>\n",
       "    </tr>\n",
       "    <tr>\n",
       "      <th>4</th>\n",
       "      <td>10252</td>\n",
       "      <td>40</td>\n",
       "      <td>27.2</td>\n",
       "      <td>0.00</td>\n",
       "      <td>60</td>\n",
       "      <td>4</td>\n",
       "      <td>1088.0</td>\n",
       "    </tr>\n",
       "  </tbody>\n",
       "</table>\n",
       "</div>"
      ],
      "text/plain": [
       "      Id  Quantity  UnitPrice  Discount  ProductId  CategoryId  OrderTotal\n",
       "0  10248         5       34.8      0.00         72           4       174.0\n",
       "1  10249        40       42.4      0.00         51           7      1696.0\n",
       "2  10250        15       16.8      0.15         65           2       214.2\n",
       "3  10251        20       16.8      0.00         65           2       336.0\n",
       "4  10252        40       27.2      0.00         60           4      1088.0"
      ]
     },
     "execution_count": 49,
     "metadata": {},
     "output_type": "execute_result"
    }
   ],
   "source": [
    "df['OrderTotal'] = df['Quantity']*(df['UnitPrice']*(1-df['Discount']))\n",
    "df.head()"
   ]
  },
  {
   "cell_type": "code",
   "execution_count": 50,
   "metadata": {},
   "outputs": [
    {
     "data": {
      "text/html": [
       "<div>\n",
       "<style scoped>\n",
       "    .dataframe tbody tr th:only-of-type {\n",
       "        vertical-align: middle;\n",
       "    }\n",
       "\n",
       "    .dataframe tbody tr th {\n",
       "        vertical-align: top;\n",
       "    }\n",
       "\n",
       "    .dataframe thead th {\n",
       "        text-align: right;\n",
       "    }\n",
       "</style>\n",
       "<table border=\"1\" class=\"dataframe\">\n",
       "  <thead>\n",
       "    <tr style=\"text-align: right;\">\n",
       "      <th></th>\n",
       "      <th>Id</th>\n",
       "      <th>Quantity</th>\n",
       "      <th>UnitPrice</th>\n",
       "      <th>Discount</th>\n",
       "      <th>ProductId</th>\n",
       "      <th>CategoryId</th>\n",
       "      <th>OrderTotal</th>\n",
       "      <th>Sales Before Discount</th>\n",
       "      <th>Has Discount</th>\n",
       "    </tr>\n",
       "  </thead>\n",
       "  <tbody>\n",
       "    <tr>\n",
       "      <th>0</th>\n",
       "      <td>10248</td>\n",
       "      <td>5</td>\n",
       "      <td>34.8</td>\n",
       "      <td>0.00</td>\n",
       "      <td>72</td>\n",
       "      <td>4</td>\n",
       "      <td>174.0</td>\n",
       "      <td>174.0</td>\n",
       "      <td>False</td>\n",
       "    </tr>\n",
       "    <tr>\n",
       "      <th>1</th>\n",
       "      <td>10249</td>\n",
       "      <td>40</td>\n",
       "      <td>42.4</td>\n",
       "      <td>0.00</td>\n",
       "      <td>51</td>\n",
       "      <td>7</td>\n",
       "      <td>1696.0</td>\n",
       "      <td>1696.0</td>\n",
       "      <td>False</td>\n",
       "    </tr>\n",
       "    <tr>\n",
       "      <th>2</th>\n",
       "      <td>10250</td>\n",
       "      <td>15</td>\n",
       "      <td>16.8</td>\n",
       "      <td>0.15</td>\n",
       "      <td>65</td>\n",
       "      <td>2</td>\n",
       "      <td>214.2</td>\n",
       "      <td>252.0</td>\n",
       "      <td>True</td>\n",
       "    </tr>\n",
       "    <tr>\n",
       "      <th>3</th>\n",
       "      <td>10251</td>\n",
       "      <td>20</td>\n",
       "      <td>16.8</td>\n",
       "      <td>0.00</td>\n",
       "      <td>65</td>\n",
       "      <td>2</td>\n",
       "      <td>336.0</td>\n",
       "      <td>336.0</td>\n",
       "      <td>False</td>\n",
       "    </tr>\n",
       "    <tr>\n",
       "      <th>4</th>\n",
       "      <td>10252</td>\n",
       "      <td>40</td>\n",
       "      <td>27.2</td>\n",
       "      <td>0.00</td>\n",
       "      <td>60</td>\n",
       "      <td>4</td>\n",
       "      <td>1088.0</td>\n",
       "      <td>1088.0</td>\n",
       "      <td>False</td>\n",
       "    </tr>\n",
       "  </tbody>\n",
       "</table>\n",
       "</div>"
      ],
      "text/plain": [
       "      Id  Quantity  UnitPrice  Discount  ProductId  CategoryId  OrderTotal  \\\n",
       "0  10248         5       34.8      0.00         72           4       174.0   \n",
       "1  10249        40       42.4      0.00         51           7      1696.0   \n",
       "2  10250        15       16.8      0.15         65           2       214.2   \n",
       "3  10251        20       16.8      0.00         65           2       336.0   \n",
       "4  10252        40       27.2      0.00         60           4      1088.0   \n",
       "\n",
       "   Sales Before Discount  Has Discount  \n",
       "0                  174.0         False  \n",
       "1                 1696.0         False  \n",
       "2                  252.0          True  \n",
       "3                  336.0         False  \n",
       "4                 1088.0         False  "
      ]
     },
     "execution_count": 50,
     "metadata": {},
     "output_type": "execute_result"
    }
   ],
   "source": [
    "df['Sales Before Discount'] = df['Quantity']*df['UnitPrice']\n",
    "df['Has Discount'] = (df['Discount'] != 0)\n",
    "df.head()"
   ]
  },
  {
   "cell_type": "code",
   "execution_count": 51,
   "metadata": {},
   "outputs": [],
   "source": [
    "disc_00 = df.loc[df['Discount'] == 0.00]\n",
    "disc_05 = df.loc[df['Discount'] == 0.05]\n",
    "disc_10 = df.loc[df['Discount'] == 0.10]\n",
    "disc_15 = df.loc[df['Discount'] == 0.15]\n",
    "disc_20 = df.loc[df['Discount'] == 0.20]\n",
    "disc_25 = df.loc[df['Discount'] == 0.25]"
   ]
  },
  {
   "cell_type": "code",
   "execution_count": 52,
   "metadata": {},
   "outputs": [
    {
     "data": {
      "text/plain": [
       "count      70.000000\n",
       "mean      740.069679\n",
       "std       871.353769\n",
       "min        47.500000\n",
       "25%       294.975000\n",
       "50%       453.720000\n",
       "75%       878.750000\n",
       "max      6042.000000\n",
       "Name: OrderTotal, dtype: float64"
      ]
     },
     "execution_count": 52,
     "metadata": {},
     "output_type": "execute_result"
    }
   ],
   "source": [
    "disc_05['OrderTotal'].describe()"
   ]
  },
  {
   "cell_type": "code",
   "execution_count": 53,
   "metadata": {},
   "outputs": [
    {
     "data": {
      "text/plain": [
       "(0, 9)"
      ]
     },
     "execution_count": 53,
     "metadata": {},
     "output_type": "execute_result"
    },
    {
     "data": {
      "image/png": "[encoded data removed]",
      "text/plain": [
       "<Figure size 1080x504 with 1 Axes>"
      ]
     },
     "metadata": {},
     "output_type": "display_data"
    }
   ],
   "source": [
    "fig, ax = plt.subplots(figsize=(15,7))\n",
    "df.groupby(['CategoryId', 'Has Discount']).mean()['Sales Before Discount'].unstack().plot(ax=ax, marker='o', linestyle='', ms=10)\n",
    "plt.xlabel('\\nCategory', fontsize = 14)\n",
    "plt.ylabel('Average Order Value\\n', fontsize = 14)\n",
    "plt.title('Discount and Average Order Total (Before Discount)\\n', fontsize = 18)\n",
    "ax.set_xlim(0,9)"
   ]
  },
  {
   "cell_type": "code",
   "execution_count": 54,
   "metadata": {},
   "outputs": [
    {
     "data": {
      "text/html": [
       "<div>\n",
       "<style scoped>\n",
       "    .dataframe tbody tr th:only-of-type {\n",
       "        vertical-align: middle;\n",
       "    }\n",
       "\n",
       "    .dataframe tbody tr th {\n",
       "        vertical-align: top;\n",
       "    }\n",
       "\n",
       "    .dataframe thead th {\n",
       "        text-align: right;\n",
       "    }\n",
       "</style>\n",
       "<table border=\"1\" class=\"dataframe\">\n",
       "  <thead>\n",
       "    <tr style=\"text-align: right;\">\n",
       "      <th></th>\n",
       "      <th>Id</th>\n",
       "      <th>Quantity</th>\n",
       "      <th>UnitPrice</th>\n",
       "      <th>Discount</th>\n",
       "      <th>ProductId</th>\n",
       "      <th>CategoryId</th>\n",
       "      <th>OrderTotal</th>\n",
       "      <th>Sales Before Discount</th>\n",
       "      <th>Has Discount</th>\n",
       "    </tr>\n",
       "  </thead>\n",
       "  <tbody>\n",
       "    <tr>\n",
       "      <th>0</th>\n",
       "      <td>10248</td>\n",
       "      <td>5</td>\n",
       "      <td>34.8</td>\n",
       "      <td>0.0</td>\n",
       "      <td>72</td>\n",
       "      <td>4</td>\n",
       "      <td>174.0</td>\n",
       "      <td>174.0</td>\n",
       "      <td>False</td>\n",
       "    </tr>\n",
       "    <tr>\n",
       "      <th>1</th>\n",
       "      <td>10249</td>\n",
       "      <td>40</td>\n",
       "      <td>42.4</td>\n",
       "      <td>0.0</td>\n",
       "      <td>51</td>\n",
       "      <td>7</td>\n",
       "      <td>1696.0</td>\n",
       "      <td>1696.0</td>\n",
       "      <td>False</td>\n",
       "    </tr>\n",
       "    <tr>\n",
       "      <th>3</th>\n",
       "      <td>10251</td>\n",
       "      <td>20</td>\n",
       "      <td>16.8</td>\n",
       "      <td>0.0</td>\n",
       "      <td>65</td>\n",
       "      <td>2</td>\n",
       "      <td>336.0</td>\n",
       "      <td>336.0</td>\n",
       "      <td>False</td>\n",
       "    </tr>\n",
       "    <tr>\n",
       "      <th>4</th>\n",
       "      <td>10252</td>\n",
       "      <td>40</td>\n",
       "      <td>27.2</td>\n",
       "      <td>0.0</td>\n",
       "      <td>60</td>\n",
       "      <td>4</td>\n",
       "      <td>1088.0</td>\n",
       "      <td>1088.0</td>\n",
       "      <td>False</td>\n",
       "    </tr>\n",
       "    <tr>\n",
       "      <th>5</th>\n",
       "      <td>10253</td>\n",
       "      <td>40</td>\n",
       "      <td>16.0</td>\n",
       "      <td>0.0</td>\n",
       "      <td>49</td>\n",
       "      <td>3</td>\n",
       "      <td>640.0</td>\n",
       "      <td>640.0</td>\n",
       "      <td>False</td>\n",
       "    </tr>\n",
       "  </tbody>\n",
       "</table>\n",
       "</div>"
      ],
      "text/plain": [
       "      Id  Quantity  UnitPrice  Discount  ProductId  CategoryId  OrderTotal  \\\n",
       "0  10248         5       34.8       0.0         72           4       174.0   \n",
       "1  10249        40       42.4       0.0         51           7      1696.0   \n",
       "3  10251        20       16.8       0.0         65           2       336.0   \n",
       "4  10252        40       27.2       0.0         60           4      1088.0   \n",
       "5  10253        40       16.0       0.0         49           3       640.0   \n",
       "\n",
       "   Sales Before Discount  Has Discount  \n",
       "0                  174.0         False  \n",
       "1                 1696.0         False  \n",
       "3                  336.0         False  \n",
       "4                 1088.0         False  \n",
       "5                  640.0         False  "
      ]
     },
     "execution_count": 54,
     "metadata": {},
     "output_type": "execute_result"
    }
   ],
   "source": [
    "not_discounted = df.loc[df['Discount'] == 0]\n",
    "not_discounted.head()"
   ]
  },
  {
   "cell_type": "code",
   "execution_count": 55,
   "metadata": {},
   "outputs": [
    {
     "data": {
      "text/html": [
       "<div>\n",
       "<style scoped>\n",
       "    .dataframe tbody tr th:only-of-type {\n",
       "        vertical-align: middle;\n",
       "    }\n",
       "\n",
       "    .dataframe tbody tr th {\n",
       "        vertical-align: top;\n",
       "    }\n",
       "\n",
       "    .dataframe thead th {\n",
       "        text-align: right;\n",
       "    }\n",
       "</style>\n",
       "<table border=\"1\" class=\"dataframe\">\n",
       "  <thead>\n",
       "    <tr style=\"text-align: right;\">\n",
       "      <th></th>\n",
       "      <th>Id</th>\n",
       "      <th>Quantity</th>\n",
       "      <th>UnitPrice</th>\n",
       "      <th>Discount</th>\n",
       "      <th>ProductId</th>\n",
       "      <th>CategoryId</th>\n",
       "      <th>OrderTotal</th>\n",
       "      <th>Sales Before Discount</th>\n",
       "      <th>Has Discount</th>\n",
       "    </tr>\n",
       "  </thead>\n",
       "  <tbody>\n",
       "    <tr>\n",
       "      <th>2</th>\n",
       "      <td>10250</td>\n",
       "      <td>15</td>\n",
       "      <td>16.8</td>\n",
       "      <td>0.15</td>\n",
       "      <td>65</td>\n",
       "      <td>2</td>\n",
       "      <td>214.200</td>\n",
       "      <td>252.0</td>\n",
       "      <td>True</td>\n",
       "    </tr>\n",
       "    <tr>\n",
       "      <th>10</th>\n",
       "      <td>10258</td>\n",
       "      <td>6</td>\n",
       "      <td>25.6</td>\n",
       "      <td>0.20</td>\n",
       "      <td>32</td>\n",
       "      <td>4</td>\n",
       "      <td>122.880</td>\n",
       "      <td>153.6</td>\n",
       "      <td>True</td>\n",
       "    </tr>\n",
       "    <tr>\n",
       "      <th>12</th>\n",
       "      <td>10260</td>\n",
       "      <td>21</td>\n",
       "      <td>12.0</td>\n",
       "      <td>0.25</td>\n",
       "      <td>70</td>\n",
       "      <td>1</td>\n",
       "      <td>189.000</td>\n",
       "      <td>252.0</td>\n",
       "      <td>True</td>\n",
       "    </tr>\n",
       "    <tr>\n",
       "      <th>15</th>\n",
       "      <td>10263</td>\n",
       "      <td>36</td>\n",
       "      <td>8.0</td>\n",
       "      <td>0.25</td>\n",
       "      <td>74</td>\n",
       "      <td>7</td>\n",
       "      <td>216.000</td>\n",
       "      <td>288.0</td>\n",
       "      <td>True</td>\n",
       "    </tr>\n",
       "    <tr>\n",
       "      <th>16</th>\n",
       "      <td>10264</td>\n",
       "      <td>25</td>\n",
       "      <td>7.7</td>\n",
       "      <td>0.15</td>\n",
       "      <td>41</td>\n",
       "      <td>8</td>\n",
       "      <td>163.625</td>\n",
       "      <td>192.5</td>\n",
       "      <td>True</td>\n",
       "    </tr>\n",
       "  </tbody>\n",
       "</table>\n",
       "</div>"
      ],
      "text/plain": [
       "       Id  Quantity  UnitPrice  Discount  ProductId  CategoryId  OrderTotal  \\\n",
       "2   10250        15       16.8      0.15         65           2     214.200   \n",
       "10  10258         6       25.6      0.20         32           4     122.880   \n",
       "12  10260        21       12.0      0.25         70           1     189.000   \n",
       "15  10263        36        8.0      0.25         74           7     216.000   \n",
       "16  10264        25        7.7      0.15         41           8     163.625   \n",
       "\n",
       "    Sales Before Discount  Has Discount  \n",
       "2                   252.0          True  \n",
       "10                  153.6          True  \n",
       "12                  252.0          True  \n",
       "15                  288.0          True  \n",
       "16                  192.5          True  "
      ]
     },
     "execution_count": 55,
     "metadata": {},
     "output_type": "execute_result"
    }
   ],
   "source": [
    "discounted = df.loc[df['Discount'] != 0]\n",
    "discounted.head()"
   ]
  },
  {
   "cell_type": "code",
   "execution_count": 56,
   "metadata": {},
   "outputs": [
    {
     "data": {
      "image/png": "[encoded data removed]",
      "text/plain": [
       "<Figure size 864x576 with 1 Axes>"
      ]
     },
     "metadata": {},
     "output_type": "display_data"
    }
   ],
   "source": [
    "sns.set(rc={'figure.figsize':(12, 8)})\n",
    "sns.distplot(np.log(not_discounted[\"OrderTotal\"]), label = 'Not Discounted')\n",
    "sns.distplot(np.log(discounted['OrderTotal']), label = 'Discounted')\n",
    "plt.axvline(np.mean(np.log(not_discounted['OrderTotal'])), color='#FF0000', label = 'Not Discounted mean')\n",
    "plt.axvline(np.mean(np.log(discounted['OrderTotal'])), color='#008000', label = 'Discounted mean')\n",
    "plt.title('Discounted vd Not Discounted Order Totals (Log Transformed)\\n', fontsize = 18)\n",
    "plt.legend()\n",
    "plt.show();"
   ]
  },
  {
   "cell_type": "markdown",
   "metadata": {},
   "source": [
    "Testing for Homogeneity of Variance"
   ]
  },
  {
   "cell_type": "code",
   "execution_count": 57,
   "metadata": {},
   "outputs": [
    {
     "data": {
      "text/plain": [
       "LeveneResult(statistic=0.5314857450805779, pvalue=0.46618904603320965)"
      ]
     },
     "execution_count": 57,
     "metadata": {},
     "output_type": "execute_result"
    }
   ],
   "source": [
    "#homogeneous \n",
    "stats.levene(not_discounted['OrderTotal'], discounted['OrderTotal'])"
   ]
  },
  {
   "cell_type": "markdown",
   "metadata": {},
   "source": [
    "Testing for Normality"
   ]
  },
  {
   "cell_type": "code",
   "execution_count": 58,
   "metadata": {},
   "outputs": [
    {
     "data": {
      "text/plain": [
       "(0.37367695569992065, 7.959522413703715e-39)"
      ]
     },
     "execution_count": 58,
     "metadata": {},
     "output_type": "execute_result"
    }
   ],
   "source": [
    "#not normal\n",
    "stats.shapiro(not_discounted['OrderTotal'])"
   ]
  },
  {
   "cell_type": "code",
   "execution_count": 59,
   "metadata": {},
   "outputs": [
    {
     "data": {
      "text/plain": [
       "(0.5636283159255981, 4.714796296702494e-27)"
      ]
     },
     "execution_count": 59,
     "metadata": {},
     "output_type": "execute_result"
    }
   ],
   "source": [
    "#not normal\n",
    "stats.shapiro(discounted['OrderTotal'])"
   ]
  },
  {
   "cell_type": "code",
   "execution_count": 60,
   "metadata": {},
   "outputs": [
    {
     "data": {
      "text/html": [
       "<div>\n",
       "<style scoped>\n",
       "    .dataframe tbody tr th:only-of-type {\n",
       "        vertical-align: middle;\n",
       "    }\n",
       "\n",
       "    .dataframe tbody tr th {\n",
       "        vertical-align: top;\n",
       "    }\n",
       "\n",
       "    .dataframe thead th {\n",
       "        text-align: right;\n",
       "    }\n",
       "</style>\n",
       "<table border=\"1\" class=\"dataframe\">\n",
       "  <thead>\n",
       "    <tr style=\"text-align: right;\">\n",
       "      <th></th>\n",
       "      <th>Variable</th>\n",
       "      <th>N</th>\n",
       "      <th>Mean</th>\n",
       "      <th>SD</th>\n",
       "      <th>SE</th>\n",
       "      <th>95% Conf.</th>\n",
       "      <th>Interval</th>\n",
       "    </tr>\n",
       "  </thead>\n",
       "  <tbody>\n",
       "    <tr>\n",
       "      <th>0</th>\n",
       "      <td>OrderTotal</td>\n",
       "      <td>308.0</td>\n",
       "      <td>591.426547</td>\n",
       "      <td>847.375023</td>\n",
       "      <td>48.283673</td>\n",
       "      <td>496.417736</td>\n",
       "      <td>686.435358</td>\n",
       "    </tr>\n",
       "    <tr>\n",
       "      <th>1</th>\n",
       "      <td>OrderTotal</td>\n",
       "      <td>522.0</td>\n",
       "      <td>517.180460</td>\n",
       "      <td>971.579167</td>\n",
       "      <td>42.524865</td>\n",
       "      <td>433.639185</td>\n",
       "      <td>600.721735</td>\n",
       "    </tr>\n",
       "    <tr>\n",
       "      <th>2</th>\n",
       "      <td>combined</td>\n",
       "      <td>830.0</td>\n",
       "      <td>544.732020</td>\n",
       "      <td>927.604908</td>\n",
       "      <td>32.197636</td>\n",
       "      <td>481.533543</td>\n",
       "      <td>607.930497</td>\n",
       "    </tr>\n",
       "  </tbody>\n",
       "</table>\n",
       "</div>"
      ],
      "text/plain": [
       "     Variable      N        Mean          SD         SE   95% Conf.  \\\n",
       "0  OrderTotal  308.0  591.426547  847.375023  48.283673  496.417736   \n",
       "1  OrderTotal  522.0  517.180460  971.579167  42.524865  433.639185   \n",
       "2    combined  830.0  544.732020  927.604908  32.197636  481.533543   \n",
       "\n",
       "     Interval  \n",
       "0  686.435358  \n",
       "1  600.721735  \n",
       "2  607.930497  "
      ]
     },
     "metadata": {},
     "output_type": "display_data"
    },
    {
     "data": {
      "text/html": [
       "<div>\n",
       "<style scoped>\n",
       "    .dataframe tbody tr th:only-of-type {\n",
       "        vertical-align: middle;\n",
       "    }\n",
       "\n",
       "    .dataframe tbody tr th {\n",
       "        vertical-align: top;\n",
       "    }\n",
       "\n",
       "    .dataframe thead th {\n",
       "        text-align: right;\n",
       "    }\n",
       "</style>\n",
       "<table border=\"1\" class=\"dataframe\">\n",
       "  <thead>\n",
       "    <tr style=\"text-align: right;\">\n",
       "      <th></th>\n",
       "      <th>Independent t-test</th>\n",
       "      <th>results</th>\n",
       "    </tr>\n",
       "  </thead>\n",
       "  <tbody>\n",
       "    <tr>\n",
       "      <th>0</th>\n",
       "      <td>Difference (OrderTotal - OrderTotal) =</td>\n",
       "      <td>74.2461</td>\n",
       "    </tr>\n",
       "    <tr>\n",
       "      <th>1</th>\n",
       "      <td>Degrees of freedom =</td>\n",
       "      <td>828.0000</td>\n",
       "    </tr>\n",
       "    <tr>\n",
       "      <th>2</th>\n",
       "      <td>t =</td>\n",
       "      <td>1.1142</td>\n",
       "    </tr>\n",
       "    <tr>\n",
       "      <th>3</th>\n",
       "      <td>Two side test p value =</td>\n",
       "      <td>0.2655</td>\n",
       "    </tr>\n",
       "    <tr>\n",
       "      <th>4</th>\n",
       "      <td>Difference &gt; 0 p value =</td>\n",
       "      <td>0.8672</td>\n",
       "    </tr>\n",
       "    <tr>\n",
       "      <th>5</th>\n",
       "      <td>Difference &lt; 0 p value =</td>\n",
       "      <td>0.1328</td>\n",
       "    </tr>\n",
       "    <tr>\n",
       "      <th>6</th>\n",
       "      <td>Cohen's d =</td>\n",
       "      <td>0.0801</td>\n",
       "    </tr>\n",
       "    <tr>\n",
       "      <th>7</th>\n",
       "      <td>Hedge's g =</td>\n",
       "      <td>0.0800</td>\n",
       "    </tr>\n",
       "    <tr>\n",
       "      <th>8</th>\n",
       "      <td>Glass's delta =</td>\n",
       "      <td>0.0876</td>\n",
       "    </tr>\n",
       "    <tr>\n",
       "      <th>9</th>\n",
       "      <td>r =</td>\n",
       "      <td>0.0387</td>\n",
       "    </tr>\n",
       "  </tbody>\n",
       "</table>\n",
       "</div>"
      ],
      "text/plain": [
       "                        Independent t-test   results\n",
       "0  Difference (OrderTotal - OrderTotal) =    74.2461\n",
       "1                    Degrees of freedom =   828.0000\n",
       "2                                     t =     1.1142\n",
       "3                 Two side test p value =     0.2655\n",
       "4                Difference > 0 p value =     0.8672\n",
       "5                Difference < 0 p value =     0.1328\n",
       "6                             Cohen's d =     0.0801\n",
       "7                             Hedge's g =     0.0800\n",
       "8                         Glass's delta =     0.0876\n",
       "9                                     r =     0.0387"
      ]
     },
     "execution_count": 60,
     "metadata": {},
     "output_type": "execute_result"
    }
   ],
   "source": [
    "descriptives, results = rp.ttest(discounted['OrderTotal'], not_discounted['OrderTotal'], equal_variances = True)\n",
    "display(descriptives)\n",
    "results"
   ]
  },
  {
   "cell_type": "code",
   "execution_count": 61,
   "metadata": {},
   "outputs": [
    {
     "name": "stdout",
     "output_type": "stream",
     "text": [
      "t-critical value: 1.6466960011098632\n"
     ]
    }
   ],
   "source": [
    "#t-critical value \n",
    "print ('t-critical value:',t.ppf(1 - 0.05, df=828))"
   ]
  },
  {
   "cell_type": "code",
   "execution_count": 62,
   "metadata": {},
   "outputs": [
    {
     "data": {
      "text/plain": [
       "0.9999999805524182"
      ]
     },
     "execution_count": 62,
     "metadata": {},
     "output_type": "execute_result"
    }
   ],
   "source": [
    "power = TTestIndPower()\n",
    "power_order_total = power.power(effect_size=0.3948744653331997, nobs1=len(discounted['OrderTotal']), alpha=alpha, ratio=len(not_discounted['OrderTotal'])/len(discounted['OrderTotal']), df=(len(discounted['OrderTotal']) -1 + len(not_discounted['OrderTotal'])-1), alternative='larger')\n",
    "power_order_total"
   ]
  },
  {
   "cell_type": "code",
   "execution_count": 63,
   "metadata": {},
   "outputs": [
    {
     "data": {
      "text/plain": [
       "count     308.000000\n",
       "mean      591.426547\n",
       "std       847.375023\n",
       "min        17.000000\n",
       "25%       173.310000\n",
       "50%       334.000000\n",
       "75%       678.250000\n",
       "max      8432.000000\n",
       "Name: OrderTotal, dtype: float64"
      ]
     },
     "execution_count": 63,
     "metadata": {},
     "output_type": "execute_result"
    }
   ],
   "source": [
    "discounted['OrderTotal'].describe() "
   ]
  },
  {
   "cell_type": "code",
   "execution_count": 64,
   "metadata": {},
   "outputs": [
    {
     "data": {
      "text/plain": [
       "count      522.000000\n",
       "mean       517.180460\n",
       "std        971.579167\n",
       "min         12.500000\n",
       "25%        135.025000\n",
       "50%        285.000000\n",
       "75%        567.500000\n",
       "max      15810.000000\n",
       "Name: OrderTotal, dtype: float64"
      ]
     },
     "execution_count": 64,
     "metadata": {},
     "output_type": "execute_result"
    }
   ],
   "source": [
    "not_discounted['OrderTotal'].describe()"
   ]
  },
  {
   "cell_type": "markdown",
   "metadata": {},
   "source": [
    "- t value: 1.1142\n",
    "- t-critical value: 1.6466960011098632\n",
    "- p-value : 0.2655\n",
    "- cohen's d: 0.0801, small effect\n",
    "- power: 0.9999999805524182\n",
    "\n",
    "> $H_0$: Discount does not have a statistically significant impact on order total.\n",
    "\n",
    "> $H_1$: Discount has a statistically significant impact on order total.\n",
    "    \n",
    "The findings are not significant! **We can fail to reject the null hypothesis and reject the alternative.** Offering a discount does not have a statistically significant impact on order total. The average order total for discounted orders was $542.93, while orders withour discounts averaged $517.18. \n",
    "\n",
    "The results may be used to determine when and if discounts should be offered in order to incentivize higher sales. Restrictions may need to be placed on when discounts are given. "
   ]
  },
  {
   "cell_type": "markdown",
   "metadata": {},
   "source": [
    "## Hypothesis Test 3 "
   ]
  },
  {
   "cell_type": "markdown",
   "metadata": {},
   "source": [
    "## Customer Loyalty"
   ]
  },
  {
   "cell_type": "markdown",
   "metadata": {},
   "source": [
    "> $H_0$: People who order more frequently do not spend more money on average than people who order less frequently.\n",
    "\n",
    "> $H_1$: People who order more frequently spend more money on average than people who order less frequently.\n",
    "\n",
    "> $\\alpha$ = 0.05"
   ]
  },
  {
   "cell_type": "code",
   "execution_count": 65,
   "metadata": {},
   "outputs": [
    {
     "data": {
      "text/html": [
       "<div>\n",
       "<style scoped>\n",
       "    .dataframe tbody tr th:only-of-type {\n",
       "        vertical-align: middle;\n",
       "    }\n",
       "\n",
       "    .dataframe tbody tr th {\n",
       "        vertical-align: top;\n",
       "    }\n",
       "\n",
       "    .dataframe thead th {\n",
       "        text-align: right;\n",
       "    }\n",
       "</style>\n",
       "<table border=\"1\" class=\"dataframe\">\n",
       "  <thead>\n",
       "    <tr style=\"text-align: right;\">\n",
       "      <th></th>\n",
       "      <th>customer_id</th>\n",
       "      <th>order_id</th>\n",
       "      <th>Quantity</th>\n",
       "      <th>UnitPrice</th>\n",
       "      <th>Discount</th>\n",
       "    </tr>\n",
       "  </thead>\n",
       "  <tbody>\n",
       "    <tr>\n",
       "      <th>0</th>\n",
       "      <td>ALFKI</td>\n",
       "      <td>10643</td>\n",
       "      <td>15</td>\n",
       "      <td>45.6</td>\n",
       "      <td>0.25</td>\n",
       "    </tr>\n",
       "    <tr>\n",
       "      <th>1</th>\n",
       "      <td>ALFKI</td>\n",
       "      <td>10643</td>\n",
       "      <td>21</td>\n",
       "      <td>18.0</td>\n",
       "      <td>0.25</td>\n",
       "    </tr>\n",
       "    <tr>\n",
       "      <th>2</th>\n",
       "      <td>ALFKI</td>\n",
       "      <td>10643</td>\n",
       "      <td>2</td>\n",
       "      <td>12.0</td>\n",
       "      <td>0.25</td>\n",
       "    </tr>\n",
       "    <tr>\n",
       "      <th>3</th>\n",
       "      <td>ALFKI</td>\n",
       "      <td>10692</td>\n",
       "      <td>20</td>\n",
       "      <td>43.9</td>\n",
       "      <td>0.00</td>\n",
       "    </tr>\n",
       "    <tr>\n",
       "      <th>4</th>\n",
       "      <td>ALFKI</td>\n",
       "      <td>10702</td>\n",
       "      <td>6</td>\n",
       "      <td>10.0</td>\n",
       "      <td>0.00</td>\n",
       "    </tr>\n",
       "  </tbody>\n",
       "</table>\n",
       "</div>"
      ],
      "text/plain": [
       "  customer_id  order_id  Quantity  UnitPrice  Discount\n",
       "0       ALFKI     10643        15       45.6      0.25\n",
       "1       ALFKI     10643        21       18.0      0.25\n",
       "2       ALFKI     10643         2       12.0      0.25\n",
       "3       ALFKI     10692        20       43.9      0.00\n",
       "4       ALFKI     10702         6       10.0      0.00"
      ]
     },
     "metadata": {},
     "output_type": "display_data"
    },
    {
     "name": "stdout",
     "output_type": "stream",
     "text": [
      "<class 'pandas.core.frame.DataFrame'>\n",
      "RangeIndex: 2078 entries, 0 to 2077\n",
      "Data columns (total 5 columns):\n",
      "customer_id    2078 non-null object\n",
      "order_id       2078 non-null int64\n",
      "Quantity       2078 non-null int64\n",
      "UnitPrice      2078 non-null float64\n",
      "Discount       2078 non-null float64\n",
      "dtypes: float64(2), int64(2), object(1)\n",
      "memory usage: 81.2+ KB\n"
     ]
    },
    {
     "data": {
      "text/plain": [
       "None"
      ]
     },
     "metadata": {},
     "output_type": "display_data"
    },
    {
     "data": {
      "text/html": [
       "<div>\n",
       "<style scoped>\n",
       "    .dataframe tbody tr th:only-of-type {\n",
       "        vertical-align: middle;\n",
       "    }\n",
       "\n",
       "    .dataframe tbody tr th {\n",
       "        vertical-align: top;\n",
       "    }\n",
       "\n",
       "    .dataframe thead th {\n",
       "        text-align: right;\n",
       "    }\n",
       "</style>\n",
       "<table border=\"1\" class=\"dataframe\">\n",
       "  <thead>\n",
       "    <tr style=\"text-align: right;\">\n",
       "      <th></th>\n",
       "      <th>order_id</th>\n",
       "      <th>Quantity</th>\n",
       "      <th>UnitPrice</th>\n",
       "      <th>Discount</th>\n",
       "    </tr>\n",
       "  </thead>\n",
       "  <tbody>\n",
       "    <tr>\n",
       "      <th>count</th>\n",
       "      <td>2078.000000</td>\n",
       "      <td>2078.000000</td>\n",
       "      <td>2078.000000</td>\n",
       "      <td>2078.000000</td>\n",
       "    </tr>\n",
       "    <tr>\n",
       "      <th>mean</th>\n",
       "      <td>10658.376323</td>\n",
       "      <td>23.924447</td>\n",
       "      <td>26.277416</td>\n",
       "      <td>0.056035</td>\n",
       "    </tr>\n",
       "    <tr>\n",
       "      <th>std</th>\n",
       "      <td>242.371015</td>\n",
       "      <td>19.151339</td>\n",
       "      <td>29.962501</td>\n",
       "      <td>0.083421</td>\n",
       "    </tr>\n",
       "    <tr>\n",
       "      <th>min</th>\n",
       "      <td>10248.000000</td>\n",
       "      <td>1.000000</td>\n",
       "      <td>2.000000</td>\n",
       "      <td>0.000000</td>\n",
       "    </tr>\n",
       "    <tr>\n",
       "      <th>25%</th>\n",
       "      <td>10449.000000</td>\n",
       "      <td>10.000000</td>\n",
       "      <td>12.000000</td>\n",
       "      <td>0.000000</td>\n",
       "    </tr>\n",
       "    <tr>\n",
       "      <th>50%</th>\n",
       "      <td>10656.000000</td>\n",
       "      <td>20.000000</td>\n",
       "      <td>18.400000</td>\n",
       "      <td>0.000000</td>\n",
       "    </tr>\n",
       "    <tr>\n",
       "      <th>75%</th>\n",
       "      <td>10861.000000</td>\n",
       "      <td>30.000000</td>\n",
       "      <td>32.000000</td>\n",
       "      <td>0.100000</td>\n",
       "    </tr>\n",
       "    <tr>\n",
       "      <th>max</th>\n",
       "      <td>11077.000000</td>\n",
       "      <td>130.000000</td>\n",
       "      <td>263.500000</td>\n",
       "      <td>0.250000</td>\n",
       "    </tr>\n",
       "  </tbody>\n",
       "</table>\n",
       "</div>"
      ],
      "text/plain": [
       "           order_id     Quantity    UnitPrice     Discount\n",
       "count   2078.000000  2078.000000  2078.000000  2078.000000\n",
       "mean   10658.376323    23.924447    26.277416     0.056035\n",
       "std      242.371015    19.151339    29.962501     0.083421\n",
       "min    10248.000000     1.000000     2.000000     0.000000\n",
       "25%    10449.000000    10.000000    12.000000     0.000000\n",
       "50%    10656.000000    20.000000    18.400000     0.000000\n",
       "75%    10861.000000    30.000000    32.000000     0.100000\n",
       "max    11077.000000   130.000000   263.500000     0.250000"
      ]
     },
     "metadata": {},
     "output_type": "display_data"
    },
    {
     "data": {
      "text/plain": [
       "(2078, 5)"
      ]
     },
     "execution_count": 65,
     "metadata": {},
     "output_type": "execute_result"
    }
   ],
   "source": [
    "c.execute('''SELECT c.Id customer_id, o.Id order_id,\n",
    "                            od.Quantity Quantity, od.UnitPrice UnitPrice, od.Discount Discount\n",
    "                            FROM OrderDetail od \n",
    "                            JOIN [Order] o ON od.OrderId = o.Id\n",
    "                            JOIN Customer c ON o.CustomerId = c.Id\n",
    "                            ORDER BY CustomerId \n",
    "                            ;''')\n",
    "df = pd.DataFrame(c.fetchall())\n",
    "df.columns = [x[0] for x in c.description]\n",
    "display(df.head())\n",
    "display(df.info())\n",
    "display(df.describe())\n",
    "np.shape(df)"
   ]
  },
  {
   "cell_type": "code",
   "execution_count": 66,
   "metadata": {},
   "outputs": [
    {
     "data": {
      "text/plain": [
       "customer_id    0\n",
       "order_id       0\n",
       "Quantity       0\n",
       "UnitPrice      0\n",
       "Discount       0\n",
       "dtype: int64"
      ]
     },
     "execution_count": 66,
     "metadata": {},
     "output_type": "execute_result"
    }
   ],
   "source": [
    "df.isna().sum()"
   ]
  },
  {
   "cell_type": "code",
   "execution_count": 67,
   "metadata": {},
   "outputs": [
    {
     "data": {
      "text/html": [
       "<div>\n",
       "<style scoped>\n",
       "    .dataframe tbody tr th:only-of-type {\n",
       "        vertical-align: middle;\n",
       "    }\n",
       "\n",
       "    .dataframe tbody tr th {\n",
       "        vertical-align: top;\n",
       "    }\n",
       "\n",
       "    .dataframe thead th {\n",
       "        text-align: right;\n",
       "    }\n",
       "</style>\n",
       "<table border=\"1\" class=\"dataframe\">\n",
       "  <thead>\n",
       "    <tr style=\"text-align: right;\">\n",
       "      <th></th>\n",
       "      <th>customer_id</th>\n",
       "      <th>order_id</th>\n",
       "      <th>Quantity</th>\n",
       "      <th>UnitPrice</th>\n",
       "      <th>Discount</th>\n",
       "      <th>OrderTotal</th>\n",
       "    </tr>\n",
       "  </thead>\n",
       "  <tbody>\n",
       "    <tr>\n",
       "      <th>0</th>\n",
       "      <td>ALFKI</td>\n",
       "      <td>10643</td>\n",
       "      <td>15</td>\n",
       "      <td>45.6</td>\n",
       "      <td>0.25</td>\n",
       "      <td>513.0</td>\n",
       "    </tr>\n",
       "    <tr>\n",
       "      <th>1</th>\n",
       "      <td>ALFKI</td>\n",
       "      <td>10643</td>\n",
       "      <td>21</td>\n",
       "      <td>18.0</td>\n",
       "      <td>0.25</td>\n",
       "      <td>283.5</td>\n",
       "    </tr>\n",
       "    <tr>\n",
       "      <th>2</th>\n",
       "      <td>ALFKI</td>\n",
       "      <td>10643</td>\n",
       "      <td>2</td>\n",
       "      <td>12.0</td>\n",
       "      <td>0.25</td>\n",
       "      <td>18.0</td>\n",
       "    </tr>\n",
       "    <tr>\n",
       "      <th>3</th>\n",
       "      <td>ALFKI</td>\n",
       "      <td>10692</td>\n",
       "      <td>20</td>\n",
       "      <td>43.9</td>\n",
       "      <td>0.00</td>\n",
       "      <td>878.0</td>\n",
       "    </tr>\n",
       "    <tr>\n",
       "      <th>4</th>\n",
       "      <td>ALFKI</td>\n",
       "      <td>10702</td>\n",
       "      <td>6</td>\n",
       "      <td>10.0</td>\n",
       "      <td>0.00</td>\n",
       "      <td>60.0</td>\n",
       "    </tr>\n",
       "  </tbody>\n",
       "</table>\n",
       "</div>"
      ],
      "text/plain": [
       "  customer_id  order_id  Quantity  UnitPrice  Discount  OrderTotal\n",
       "0       ALFKI     10643        15       45.6      0.25       513.0\n",
       "1       ALFKI     10643        21       18.0      0.25       283.5\n",
       "2       ALFKI     10643         2       12.0      0.25        18.0\n",
       "3       ALFKI     10692        20       43.9      0.00       878.0\n",
       "4       ALFKI     10702         6       10.0      0.00        60.0"
      ]
     },
     "metadata": {},
     "output_type": "display_data"
    },
    {
     "name": "stdout",
     "output_type": "stream",
     "text": [
      "<class 'pandas.core.frame.DataFrame'>\n",
      "RangeIndex: 2078 entries, 0 to 2077\n",
      "Data columns (total 6 columns):\n",
      "customer_id    2078 non-null object\n",
      "order_id       2078 non-null int64\n",
      "Quantity       2078 non-null int64\n",
      "UnitPrice      2078 non-null float64\n",
      "Discount       2078 non-null float64\n",
      "OrderTotal     2078 non-null float64\n",
      "dtypes: float64(3), int64(2), object(1)\n",
      "memory usage: 97.5+ KB\n"
     ]
    },
    {
     "data": {
      "text/plain": [
       "None"
      ]
     },
     "metadata": {},
     "output_type": "display_data"
    }
   ],
   "source": [
    "df['OrderTotal'] = df['Quantity']*(df['UnitPrice']*(1-df['Discount']))\n",
    "display(df.head())\n",
    "display(df.info())"
   ]
  },
  {
   "cell_type": "code",
   "execution_count": 68,
   "metadata": {},
   "outputs": [
    {
     "name": "stdout",
     "output_type": "stream",
     "text": [
      "Mean: 24.44705882352941\n",
      "Median: 20.0\n"
     ]
    }
   ],
   "source": [
    "mean = np.mean(df.groupby('customer_id')['order_id'].count())\n",
    "median = np.median(df.groupby('customer_id')['order_id'].count())\n",
    "print('Mean:', mean)\n",
    "print('Median:', median)"
   ]
  },
  {
   "cell_type": "code",
   "execution_count": 69,
   "metadata": {},
   "outputs": [
    {
     "data": {
      "text/html": [
       "<div>\n",
       "<style scoped>\n",
       "    .dataframe tbody tr th:only-of-type {\n",
       "        vertical-align: middle;\n",
       "    }\n",
       "\n",
       "    .dataframe tbody tr th {\n",
       "        vertical-align: top;\n",
       "    }\n",
       "\n",
       "    .dataframe thead th {\n",
       "        text-align: right;\n",
       "    }\n",
       "</style>\n",
       "<table border=\"1\" class=\"dataframe\">\n",
       "  <thead>\n",
       "    <tr style=\"text-align: right;\">\n",
       "      <th></th>\n",
       "      <th>Number of Orders</th>\n",
       "      <th>Order Frequency</th>\n",
       "      <th>Total Spend</th>\n",
       "    </tr>\n",
       "    <tr>\n",
       "      <th>customer_id</th>\n",
       "      <th></th>\n",
       "      <th></th>\n",
       "      <th></th>\n",
       "    </tr>\n",
       "  </thead>\n",
       "  <tbody>\n",
       "    <tr>\n",
       "      <th>ALFKI</th>\n",
       "      <td>12</td>\n",
       "      <td>Below Median</td>\n",
       "      <td>4273.0000</td>\n",
       "    </tr>\n",
       "    <tr>\n",
       "      <th>ANATR</th>\n",
       "      <td>10</td>\n",
       "      <td>Below Median</td>\n",
       "      <td>1402.9500</td>\n",
       "    </tr>\n",
       "    <tr>\n",
       "      <th>AROUT</th>\n",
       "      <td>30</td>\n",
       "      <td>Above Median</td>\n",
       "      <td>13390.6500</td>\n",
       "    </tr>\n",
       "    <tr>\n",
       "      <th>BERGS</th>\n",
       "      <td>52</td>\n",
       "      <td>Above Median</td>\n",
       "      <td>24927.5775</td>\n",
       "    </tr>\n",
       "    <tr>\n",
       "      <th>BLAUS</th>\n",
       "      <td>14</td>\n",
       "      <td>Below Median</td>\n",
       "      <td>3239.8000</td>\n",
       "    </tr>\n",
       "  </tbody>\n",
       "</table>\n",
       "</div>"
      ],
      "text/plain": [
       "             Number of Orders Order Frequency  Total Spend\n",
       "customer_id                                               \n",
       "ALFKI                      12    Below Median    4273.0000\n",
       "ANATR                      10    Below Median    1402.9500\n",
       "AROUT                      30    Above Median   13390.6500\n",
       "BERGS                      52    Above Median   24927.5775\n",
       "BLAUS                      14    Below Median    3239.8000"
      ]
     },
     "metadata": {},
     "output_type": "display_data"
    },
    {
     "data": {
      "text/html": [
       "<div>\n",
       "<style scoped>\n",
       "    .dataframe tbody tr th:only-of-type {\n",
       "        vertical-align: middle;\n",
       "    }\n",
       "\n",
       "    .dataframe tbody tr th {\n",
       "        vertical-align: top;\n",
       "    }\n",
       "\n",
       "    .dataframe thead th {\n",
       "        text-align: right;\n",
       "    }\n",
       "</style>\n",
       "<table border=\"1\" class=\"dataframe\">\n",
       "  <thead>\n",
       "    <tr style=\"text-align: right;\">\n",
       "      <th></th>\n",
       "      <th>Number of Orders</th>\n",
       "      <th>Total Spend</th>\n",
       "    </tr>\n",
       "  </thead>\n",
       "  <tbody>\n",
       "    <tr>\n",
       "      <th>count</th>\n",
       "      <td>85.000000</td>\n",
       "      <td>85.000000</td>\n",
       "    </tr>\n",
       "    <tr>\n",
       "      <th>mean</th>\n",
       "      <td>24.447059</td>\n",
       "      <td>14446.770171</td>\n",
       "    </tr>\n",
       "    <tr>\n",
       "      <th>std</th>\n",
       "      <td>20.049050</td>\n",
       "      <td>20562.051784</td>\n",
       "    </tr>\n",
       "    <tr>\n",
       "      <th>min</th>\n",
       "      <td>2.000000</td>\n",
       "      <td>100.800000</td>\n",
       "    </tr>\n",
       "    <tr>\n",
       "      <th>25%</th>\n",
       "      <td>11.000000</td>\n",
       "      <td>3239.800000</td>\n",
       "    </tr>\n",
       "    <tr>\n",
       "      <th>50%</th>\n",
       "      <td>20.000000</td>\n",
       "      <td>7176.215000</td>\n",
       "    </tr>\n",
       "    <tr>\n",
       "      <th>75%</th>\n",
       "      <td>31.000000</td>\n",
       "      <td>16817.097500</td>\n",
       "    </tr>\n",
       "    <tr>\n",
       "      <th>max</th>\n",
       "      <td>116.000000</td>\n",
       "      <td>110277.305000</td>\n",
       "    </tr>\n",
       "  </tbody>\n",
       "</table>\n",
       "</div>"
      ],
      "text/plain": [
       "       Number of Orders    Total Spend\n",
       "count         85.000000      85.000000\n",
       "mean          24.447059   14446.770171\n",
       "std           20.049050   20562.051784\n",
       "min            2.000000     100.800000\n",
       "25%           11.000000    3239.800000\n",
       "50%           20.000000    7176.215000\n",
       "75%           31.000000   16817.097500\n",
       "max          116.000000  110277.305000"
      ]
     },
     "execution_count": 69,
     "metadata": {},
     "output_type": "execute_result"
    }
   ],
   "source": [
    "new_dataframe = pd.DataFrame(df.groupby('customer_id')['order_id'].count())\n",
    "new_dataframe.rename(columns={'order_id':'Number of Orders'}, inplace=True)\n",
    "new_dataframe['Order Frequency'] = new_dataframe['Number of Orders'].apply(lambda x: 'Below Median' \n",
    "                                                                           if x <= median \n",
    "                                                                           else 'Above Median')\n",
    "new_dataframe['Total Spend'] = df.groupby('customer_id')['OrderTotal'].sum()\n",
    "display(new_dataframe.head())\n",
    "new_dataframe.describe()"
   ]
  },
  {
   "cell_type": "code",
   "execution_count": 70,
   "metadata": {},
   "outputs": [
    {
     "data": {
      "text/html": [
       "<div>\n",
       "<style scoped>\n",
       "    .dataframe tbody tr th:only-of-type {\n",
       "        vertical-align: middle;\n",
       "    }\n",
       "\n",
       "    .dataframe tbody tr th {\n",
       "        vertical-align: top;\n",
       "    }\n",
       "\n",
       "    .dataframe thead th {\n",
       "        text-align: right;\n",
       "    }\n",
       "</style>\n",
       "<table border=\"1\" class=\"dataframe\">\n",
       "  <thead>\n",
       "    <tr style=\"text-align: right;\">\n",
       "      <th></th>\n",
       "      <th>Number of Orders</th>\n",
       "      <th>Order Frequency</th>\n",
       "      <th>Total Spend</th>\n",
       "    </tr>\n",
       "    <tr>\n",
       "      <th>customer_id</th>\n",
       "      <th></th>\n",
       "      <th></th>\n",
       "      <th></th>\n",
       "    </tr>\n",
       "  </thead>\n",
       "  <tbody>\n",
       "    <tr>\n",
       "      <th>ALFKI</th>\n",
       "      <td>12</td>\n",
       "      <td>Below Median</td>\n",
       "      <td>4273.00</td>\n",
       "    </tr>\n",
       "    <tr>\n",
       "      <th>ANATR</th>\n",
       "      <td>10</td>\n",
       "      <td>Below Median</td>\n",
       "      <td>1402.95</td>\n",
       "    </tr>\n",
       "    <tr>\n",
       "      <th>BLAUS</th>\n",
       "      <td>14</td>\n",
       "      <td>Below Median</td>\n",
       "      <td>3239.80</td>\n",
       "    </tr>\n",
       "    <tr>\n",
       "      <th>BOLID</th>\n",
       "      <td>6</td>\n",
       "      <td>Below Median</td>\n",
       "      <td>4232.85</td>\n",
       "    </tr>\n",
       "    <tr>\n",
       "      <th>CACTU</th>\n",
       "      <td>11</td>\n",
       "      <td>Below Median</td>\n",
       "      <td>1814.80</td>\n",
       "    </tr>\n",
       "  </tbody>\n",
       "</table>\n",
       "</div>"
      ],
      "text/plain": [
       "             Number of Orders Order Frequency  Total Spend\n",
       "customer_id                                               \n",
       "ALFKI                      12    Below Median      4273.00\n",
       "ANATR                      10    Below Median      1402.95\n",
       "BLAUS                      14    Below Median      3239.80\n",
       "BOLID                       6    Below Median      4232.85\n",
       "CACTU                      11    Below Median      1814.80"
      ]
     },
     "metadata": {},
     "output_type": "display_data"
    },
    {
     "data": {
      "text/html": [
       "<div>\n",
       "<style scoped>\n",
       "    .dataframe tbody tr th:only-of-type {\n",
       "        vertical-align: middle;\n",
       "    }\n",
       "\n",
       "    .dataframe tbody tr th {\n",
       "        vertical-align: top;\n",
       "    }\n",
       "\n",
       "    .dataframe thead th {\n",
       "        text-align: right;\n",
       "    }\n",
       "</style>\n",
       "<table border=\"1\" class=\"dataframe\">\n",
       "  <thead>\n",
       "    <tr style=\"text-align: right;\">\n",
       "      <th></th>\n",
       "      <th>Number of Orders</th>\n",
       "      <th>Order Frequency</th>\n",
       "      <th>Total Spend</th>\n",
       "    </tr>\n",
       "    <tr>\n",
       "      <th>customer_id</th>\n",
       "      <th></th>\n",
       "      <th></th>\n",
       "      <th></th>\n",
       "    </tr>\n",
       "  </thead>\n",
       "  <tbody>\n",
       "    <tr>\n",
       "      <th>AROUT</th>\n",
       "      <td>30</td>\n",
       "      <td>Above Median</td>\n",
       "      <td>13390.6500</td>\n",
       "    </tr>\n",
       "    <tr>\n",
       "      <th>BERGS</th>\n",
       "      <td>52</td>\n",
       "      <td>Above Median</td>\n",
       "      <td>24927.5775</td>\n",
       "    </tr>\n",
       "    <tr>\n",
       "      <th>BLONP</th>\n",
       "      <td>26</td>\n",
       "      <td>Above Median</td>\n",
       "      <td>18534.0800</td>\n",
       "    </tr>\n",
       "    <tr>\n",
       "      <th>BONAP</th>\n",
       "      <td>44</td>\n",
       "      <td>Above Median</td>\n",
       "      <td>21963.2525</td>\n",
       "    </tr>\n",
       "    <tr>\n",
       "      <th>BOTTM</th>\n",
       "      <td>35</td>\n",
       "      <td>Above Median</td>\n",
       "      <td>20801.6000</td>\n",
       "    </tr>\n",
       "  </tbody>\n",
       "</table>\n",
       "</div>"
      ],
      "text/plain": [
       "             Number of Orders Order Frequency  Total Spend\n",
       "customer_id                                               \n",
       "AROUT                      30    Above Median   13390.6500\n",
       "BERGS                      52    Above Median   24927.5775\n",
       "BLONP                      26    Above Median   18534.0800\n",
       "BONAP                      44    Above Median   21963.2525\n",
       "BOTTM                      35    Above Median   20801.6000"
      ]
     },
     "execution_count": 70,
     "metadata": {},
     "output_type": "execute_result"
    }
   ],
   "source": [
    "below_median = new_dataframe.loc[new_dataframe['Order Frequency'] == 'Below Median']\n",
    "above_median = new_dataframe.loc[new_dataframe['Order Frequency'] == 'Above Median']\n",
    "display(below_median.head())\n",
    "above_median.head()"
   ]
  },
  {
   "cell_type": "code",
   "execution_count": 71,
   "metadata": {},
   "outputs": [
    {
     "data": {
      "image/png": "[encoded data removed]",
      "text/plain": [
       "<Figure size 864x576 with 1 Axes>"
      ]
     },
     "metadata": {},
     "output_type": "display_data"
    }
   ],
   "source": [
    "sns.set(rc={'figure.figsize':(12, 8)})\n",
    "sns.set_style('white')\n",
    "sns.distplot(np.log(above_median['Total Spend']), label='Total Spend of Frequent Customers')\n",
    "sns.distplot(np.log(below_median['Total Spend']), label='Total Spend of Infrequent Cusotmers')\n",
    "plt.axvline(np.mean(np.log(above_median['Total Spend'])), color='#FF0000', label='Above Median mean')\n",
    "plt.axvline(np.mean(np.log(below_median['Total Spend'])), color='#008000', label='Below Median mean')\n",
    "plt.title('Total Spend for Frequent vs Infrequent Customers (Log Transformed)\\n', fontsize = 18)\n",
    "plt.legend()\n",
    "plt.show();"
   ]
  },
  {
   "cell_type": "code",
   "execution_count": 72,
   "metadata": {},
   "outputs": [
    {
     "data": {
      "image/png": "[encoded data removed]",
      "text/plain": [
       "<Figure size 1008x288 with 2 Axes>"
      ]
     },
     "metadata": {},
     "output_type": "display_data"
    }
   ],
   "source": [
    "fig, (ax1, ax2) = plt.subplots(1,2, figsize=(14,4))\n",
    "ax1.hist(above_median['Total Spend'], alpha=0.8)\n",
    "ax1.set_xlabel('\\nSpending of frequent buyers', fontweight='bold')\n",
    "ax1.set_ylabel('Frequency\\n')\n",
    "ax2.hist(below_median['Total Spend'], alpha=0.8)\n",
    "ax2.set_xlabel('\\nSpending of infrequent buyers', fontweight='bold')\n",
    "ax2.set_ylabel('Frequency\\n')\n",
    "plt.suptitle('Spending of Frequent and Infrequent Buyers\\n', fontweight='bold');"
   ]
  },
  {
   "cell_type": "markdown",
   "metadata": {},
   "source": [
    "Testing Homogeneity of Variance"
   ]
  },
  {
   "cell_type": "code",
   "execution_count": 73,
   "metadata": {},
   "outputs": [
    {
     "data": {
      "text/plain": [
       "LeveneResult(statistic=10.714378797832683, pvalue=0.0015508441970941147)"
      ]
     },
     "execution_count": 73,
     "metadata": {},
     "output_type": "execute_result"
    }
   ],
   "source": [
    "# not homogeneous\n",
    "stats.levene(above_median['Total Spend'], below_median['Total Spend'])"
   ]
  },
  {
   "cell_type": "markdown",
   "metadata": {},
   "source": [
    "Testing Normality "
   ]
  },
  {
   "cell_type": "code",
   "execution_count": 74,
   "metadata": {},
   "outputs": [
    {
     "data": {
      "text/plain": [
       "(0.6313993334770203, 4.911432149867778e-09)"
      ]
     },
     "execution_count": 74,
     "metadata": {},
     "output_type": "execute_result"
    }
   ],
   "source": [
    "#not normal\n",
    "stats.shapiro(above_median['Total Spend'])"
   ]
  },
  {
   "cell_type": "code",
   "execution_count": 75,
   "metadata": {},
   "outputs": [
    {
     "data": {
      "text/plain": [
       "(0.8302197456359863, 1.7221949747181498e-05)"
      ]
     },
     "execution_count": 75,
     "metadata": {},
     "output_type": "execute_result"
    }
   ],
   "source": [
    "#not normal\n",
    "stats.shapiro(below_median['Total Spend'])"
   ]
  },
  {
   "cell_type": "markdown",
   "metadata": {},
   "source": [
    "Welch's T Test "
   ]
  },
  {
   "cell_type": "code",
   "execution_count": 76,
   "metadata": {},
   "outputs": [
    {
     "data": {
      "text/html": [
       "<div>\n",
       "<style scoped>\n",
       "    .dataframe tbody tr th:only-of-type {\n",
       "        vertical-align: middle;\n",
       "    }\n",
       "\n",
       "    .dataframe tbody tr th {\n",
       "        vertical-align: top;\n",
       "    }\n",
       "\n",
       "    .dataframe thead th {\n",
       "        text-align: right;\n",
       "    }\n",
       "</style>\n",
       "<table border=\"1\" class=\"dataframe\">\n",
       "  <thead>\n",
       "    <tr style=\"text-align: right;\">\n",
       "      <th></th>\n",
       "      <th>Variable</th>\n",
       "      <th>N</th>\n",
       "      <th>Mean</th>\n",
       "      <th>SD</th>\n",
       "      <th>SE</th>\n",
       "      <th>95% Conf.</th>\n",
       "      <th>Interval</th>\n",
       "    </tr>\n",
       "  </thead>\n",
       "  <tbody>\n",
       "    <tr>\n",
       "      <th>0</th>\n",
       "      <td>Total Spend</td>\n",
       "      <td>42.0</td>\n",
       "      <td>25107.055667</td>\n",
       "      <td>24987.310326</td>\n",
       "      <td>3855.625690</td>\n",
       "      <td>17320.461644</td>\n",
       "      <td>32893.649689</td>\n",
       "    </tr>\n",
       "    <tr>\n",
       "      <th>1</th>\n",
       "      <td>Total Spend</td>\n",
       "      <td>43.0</td>\n",
       "      <td>4034.398291</td>\n",
       "      <td>3384.608614</td>\n",
       "      <td>516.147975</td>\n",
       "      <td>2992.769510</td>\n",
       "      <td>5076.027072</td>\n",
       "    </tr>\n",
       "    <tr>\n",
       "      <th>2</th>\n",
       "      <td>combined</td>\n",
       "      <td>85.0</td>\n",
       "      <td>14446.770171</td>\n",
       "      <td>20562.051784</td>\n",
       "      <td>2230.267654</td>\n",
       "      <td>10011.638355</td>\n",
       "      <td>18881.901986</td>\n",
       "    </tr>\n",
       "  </tbody>\n",
       "</table>\n",
       "</div>"
      ],
      "text/plain": [
       "      Variable     N          Mean            SD           SE     95% Conf.  \\\n",
       "0  Total Spend  42.0  25107.055667  24987.310326  3855.625690  17320.461644   \n",
       "1  Total Spend  43.0   4034.398291   3384.608614   516.147975   2992.769510   \n",
       "2     combined  85.0  14446.770171  20562.051784  2230.267654  10011.638355   \n",
       "\n",
       "       Interval  \n",
       "0  32893.649689  \n",
       "1   5076.027072  \n",
       "2  18881.901986  "
      ]
     },
     "metadata": {},
     "output_type": "display_data"
    },
    {
     "data": {
      "text/html": [
       "<div>\n",
       "<style scoped>\n",
       "    .dataframe tbody tr th:only-of-type {\n",
       "        vertical-align: middle;\n",
       "    }\n",
       "\n",
       "    .dataframe tbody tr th {\n",
       "        vertical-align: top;\n",
       "    }\n",
       "\n",
       "    .dataframe thead th {\n",
       "        text-align: right;\n",
       "    }\n",
       "</style>\n",
       "<table border=\"1\" class=\"dataframe\">\n",
       "  <thead>\n",
       "    <tr style=\"text-align: right;\">\n",
       "      <th></th>\n",
       "      <th>Welch's t-test</th>\n",
       "      <th>results</th>\n",
       "    </tr>\n",
       "  </thead>\n",
       "  <tbody>\n",
       "    <tr>\n",
       "      <th>0</th>\n",
       "      <td>Difference (Total Spend - Total Spend) =</td>\n",
       "      <td>21072.6574</td>\n",
       "    </tr>\n",
       "    <tr>\n",
       "      <th>1</th>\n",
       "      <td>Degrees of freedom =</td>\n",
       "      <td>42.4694</td>\n",
       "    </tr>\n",
       "    <tr>\n",
       "      <th>2</th>\n",
       "      <td>t =</td>\n",
       "      <td>5.4171</td>\n",
       "    </tr>\n",
       "    <tr>\n",
       "      <th>3</th>\n",
       "      <td>Two side test p value =</td>\n",
       "      <td>0.0000</td>\n",
       "    </tr>\n",
       "    <tr>\n",
       "      <th>4</th>\n",
       "      <td>Difference &gt; 0 p value =</td>\n",
       "      <td>1.0000</td>\n",
       "    </tr>\n",
       "    <tr>\n",
       "      <th>5</th>\n",
       "      <td>Difference &lt; 0 p value =</td>\n",
       "      <td>0.0000</td>\n",
       "    </tr>\n",
       "    <tr>\n",
       "      <th>6</th>\n",
       "      <td>Cohen's d =</td>\n",
       "      <td>1.1752</td>\n",
       "    </tr>\n",
       "    <tr>\n",
       "      <th>7</th>\n",
       "      <td>Hedge's g =</td>\n",
       "      <td>1.1646</td>\n",
       "    </tr>\n",
       "    <tr>\n",
       "      <th>8</th>\n",
       "      <td>Glass's delta =</td>\n",
       "      <td>0.8433</td>\n",
       "    </tr>\n",
       "    <tr>\n",
       "      <th>9</th>\n",
       "      <td>r =</td>\n",
       "      <td>0.6392</td>\n",
       "    </tr>\n",
       "  </tbody>\n",
       "</table>\n",
       "</div>"
      ],
      "text/plain": [
       "                              Welch's t-test     results\n",
       "0  Difference (Total Spend - Total Spend) =   21072.6574\n",
       "1                      Degrees of freedom =      42.4694\n",
       "2                                       t =       5.4171\n",
       "3                   Two side test p value =       0.0000\n",
       "4                  Difference > 0 p value =       1.0000\n",
       "5                  Difference < 0 p value =       0.0000\n",
       "6                               Cohen's d =       1.1752\n",
       "7                               Hedge's g =       1.1646\n",
       "8                           Glass's delta =       0.8433\n",
       "9                                       r =       0.6392"
      ]
     },
     "execution_count": 76,
     "metadata": {},
     "output_type": "execute_result"
    }
   ],
   "source": [
    "#welch's t test, equal_variance = False \n",
    "descriptives, results = rp.ttest(above_median['Total Spend'], below_median['Total Spend'], equal_variances = False)\n",
    "display(descriptives)\n",
    "results"
   ]
  },
  {
   "cell_type": "code",
   "execution_count": 77,
   "metadata": {},
   "outputs": [
    {
     "name": "stdout",
     "output_type": "stream",
     "text": [
      "t-critical value: 1.6819523559426\n"
     ]
    }
   ],
   "source": [
    "#t-critical value \n",
    "print ('t-critical value:',t.ppf(1 - 0.05, df=42))"
   ]
  },
  {
   "cell_type": "code",
   "execution_count": 78,
   "metadata": {},
   "outputs": [
    {
     "data": {
      "text/plain": [
       "0.9999999786997826"
      ]
     },
     "execution_count": 78,
     "metadata": {},
     "output_type": "execute_result"
    }
   ],
   "source": [
    "power = TTestIndPower()\n",
    "power_total_spend = power.power(effect_size=1.1888, nobs1=len(above_median['Total Spend']), alpha=alpha, ratio=len(below_median['Total Spend'])/len(above_median['Total Spend']), df=(len(above_median['Total Spend']) -1 + len(below_median['Total Spend'])-1), alternative='larger')\n",
    "power_total_spend"
   ]
  },
  {
   "cell_type": "code",
   "execution_count": 79,
   "metadata": {},
   "outputs": [
    {
     "data": {
      "text/html": [
       "<div>\n",
       "<style scoped>\n",
       "    .dataframe tbody tr th:only-of-type {\n",
       "        vertical-align: middle;\n",
       "    }\n",
       "\n",
       "    .dataframe tbody tr th {\n",
       "        vertical-align: top;\n",
       "    }\n",
       "\n",
       "    .dataframe thead th {\n",
       "        text-align: right;\n",
       "    }\n",
       "</style>\n",
       "<table border=\"1\" class=\"dataframe\">\n",
       "  <thead>\n",
       "    <tr style=\"text-align: right;\">\n",
       "      <th></th>\n",
       "      <th>Number of Orders</th>\n",
       "      <th>Total Spend</th>\n",
       "    </tr>\n",
       "  </thead>\n",
       "  <tbody>\n",
       "    <tr>\n",
       "      <th>count</th>\n",
       "      <td>43.000000</td>\n",
       "      <td>43.000000</td>\n",
       "    </tr>\n",
       "    <tr>\n",
       "      <th>mean</th>\n",
       "      <td>11.441860</td>\n",
       "      <td>4034.398291</td>\n",
       "    </tr>\n",
       "    <tr>\n",
       "      <th>std</th>\n",
       "      <td>4.742424</td>\n",
       "      <td>3384.608614</td>\n",
       "    </tr>\n",
       "    <tr>\n",
       "      <th>min</th>\n",
       "      <td>2.000000</td>\n",
       "      <td>100.800000</td>\n",
       "    </tr>\n",
       "    <tr>\n",
       "      <th>25%</th>\n",
       "      <td>8.000000</td>\n",
       "      <td>1645.150000</td>\n",
       "    </tr>\n",
       "    <tr>\n",
       "      <th>50%</th>\n",
       "      <td>11.000000</td>\n",
       "      <td>3239.800000</td>\n",
       "    </tr>\n",
       "    <tr>\n",
       "      <th>75%</th>\n",
       "      <td>14.500000</td>\n",
       "      <td>4910.170000</td>\n",
       "    </tr>\n",
       "    <tr>\n",
       "      <th>max</th>\n",
       "      <td>20.000000</td>\n",
       "      <td>16817.097500</td>\n",
       "    </tr>\n",
       "  </tbody>\n",
       "</table>\n",
       "</div>"
      ],
      "text/plain": [
       "       Number of Orders   Total Spend\n",
       "count         43.000000     43.000000\n",
       "mean          11.441860   4034.398291\n",
       "std            4.742424   3384.608614\n",
       "min            2.000000    100.800000\n",
       "25%            8.000000   1645.150000\n",
       "50%           11.000000   3239.800000\n",
       "75%           14.500000   4910.170000\n",
       "max           20.000000  16817.097500"
      ]
     },
     "execution_count": 79,
     "metadata": {},
     "output_type": "execute_result"
    }
   ],
   "source": [
    "below_median.describe()"
   ]
  },
  {
   "cell_type": "code",
   "execution_count": 80,
   "metadata": {},
   "outputs": [
    {
     "data": {
      "text/html": [
       "<div>\n",
       "<style scoped>\n",
       "    .dataframe tbody tr th:only-of-type {\n",
       "        vertical-align: middle;\n",
       "    }\n",
       "\n",
       "    .dataframe tbody tr th {\n",
       "        vertical-align: top;\n",
       "    }\n",
       "\n",
       "    .dataframe thead th {\n",
       "        text-align: right;\n",
       "    }\n",
       "</style>\n",
       "<table border=\"1\" class=\"dataframe\">\n",
       "  <thead>\n",
       "    <tr style=\"text-align: right;\">\n",
       "      <th></th>\n",
       "      <th>Number of Orders</th>\n",
       "      <th>Total Spend</th>\n",
       "    </tr>\n",
       "  </thead>\n",
       "  <tbody>\n",
       "    <tr>\n",
       "      <th>count</th>\n",
       "      <td>42.000000</td>\n",
       "      <td>42.000000</td>\n",
       "    </tr>\n",
       "    <tr>\n",
       "      <th>mean</th>\n",
       "      <td>37.761905</td>\n",
       "      <td>25107.055667</td>\n",
       "    </tr>\n",
       "    <tr>\n",
       "      <th>std</th>\n",
       "      <td>21.011970</td>\n",
       "      <td>24987.310326</td>\n",
       "    </tr>\n",
       "    <tr>\n",
       "      <th>min</th>\n",
       "      <td>21.000000</td>\n",
       "      <td>6089.900000</td>\n",
       "    </tr>\n",
       "    <tr>\n",
       "      <th>25%</th>\n",
       "      <td>25.250000</td>\n",
       "      <td>12374.360000</td>\n",
       "    </tr>\n",
       "    <tr>\n",
       "      <th>50%</th>\n",
       "      <td>31.000000</td>\n",
       "      <td>17492.007500</td>\n",
       "    </tr>\n",
       "    <tr>\n",
       "      <th>75%</th>\n",
       "      <td>39.750000</td>\n",
       "      <td>26224.314000</td>\n",
       "    </tr>\n",
       "    <tr>\n",
       "      <th>max</th>\n",
       "      <td>116.000000</td>\n",
       "      <td>110277.305000</td>\n",
       "    </tr>\n",
       "  </tbody>\n",
       "</table>\n",
       "</div>"
      ],
      "text/plain": [
       "       Number of Orders    Total Spend\n",
       "count         42.000000      42.000000\n",
       "mean          37.761905   25107.055667\n",
       "std           21.011970   24987.310326\n",
       "min           21.000000    6089.900000\n",
       "25%           25.250000   12374.360000\n",
       "50%           31.000000   17492.007500\n",
       "75%           39.750000   26224.314000\n",
       "max          116.000000  110277.305000"
      ]
     },
     "execution_count": 80,
     "metadata": {},
     "output_type": "execute_result"
    }
   ],
   "source": [
    "above_median.describe()"
   ]
  },
  {
   "cell_type": "markdown",
   "metadata": {},
   "source": [
    "- t value: 5.7497\n",
    "- t-critical value: 1.6819523559426 \n",
    "- p-value: 0.0000\n",
    "- cohen's d: 1.1888, large effect\n",
    "- power: 0.9999999786997826\n",
    "\n",
    "> $H_0$: People who order more frequently do not spend more money on average than people who order less frequently.\n",
    "\n",
    "> $H_1$: People who order more frequently spend more money on average than people who order less frequently.\n",
    "    \n",
    "The findings are significant! **We can reject the null hypothesis in support of the alternative.** The average spending of a frequent customer is much higher ($25,107) than the average spending of an infrequent customer ($4034.40). Cohen's D of 1.1888 tells us that being a frequent customer has a very strong impact on the amount customers spend. Frequent buyers spend more money, in general. \n",
    "\n",
    "The results could be used to develop effective marketing strategies targeting customers who - regardless of how much or how little they spend - make more frequent purchases on the whole, in order to generate higher revenues."
   ]
  },
  {
   "cell_type": "markdown",
   "metadata": {},
   "source": [
    "## Hypothesis Test 4 "
   ]
  },
  {
   "cell_type": "markdown",
   "metadata": {},
   "source": [
    "## Employee Sales"
   ]
  },
  {
   "cell_type": "markdown",
   "metadata": {},
   "source": [
    "> $H_0$: There is no difference in total sales between employees that make higher sales per order.\n",
    "\n",
    "> $H_1$: There is a statistically significant difference in total sales between employees.\n",
    "\n",
    ">$\\alpha$ = 0.05"
   ]
  },
  {
   "cell_type": "code",
   "execution_count": 81,
   "metadata": {},
   "outputs": [
    {
     "data": {
      "text/html": [
       "<div>\n",
       "<style scoped>\n",
       "    .dataframe tbody tr th:only-of-type {\n",
       "        vertical-align: middle;\n",
       "    }\n",
       "\n",
       "    .dataframe tbody tr th {\n",
       "        vertical-align: top;\n",
       "    }\n",
       "\n",
       "    .dataframe thead th {\n",
       "        text-align: right;\n",
       "    }\n",
       "</style>\n",
       "<table border=\"1\" class=\"dataframe\">\n",
       "  <thead>\n",
       "    <tr style=\"text-align: right;\">\n",
       "      <th></th>\n",
       "      <th>EmployeeId</th>\n",
       "      <th>Name</th>\n",
       "      <th>Country</th>\n",
       "      <th>OrderId</th>\n",
       "      <th>OrderTotal</th>\n",
       "    </tr>\n",
       "  </thead>\n",
       "  <tbody>\n",
       "    <tr>\n",
       "      <th>0</th>\n",
       "      <td>1</td>\n",
       "      <td>Nancy Davolio</td>\n",
       "      <td>USA</td>\n",
       "      <td>10258</td>\n",
       "      <td>608.00</td>\n",
       "    </tr>\n",
       "    <tr>\n",
       "      <th>1</th>\n",
       "      <td>1</td>\n",
       "      <td>Nancy Davolio</td>\n",
       "      <td>USA</td>\n",
       "      <td>10258</td>\n",
       "      <td>884.00</td>\n",
       "    </tr>\n",
       "    <tr>\n",
       "      <th>2</th>\n",
       "      <td>1</td>\n",
       "      <td>Nancy Davolio</td>\n",
       "      <td>USA</td>\n",
       "      <td>10258</td>\n",
       "      <td>122.88</td>\n",
       "    </tr>\n",
       "    <tr>\n",
       "      <th>3</th>\n",
       "      <td>1</td>\n",
       "      <td>Nancy Davolio</td>\n",
       "      <td>USA</td>\n",
       "      <td>10270</td>\n",
       "      <td>456.00</td>\n",
       "    </tr>\n",
       "    <tr>\n",
       "      <th>4</th>\n",
       "      <td>1</td>\n",
       "      <td>Nancy Davolio</td>\n",
       "      <td>USA</td>\n",
       "      <td>10270</td>\n",
       "      <td>920.00</td>\n",
       "    </tr>\n",
       "  </tbody>\n",
       "</table>\n",
       "</div>"
      ],
      "text/plain": [
       "   EmployeeId           Name Country  OrderId  OrderTotal\n",
       "0           1  Nancy Davolio     USA    10258      608.00\n",
       "1           1  Nancy Davolio     USA    10258      884.00\n",
       "2           1  Nancy Davolio     USA    10258      122.88\n",
       "3           1  Nancy Davolio     USA    10270      456.00\n",
       "4           1  Nancy Davolio     USA    10270      920.00"
      ]
     },
     "metadata": {},
     "output_type": "display_data"
    },
    {
     "name": "stdout",
     "output_type": "stream",
     "text": [
      "<class 'pandas.core.frame.DataFrame'>\n",
      "RangeIndex: 2155 entries, 0 to 2154\n",
      "Data columns (total 5 columns):\n",
      "EmployeeId    2155 non-null int64\n",
      "Name          2155 non-null object\n",
      "Country       2155 non-null object\n",
      "OrderId       2155 non-null int64\n",
      "OrderTotal    2155 non-null float64\n",
      "dtypes: float64(1), int64(2), object(2)\n",
      "memory usage: 84.3+ KB\n"
     ]
    },
    {
     "data": {
      "text/plain": [
       "None"
      ]
     },
     "metadata": {},
     "output_type": "display_data"
    },
    {
     "data": {
      "text/html": [
       "<div>\n",
       "<style scoped>\n",
       "    .dataframe tbody tr th:only-of-type {\n",
       "        vertical-align: middle;\n",
       "    }\n",
       "\n",
       "    .dataframe tbody tr th {\n",
       "        vertical-align: top;\n",
       "    }\n",
       "\n",
       "    .dataframe thead th {\n",
       "        text-align: right;\n",
       "    }\n",
       "</style>\n",
       "<table border=\"1\" class=\"dataframe\">\n",
       "  <thead>\n",
       "    <tr style=\"text-align: right;\">\n",
       "      <th></th>\n",
       "      <th>EmployeeId</th>\n",
       "      <th>OrderId</th>\n",
       "      <th>OrderTotal</th>\n",
       "    </tr>\n",
       "  </thead>\n",
       "  <tbody>\n",
       "    <tr>\n",
       "      <th>count</th>\n",
       "      <td>2155.000000</td>\n",
       "      <td>2155.000000</td>\n",
       "      <td>2155.000000</td>\n",
       "    </tr>\n",
       "    <tr>\n",
       "      <th>mean</th>\n",
       "      <td>4.333179</td>\n",
       "      <td>10659.375870</td>\n",
       "      <td>587.374960</td>\n",
       "    </tr>\n",
       "    <tr>\n",
       "      <th>std</th>\n",
       "      <td>2.490351</td>\n",
       "      <td>241.378032</td>\n",
       "      <td>969.224235</td>\n",
       "    </tr>\n",
       "    <tr>\n",
       "      <th>min</th>\n",
       "      <td>1.000000</td>\n",
       "      <td>10248.000000</td>\n",
       "      <td>4.800000</td>\n",
       "    </tr>\n",
       "    <tr>\n",
       "      <th>25%</th>\n",
       "      <td>2.000000</td>\n",
       "      <td>10451.000000</td>\n",
       "      <td>147.000000</td>\n",
       "    </tr>\n",
       "    <tr>\n",
       "      <th>50%</th>\n",
       "      <td>4.000000</td>\n",
       "      <td>10657.000000</td>\n",
       "      <td>337.750000</td>\n",
       "    </tr>\n",
       "    <tr>\n",
       "      <th>75%</th>\n",
       "      <td>7.000000</td>\n",
       "      <td>10862.500000</td>\n",
       "      <td>656.000000</td>\n",
       "    </tr>\n",
       "    <tr>\n",
       "      <th>max</th>\n",
       "      <td>9.000000</td>\n",
       "      <td>11077.000000</td>\n",
       "      <td>15810.000000</td>\n",
       "    </tr>\n",
       "  </tbody>\n",
       "</table>\n",
       "</div>"
      ],
      "text/plain": [
       "        EmployeeId       OrderId    OrderTotal\n",
       "count  2155.000000   2155.000000   2155.000000\n",
       "mean      4.333179  10659.375870    587.374960\n",
       "std       2.490351    241.378032    969.224235\n",
       "min       1.000000  10248.000000      4.800000\n",
       "25%       2.000000  10451.000000    147.000000\n",
       "50%       4.000000  10657.000000    337.750000\n",
       "75%       7.000000  10862.500000    656.000000\n",
       "max       9.000000  11077.000000  15810.000000"
      ]
     },
     "metadata": {},
     "output_type": "display_data"
    },
    {
     "data": {
      "text/plain": [
       "(2155, 5)"
      ]
     },
     "execution_count": 81,
     "metadata": {},
     "output_type": "execute_result"
    }
   ],
   "source": [
    "c.execute(\"\"\"SELECT EmployeeId\n",
    "               ,FirstName || ' ' || LastName\n",
    "               AS 'Name', Country, OrderDetail.OrderId,\n",
    "               OrderDetail.Quantity*(OrderDetail.UnitPrice - (OrderDetail.UnitPrice*OrderDetail.Discount)) AS 'OrderTotal'\n",
    "               FROM [Order]\n",
    "               LEFT OUTER JOIN Employee\n",
    "               ON [Order].EmployeeId=Employee.Id\n",
    "               LEFT OUTER JOIN OrderDetail\n",
    "               ON [Order].Id=OrderDetail.OrderId\n",
    "               ORDER BY EmployeeId\n",
    "               ;\"\"\")\n",
    "df = pd.DataFrame(c.fetchall())\n",
    "df.columns = [x[0] for x in c.description]\n",
    "display(df.head())\n",
    "display(df.info())\n",
    "display(df.describe())\n",
    "np.shape(df)"
   ]
  },
  {
   "cell_type": "code",
   "execution_count": 82,
   "metadata": {},
   "outputs": [
    {
     "data": {
      "text/plain": [
       "EmployeeId    0\n",
       "Name          0\n",
       "Country       0\n",
       "OrderId       0\n",
       "OrderTotal    0\n",
       "dtype: int64"
      ]
     },
     "execution_count": 82,
     "metadata": {},
     "output_type": "execute_result"
    }
   ],
   "source": [
    "df.isna().sum()"
   ]
  },
  {
   "cell_type": "code",
   "execution_count": 83,
   "metadata": {},
   "outputs": [],
   "source": [
    "df['OrderTotal'] = round(df['OrderTotal'],2)"
   ]
  },
  {
   "cell_type": "code",
   "execution_count": 84,
   "metadata": {},
   "outputs": [
    {
     "name": "stdout",
     "output_type": "stream",
     "text": [
      "239.44\n",
      "241.0\n"
     ]
    },
    {
     "data": {
      "text/html": [
       "<div>\n",
       "<style scoped>\n",
       "    .dataframe tbody tr th:only-of-type {\n",
       "        vertical-align: middle;\n",
       "    }\n",
       "\n",
       "    .dataframe tbody tr th {\n",
       "        vertical-align: top;\n",
       "    }\n",
       "\n",
       "    .dataframe thead th {\n",
       "        text-align: right;\n",
       "    }\n",
       "</style>\n",
       "<table border=\"1\" class=\"dataframe\">\n",
       "  <thead>\n",
       "    <tr style=\"text-align: right;\">\n",
       "      <th></th>\n",
       "      <th>Number of Sales</th>\n",
       "      <th>Name</th>\n",
       "      <th>Country</th>\n",
       "      <th>Total Sales</th>\n",
       "      <th>Revenue Per Order</th>\n",
       "      <th>Employee Performance</th>\n",
       "    </tr>\n",
       "    <tr>\n",
       "      <th>EmployeeId</th>\n",
       "      <th></th>\n",
       "      <th></th>\n",
       "      <th></th>\n",
       "      <th></th>\n",
       "      <th></th>\n",
       "      <th></th>\n",
       "    </tr>\n",
       "  </thead>\n",
       "  <tbody>\n",
       "    <tr>\n",
       "      <th>1</th>\n",
       "      <td>345</td>\n",
       "      <td>Nancy Davolio</td>\n",
       "      <td>[USA]</td>\n",
       "      <td>192107.59</td>\n",
       "      <td>556.83</td>\n",
       "      <td>Above Average</td>\n",
       "    </tr>\n",
       "    <tr>\n",
       "      <th>2</th>\n",
       "      <td>241</td>\n",
       "      <td>Andrew Fuller</td>\n",
       "      <td>[USA]</td>\n",
       "      <td>166537.76</td>\n",
       "      <td>691.03</td>\n",
       "      <td>Below Average</td>\n",
       "    </tr>\n",
       "    <tr>\n",
       "      <th>3</th>\n",
       "      <td>321</td>\n",
       "      <td>Janet Leverling</td>\n",
       "      <td>[USA]</td>\n",
       "      <td>202812.83</td>\n",
       "      <td>631.82</td>\n",
       "      <td>Above Average</td>\n",
       "    </tr>\n",
       "    <tr>\n",
       "      <th>4</th>\n",
       "      <td>420</td>\n",
       "      <td>Margaret Peacock</td>\n",
       "      <td>[USA]</td>\n",
       "      <td>232890.88</td>\n",
       "      <td>554.50</td>\n",
       "      <td>Above Average</td>\n",
       "    </tr>\n",
       "    <tr>\n",
       "      <th>5</th>\n",
       "      <td>117</td>\n",
       "      <td>Steven Buchanan</td>\n",
       "      <td>[UK]</td>\n",
       "      <td>68792.29</td>\n",
       "      <td>587.97</td>\n",
       "      <td>Below Average</td>\n",
       "    </tr>\n",
       "    <tr>\n",
       "      <th>6</th>\n",
       "      <td>168</td>\n",
       "      <td>Michael Suyama</td>\n",
       "      <td>[UK]</td>\n",
       "      <td>73913.14</td>\n",
       "      <td>439.96</td>\n",
       "      <td>Below Average</td>\n",
       "    </tr>\n",
       "    <tr>\n",
       "      <th>7</th>\n",
       "      <td>176</td>\n",
       "      <td>Robert King</td>\n",
       "      <td>[UK]</td>\n",
       "      <td>124568.22</td>\n",
       "      <td>707.77</td>\n",
       "      <td>Below Average</td>\n",
       "    </tr>\n",
       "    <tr>\n",
       "      <th>8</th>\n",
       "      <td>260</td>\n",
       "      <td>Laura Callahan</td>\n",
       "      <td>[USA]</td>\n",
       "      <td>126862.27</td>\n",
       "      <td>487.93</td>\n",
       "      <td>Above Average</td>\n",
       "    </tr>\n",
       "    <tr>\n",
       "      <th>9</th>\n",
       "      <td>107</td>\n",
       "      <td>Anne Dodsworth</td>\n",
       "      <td>[UK]</td>\n",
       "      <td>77308.06</td>\n",
       "      <td>722.51</td>\n",
       "      <td>Below Average</td>\n",
       "    </tr>\n",
       "  </tbody>\n",
       "</table>\n",
       "</div>"
      ],
      "text/plain": [
       "            Number of Sales              Name Country  Total Sales  \\\n",
       "EmployeeId                                                           \n",
       "1                       345     Nancy Davolio   [USA]    192107.59   \n",
       "2                       241     Andrew Fuller   [USA]    166537.76   \n",
       "3                       321   Janet Leverling   [USA]    202812.83   \n",
       "4                       420  Margaret Peacock   [USA]    232890.88   \n",
       "5                       117   Steven Buchanan    [UK]     68792.29   \n",
       "6                       168    Michael Suyama    [UK]     73913.14   \n",
       "7                       176       Robert King    [UK]    124568.22   \n",
       "8                       260    Laura Callahan   [USA]    126862.27   \n",
       "9                       107    Anne Dodsworth    [UK]     77308.06   \n",
       "\n",
       "            Revenue Per Order Employee Performance  \n",
       "EmployeeId                                          \n",
       "1                      556.83        Above Average  \n",
       "2                      691.03        Below Average  \n",
       "3                      631.82        Above Average  \n",
       "4                      554.50        Above Average  \n",
       "5                      587.97        Below Average  \n",
       "6                      439.96        Below Average  \n",
       "7                      707.77        Below Average  \n",
       "8                      487.93        Above Average  \n",
       "9                      722.51        Below Average  "
      ]
     },
     "metadata": {},
     "output_type": "display_data"
    },
    {
     "data": {
      "text/html": [
       "<div>\n",
       "<style scoped>\n",
       "    .dataframe tbody tr th:only-of-type {\n",
       "        vertical-align: middle;\n",
       "    }\n",
       "\n",
       "    .dataframe tbody tr th {\n",
       "        vertical-align: top;\n",
       "    }\n",
       "\n",
       "    .dataframe thead th {\n",
       "        text-align: right;\n",
       "    }\n",
       "</style>\n",
       "<table border=\"1\" class=\"dataframe\">\n",
       "  <thead>\n",
       "    <tr style=\"text-align: right;\">\n",
       "      <th></th>\n",
       "      <th>Number of Sales</th>\n",
       "      <th>Total Sales</th>\n",
       "      <th>Revenue Per Order</th>\n",
       "    </tr>\n",
       "  </thead>\n",
       "  <tbody>\n",
       "    <tr>\n",
       "      <th>count</th>\n",
       "      <td>9.000000</td>\n",
       "      <td>9.000000</td>\n",
       "      <td>9.000000</td>\n",
       "    </tr>\n",
       "    <tr>\n",
       "      <th>mean</th>\n",
       "      <td>239.444444</td>\n",
       "      <td>140643.671111</td>\n",
       "      <td>597.813333</td>\n",
       "    </tr>\n",
       "    <tr>\n",
       "      <th>std</th>\n",
       "      <td>107.518732</td>\n",
       "      <td>61000.944851</td>\n",
       "      <td>98.824414</td>\n",
       "    </tr>\n",
       "    <tr>\n",
       "      <th>min</th>\n",
       "      <td>107.000000</td>\n",
       "      <td>68792.290000</td>\n",
       "      <td>439.960000</td>\n",
       "    </tr>\n",
       "    <tr>\n",
       "      <th>25%</th>\n",
       "      <td>168.000000</td>\n",
       "      <td>77308.060000</td>\n",
       "      <td>554.500000</td>\n",
       "    </tr>\n",
       "    <tr>\n",
       "      <th>50%</th>\n",
       "      <td>241.000000</td>\n",
       "      <td>126862.270000</td>\n",
       "      <td>587.970000</td>\n",
       "    </tr>\n",
       "    <tr>\n",
       "      <th>75%</th>\n",
       "      <td>321.000000</td>\n",
       "      <td>192107.590000</td>\n",
       "      <td>691.030000</td>\n",
       "    </tr>\n",
       "    <tr>\n",
       "      <th>max</th>\n",
       "      <td>420.000000</td>\n",
       "      <td>232890.880000</td>\n",
       "      <td>722.510000</td>\n",
       "    </tr>\n",
       "  </tbody>\n",
       "</table>\n",
       "</div>"
      ],
      "text/plain": [
       "       Number of Sales    Total Sales  Revenue Per Order\n",
       "count         9.000000       9.000000           9.000000\n",
       "mean        239.444444  140643.671111         597.813333\n",
       "std         107.518732   61000.944851          98.824414\n",
       "min         107.000000   68792.290000         439.960000\n",
       "25%         168.000000   77308.060000         554.500000\n",
       "50%         241.000000  126862.270000         587.970000\n",
       "75%         321.000000  192107.590000         691.030000\n",
       "max         420.000000  232890.880000         722.510000"
      ]
     },
     "execution_count": 84,
     "metadata": {},
     "output_type": "execute_result"
    }
   ],
   "source": [
    "employee_dataframe = pd.DataFrame(df.groupby('EmployeeId')['OrderId'].count())\n",
    "\n",
    "employee_dataframe['Name'] = df['Name'].unique()\n",
    "\n",
    "employee_dataframe['Country'] = df.groupby('EmployeeId')['Country'].unique()\n",
    "\n",
    "employee_dataframe.rename(columns={'OrderId':'Number of Sales'}, inplace=True)\n",
    "\n",
    "employee_dataframe['Total Sales'] = df.groupby('EmployeeId')['OrderTotal'].sum()\n",
    "employee_dataframe['Revenue Per Order'] = round(employee_dataframe['Total Sales']/employee_dataframe['Number of Sales'],2)\n",
    "\n",
    "mean = round(np.mean(employee_dataframe['Number of Sales']),2)\n",
    "median = np.median(employee_dataframe['Number of Sales'])\n",
    "print(mean)\n",
    "print(median)\n",
    "\n",
    "employee_dataframe['Employee Performance'] = employee_dataframe['Number of Sales'].apply(lambda x: 'Below Average' \n",
    "                                                                           if x <= median \n",
    "                                                                           else 'Above Average')\n",
    "\n",
    "display(employee_dataframe.head(9))\n",
    "employee_dataframe.describe()"
   ]
  },
  {
   "cell_type": "code",
   "execution_count": 85,
   "metadata": {},
   "outputs": [
    {
     "data": {
      "image/png": "[encoded data removed]",
      "text/plain": [
       "<Figure size 720x720 with 1 Axes>"
      ]
     },
     "metadata": {},
     "output_type": "display_data"
    }
   ],
   "source": [
    "plt.figure(figsize=(10, 10))\n",
    "sns.barplot(employee_dataframe['Name'], employee_dataframe['Total Sales'])\n",
    "plt.hlines(y=employee_dataframe['Total Sales'].mean(), xmin=0, xmax=9, color='#FF00FF')\n",
    "plt.title('Total Value of Orders Per Employee\\n', fontsize = 18)\n",
    "plt.xlabel('\\nEmployee', fontsize = 14)\n",
    "plt.xticks(rotation = 45, fontsize = 12)\n",
    "plt.ylabel('Total Sales\\n', fontsize = 14)\n",
    "plt.show();"
   ]
  },
  {
   "cell_type": "code",
   "execution_count": 86,
   "metadata": {},
   "outputs": [
    {
     "data": {
      "text/html": [
       "<div>\n",
       "<style scoped>\n",
       "    .dataframe tbody tr th:only-of-type {\n",
       "        vertical-align: middle;\n",
       "    }\n",
       "\n",
       "    .dataframe tbody tr th {\n",
       "        vertical-align: top;\n",
       "    }\n",
       "\n",
       "    .dataframe thead th {\n",
       "        text-align: right;\n",
       "    }\n",
       "</style>\n",
       "<table border=\"1\" class=\"dataframe\">\n",
       "  <thead>\n",
       "    <tr style=\"text-align: right;\">\n",
       "      <th></th>\n",
       "      <th>Number of Sales</th>\n",
       "      <th>Name</th>\n",
       "      <th>Country</th>\n",
       "      <th>Total Sales</th>\n",
       "      <th>Revenue Per Order</th>\n",
       "      <th>Employee Performance</th>\n",
       "    </tr>\n",
       "    <tr>\n",
       "      <th>EmployeeId</th>\n",
       "      <th></th>\n",
       "      <th></th>\n",
       "      <th></th>\n",
       "      <th></th>\n",
       "      <th></th>\n",
       "      <th></th>\n",
       "    </tr>\n",
       "  </thead>\n",
       "  <tbody>\n",
       "    <tr>\n",
       "      <th>2</th>\n",
       "      <td>241</td>\n",
       "      <td>Andrew Fuller</td>\n",
       "      <td>[USA]</td>\n",
       "      <td>166537.76</td>\n",
       "      <td>691.03</td>\n",
       "      <td>Below Average</td>\n",
       "    </tr>\n",
       "    <tr>\n",
       "      <th>5</th>\n",
       "      <td>117</td>\n",
       "      <td>Steven Buchanan</td>\n",
       "      <td>[UK]</td>\n",
       "      <td>68792.29</td>\n",
       "      <td>587.97</td>\n",
       "      <td>Below Average</td>\n",
       "    </tr>\n",
       "    <tr>\n",
       "      <th>6</th>\n",
       "      <td>168</td>\n",
       "      <td>Michael Suyama</td>\n",
       "      <td>[UK]</td>\n",
       "      <td>73913.14</td>\n",
       "      <td>439.96</td>\n",
       "      <td>Below Average</td>\n",
       "    </tr>\n",
       "    <tr>\n",
       "      <th>7</th>\n",
       "      <td>176</td>\n",
       "      <td>Robert King</td>\n",
       "      <td>[UK]</td>\n",
       "      <td>124568.22</td>\n",
       "      <td>707.77</td>\n",
       "      <td>Below Average</td>\n",
       "    </tr>\n",
       "    <tr>\n",
       "      <th>9</th>\n",
       "      <td>107</td>\n",
       "      <td>Anne Dodsworth</td>\n",
       "      <td>[UK]</td>\n",
       "      <td>77308.06</td>\n",
       "      <td>722.51</td>\n",
       "      <td>Below Average</td>\n",
       "    </tr>\n",
       "  </tbody>\n",
       "</table>\n",
       "</div>"
      ],
      "text/plain": [
       "            Number of Sales             Name Country  Total Sales  \\\n",
       "EmployeeId                                                          \n",
       "2                       241    Andrew Fuller   [USA]    166537.76   \n",
       "5                       117  Steven Buchanan    [UK]     68792.29   \n",
       "6                       168   Michael Suyama    [UK]     73913.14   \n",
       "7                       176      Robert King    [UK]    124568.22   \n",
       "9                       107   Anne Dodsworth    [UK]     77308.06   \n",
       "\n",
       "            Revenue Per Order Employee Performance  \n",
       "EmployeeId                                          \n",
       "2                      691.03        Below Average  \n",
       "5                      587.97        Below Average  \n",
       "6                      439.96        Below Average  \n",
       "7                      707.77        Below Average  \n",
       "9                      722.51        Below Average  "
      ]
     },
     "metadata": {},
     "output_type": "display_data"
    },
    {
     "data": {
      "text/html": [
       "<div>\n",
       "<style scoped>\n",
       "    .dataframe tbody tr th:only-of-type {\n",
       "        vertical-align: middle;\n",
       "    }\n",
       "\n",
       "    .dataframe tbody tr th {\n",
       "        vertical-align: top;\n",
       "    }\n",
       "\n",
       "    .dataframe thead th {\n",
       "        text-align: right;\n",
       "    }\n",
       "</style>\n",
       "<table border=\"1\" class=\"dataframe\">\n",
       "  <thead>\n",
       "    <tr style=\"text-align: right;\">\n",
       "      <th></th>\n",
       "      <th>Number of Sales</th>\n",
       "      <th>Name</th>\n",
       "      <th>Country</th>\n",
       "      <th>Total Sales</th>\n",
       "      <th>Revenue Per Order</th>\n",
       "      <th>Employee Performance</th>\n",
       "    </tr>\n",
       "    <tr>\n",
       "      <th>EmployeeId</th>\n",
       "      <th></th>\n",
       "      <th></th>\n",
       "      <th></th>\n",
       "      <th></th>\n",
       "      <th></th>\n",
       "      <th></th>\n",
       "    </tr>\n",
       "  </thead>\n",
       "  <tbody>\n",
       "    <tr>\n",
       "      <th>1</th>\n",
       "      <td>345</td>\n",
       "      <td>Nancy Davolio</td>\n",
       "      <td>[USA]</td>\n",
       "      <td>192107.59</td>\n",
       "      <td>556.83</td>\n",
       "      <td>Above Average</td>\n",
       "    </tr>\n",
       "    <tr>\n",
       "      <th>3</th>\n",
       "      <td>321</td>\n",
       "      <td>Janet Leverling</td>\n",
       "      <td>[USA]</td>\n",
       "      <td>202812.83</td>\n",
       "      <td>631.82</td>\n",
       "      <td>Above Average</td>\n",
       "    </tr>\n",
       "    <tr>\n",
       "      <th>4</th>\n",
       "      <td>420</td>\n",
       "      <td>Margaret Peacock</td>\n",
       "      <td>[USA]</td>\n",
       "      <td>232890.88</td>\n",
       "      <td>554.50</td>\n",
       "      <td>Above Average</td>\n",
       "    </tr>\n",
       "    <tr>\n",
       "      <th>8</th>\n",
       "      <td>260</td>\n",
       "      <td>Laura Callahan</td>\n",
       "      <td>[USA]</td>\n",
       "      <td>126862.27</td>\n",
       "      <td>487.93</td>\n",
       "      <td>Above Average</td>\n",
       "    </tr>\n",
       "  </tbody>\n",
       "</table>\n",
       "</div>"
      ],
      "text/plain": [
       "            Number of Sales              Name Country  Total Sales  \\\n",
       "EmployeeId                                                           \n",
       "1                       345     Nancy Davolio   [USA]    192107.59   \n",
       "3                       321   Janet Leverling   [USA]    202812.83   \n",
       "4                       420  Margaret Peacock   [USA]    232890.88   \n",
       "8                       260    Laura Callahan   [USA]    126862.27   \n",
       "\n",
       "            Revenue Per Order Employee Performance  \n",
       "EmployeeId                                          \n",
       "1                      556.83        Above Average  \n",
       "3                      631.82        Above Average  \n",
       "4                      554.50        Above Average  \n",
       "8                      487.93        Above Average  "
      ]
     },
     "execution_count": 86,
     "metadata": {},
     "output_type": "execute_result"
    }
   ],
   "source": [
    "below_average = employee_dataframe.loc[employee_dataframe['Employee Performance'] == 'Below Average']\n",
    "above_average = employee_dataframe.loc[employee_dataframe['Employee Performance'] == 'Above Average']\n",
    "display(below_average.head())\n",
    "above_average.head()"
   ]
  },
  {
   "cell_type": "code",
   "execution_count": 87,
   "metadata": {},
   "outputs": [
    {
     "data": {
      "image/png": "[encoded data removed]",
      "text/plain": [
       "<Figure size 864x576 with 1 Axes>"
      ]
     },
     "metadata": {},
     "output_type": "display_data"
    }
   ],
   "source": [
    "sns.set(rc={'figure.figsize':(12, 8)})\n",
    "sns.distplot(np.log(above_average['Revenue Per Order']), label='Revenue Per Order of Above Average Sales Employee')\n",
    "sns.distplot(np.log(below_average['Revenue Per Order']), label='Revenue Per Order of Below Average Sales Employee')\n",
    "plt.axvline(np.mean(np.log(above_average['Revenue Per Order'])), color='#FF0000', label='Above Average mean')\n",
    "plt.axvline(np.mean(np.log(below_average['Revenue Per Order'])), color='#008000', label='Below Average mean')\n",
    "plt.title('Revenue Per Order for High vs Low Sales Employees (Log Transformed)\\n', fontsize = 18)\n",
    "plt.legend()\n",
    "plt.show();"
   ]
  },
  {
   "cell_type": "code",
   "execution_count": 88,
   "metadata": {},
   "outputs": [
    {
     "data": {
      "text/plain": [
       "LeveneResult(statistic=0.6302789861705104, pvalue=0.45332055537141774)"
      ]
     },
     "execution_count": 88,
     "metadata": {},
     "output_type": "execute_result"
    }
   ],
   "source": [
    "#homogeneous\n",
    "stats.levene(above_average['Revenue Per Order'], below_average['Revenue Per Order'])"
   ]
  },
  {
   "cell_type": "code",
   "execution_count": 89,
   "metadata": {},
   "outputs": [
    {
     "data": {
      "text/plain": [
       "(0.9502072334289551, 0.7174109816551208)"
      ]
     },
     "execution_count": 89,
     "metadata": {},
     "output_type": "execute_result"
    }
   ],
   "source": [
    "#normal\n",
    "stats.shapiro(above_average['Revenue Per Order'])"
   ]
  },
  {
   "cell_type": "code",
   "execution_count": 90,
   "metadata": {},
   "outputs": [
    {
     "data": {
      "text/plain": [
       "(0.8354485630989075, 0.15272879600524902)"
      ]
     },
     "execution_count": 90,
     "metadata": {},
     "output_type": "execute_result"
    }
   ],
   "source": [
    "#normal\n",
    "stats.shapiro(below_average['Revenue Per Order'])"
   ]
  },
  {
   "cell_type": "code",
   "execution_count": 91,
   "metadata": {},
   "outputs": [
    {
     "data": {
      "text/html": [
       "<div>\n",
       "<style scoped>\n",
       "    .dataframe tbody tr th:only-of-type {\n",
       "        vertical-align: middle;\n",
       "    }\n",
       "\n",
       "    .dataframe tbody tr th {\n",
       "        vertical-align: top;\n",
       "    }\n",
       "\n",
       "    .dataframe thead th {\n",
       "        text-align: right;\n",
       "    }\n",
       "</style>\n",
       "<table border=\"1\" class=\"dataframe\">\n",
       "  <thead>\n",
       "    <tr style=\"text-align: right;\">\n",
       "      <th></th>\n",
       "      <th>Variable</th>\n",
       "      <th>N</th>\n",
       "      <th>Mean</th>\n",
       "      <th>SD</th>\n",
       "      <th>SE</th>\n",
       "      <th>95% Conf.</th>\n",
       "      <th>Interval</th>\n",
       "    </tr>\n",
       "  </thead>\n",
       "  <tbody>\n",
       "    <tr>\n",
       "      <th>0</th>\n",
       "      <td>Revenue Per Order</td>\n",
       "      <td>4.0</td>\n",
       "      <td>557.770000</td>\n",
       "      <td>58.800807</td>\n",
       "      <td>29.400403</td>\n",
       "      <td>464.204795</td>\n",
       "      <td>651.335205</td>\n",
       "    </tr>\n",
       "    <tr>\n",
       "      <th>1</th>\n",
       "      <td>Revenue Per Order</td>\n",
       "      <td>5.0</td>\n",
       "      <td>629.848000</td>\n",
       "      <td>118.545920</td>\n",
       "      <td>53.015347</td>\n",
       "      <td>482.653799</td>\n",
       "      <td>777.042201</td>\n",
       "    </tr>\n",
       "    <tr>\n",
       "      <th>2</th>\n",
       "      <td>combined</td>\n",
       "      <td>9.0</td>\n",
       "      <td>597.813333</td>\n",
       "      <td>98.824414</td>\n",
       "      <td>32.941471</td>\n",
       "      <td>521.850164</td>\n",
       "      <td>673.776503</td>\n",
       "    </tr>\n",
       "  </tbody>\n",
       "</table>\n",
       "</div>"
      ],
      "text/plain": [
       "            Variable    N        Mean          SD         SE   95% Conf.  \\\n",
       "0  Revenue Per Order  4.0  557.770000   58.800807  29.400403  464.204795   \n",
       "1  Revenue Per Order  5.0  629.848000  118.545920  53.015347  482.653799   \n",
       "2           combined  9.0  597.813333   98.824414  32.941471  521.850164   \n",
       "\n",
       "     Interval  \n",
       "0  651.335205  \n",
       "1  777.042201  \n",
       "2  673.776503  "
      ]
     },
     "metadata": {},
     "output_type": "display_data"
    },
    {
     "data": {
      "text/html": [
       "<div>\n",
       "<style scoped>\n",
       "    .dataframe tbody tr th:only-of-type {\n",
       "        vertical-align: middle;\n",
       "    }\n",
       "\n",
       "    .dataframe tbody tr th {\n",
       "        vertical-align: top;\n",
       "    }\n",
       "\n",
       "    .dataframe thead th {\n",
       "        text-align: right;\n",
       "    }\n",
       "</style>\n",
       "<table border=\"1\" class=\"dataframe\">\n",
       "  <thead>\n",
       "    <tr style=\"text-align: right;\">\n",
       "      <th></th>\n",
       "      <th>Independent t-test</th>\n",
       "      <th>results</th>\n",
       "    </tr>\n",
       "  </thead>\n",
       "  <tbody>\n",
       "    <tr>\n",
       "      <th>0</th>\n",
       "      <td>Difference (Revenue Per Order - Revenue Per Or...</td>\n",
       "      <td>-72.0780</td>\n",
       "    </tr>\n",
       "    <tr>\n",
       "      <th>1</th>\n",
       "      <td>Degrees of freedom =</td>\n",
       "      <td>7.0000</td>\n",
       "    </tr>\n",
       "    <tr>\n",
       "      <th>2</th>\n",
       "      <td>t =</td>\n",
       "      <td>-1.1017</td>\n",
       "    </tr>\n",
       "    <tr>\n",
       "      <th>3</th>\n",
       "      <td>Two side test p value =</td>\n",
       "      <td>0.3070</td>\n",
       "    </tr>\n",
       "    <tr>\n",
       "      <th>4</th>\n",
       "      <td>Difference &gt; 0 p value =</td>\n",
       "      <td>0.1535</td>\n",
       "    </tr>\n",
       "    <tr>\n",
       "      <th>5</th>\n",
       "      <td>Difference &lt; 0 p value =</td>\n",
       "      <td>0.8465</td>\n",
       "    </tr>\n",
       "    <tr>\n",
       "      <th>6</th>\n",
       "      <td>Cohen's d =</td>\n",
       "      <td>-0.7390</td>\n",
       "    </tr>\n",
       "    <tr>\n",
       "      <th>7</th>\n",
       "      <td>Hedge's g =</td>\n",
       "      <td>-0.6569</td>\n",
       "    </tr>\n",
       "    <tr>\n",
       "      <th>8</th>\n",
       "      <td>Glass's delta =</td>\n",
       "      <td>-1.2258</td>\n",
       "    </tr>\n",
       "    <tr>\n",
       "      <th>9</th>\n",
       "      <td>r =</td>\n",
       "      <td>0.3844</td>\n",
       "    </tr>\n",
       "  </tbody>\n",
       "</table>\n",
       "</div>"
      ],
      "text/plain": [
       "                                  Independent t-test  results\n",
       "0  Difference (Revenue Per Order - Revenue Per Or... -72.0780\n",
       "1                              Degrees of freedom =    7.0000\n",
       "2                                               t =   -1.1017\n",
       "3                           Two side test p value =    0.3070\n",
       "4                          Difference > 0 p value =    0.1535\n",
       "5                          Difference < 0 p value =    0.8465\n",
       "6                                       Cohen's d =   -0.7390\n",
       "7                                       Hedge's g =   -0.6569\n",
       "8                                   Glass's delta =   -1.2258\n",
       "9                                               r =    0.3844"
      ]
     },
     "execution_count": 91,
     "metadata": {},
     "output_type": "execute_result"
    }
   ],
   "source": [
    "descriptives, results = rp.ttest(above_average['Revenue Per Order'], below_average['Revenue Per Order'], equal_variances = True)\n",
    "display(descriptives)\n",
    "results"
   ]
  },
  {
   "cell_type": "code",
   "execution_count": 92,
   "metadata": {},
   "outputs": [
    {
     "name": "stdout",
     "output_type": "stream",
     "text": [
      "t-critical value: 1.894578605061305\n"
     ]
    }
   ],
   "source": [
    "print ('t-critical value:',t.ppf(1 - 0.05, df=7))"
   ]
  },
  {
   "cell_type": "code",
   "execution_count": 93,
   "metadata": {},
   "outputs": [
    {
     "data": {
      "text/plain": [
       "0.25837368305419806"
      ]
     },
     "execution_count": 93,
     "metadata": {},
     "output_type": "execute_result"
    }
   ],
   "source": [
    "power = TTestIndPower()\n",
    "power_employee_sales = power.power(effect_size=.7390, nobs1=len(above_average['Revenue Per Order']), alpha=alpha, ratio=len(below_average['Revenue Per Order'])/len(above_average['Revenue Per Order']), df=(len(above_average['Revenue Per Order']) -1 + len(below_average['Revenue Per Order'])-1), alternative='larger')\n",
    "power_employee_sales"
   ]
  },
  {
   "cell_type": "code",
   "execution_count": 94,
   "metadata": {},
   "outputs": [
    {
     "data": {
      "text/html": [
       "<div>\n",
       "<style scoped>\n",
       "    .dataframe tbody tr th:only-of-type {\n",
       "        vertical-align: middle;\n",
       "    }\n",
       "\n",
       "    .dataframe tbody tr th {\n",
       "        vertical-align: top;\n",
       "    }\n",
       "\n",
       "    .dataframe thead th {\n",
       "        text-align: right;\n",
       "    }\n",
       "</style>\n",
       "<table border=\"1\" class=\"dataframe\">\n",
       "  <thead>\n",
       "    <tr style=\"text-align: right;\">\n",
       "      <th></th>\n",
       "      <th>Number of Sales</th>\n",
       "      <th>Total Sales</th>\n",
       "      <th>Revenue Per Order</th>\n",
       "    </tr>\n",
       "  </thead>\n",
       "  <tbody>\n",
       "    <tr>\n",
       "      <th>count</th>\n",
       "      <td>5.000000</td>\n",
       "      <td>5.000000</td>\n",
       "      <td>5.00000</td>\n",
       "    </tr>\n",
       "    <tr>\n",
       "      <th>mean</th>\n",
       "      <td>161.800000</td>\n",
       "      <td>102223.894000</td>\n",
       "      <td>629.84800</td>\n",
       "    </tr>\n",
       "    <tr>\n",
       "      <th>std</th>\n",
       "      <td>53.672153</td>\n",
       "      <td>42354.196918</td>\n",
       "      <td>118.54592</td>\n",
       "    </tr>\n",
       "    <tr>\n",
       "      <th>min</th>\n",
       "      <td>107.000000</td>\n",
       "      <td>68792.290000</td>\n",
       "      <td>439.96000</td>\n",
       "    </tr>\n",
       "    <tr>\n",
       "      <th>25%</th>\n",
       "      <td>117.000000</td>\n",
       "      <td>73913.140000</td>\n",
       "      <td>587.97000</td>\n",
       "    </tr>\n",
       "    <tr>\n",
       "      <th>50%</th>\n",
       "      <td>168.000000</td>\n",
       "      <td>77308.060000</td>\n",
       "      <td>691.03000</td>\n",
       "    </tr>\n",
       "    <tr>\n",
       "      <th>75%</th>\n",
       "      <td>176.000000</td>\n",
       "      <td>124568.220000</td>\n",
       "      <td>707.77000</td>\n",
       "    </tr>\n",
       "    <tr>\n",
       "      <th>max</th>\n",
       "      <td>241.000000</td>\n",
       "      <td>166537.760000</td>\n",
       "      <td>722.51000</td>\n",
       "    </tr>\n",
       "  </tbody>\n",
       "</table>\n",
       "</div>"
      ],
      "text/plain": [
       "       Number of Sales    Total Sales  Revenue Per Order\n",
       "count         5.000000       5.000000            5.00000\n",
       "mean        161.800000  102223.894000          629.84800\n",
       "std          53.672153   42354.196918          118.54592\n",
       "min         107.000000   68792.290000          439.96000\n",
       "25%         117.000000   73913.140000          587.97000\n",
       "50%         168.000000   77308.060000          691.03000\n",
       "75%         176.000000  124568.220000          707.77000\n",
       "max         241.000000  166537.760000          722.51000"
      ]
     },
     "execution_count": 94,
     "metadata": {},
     "output_type": "execute_result"
    }
   ],
   "source": [
    "below_average.describe()"
   ]
  },
  {
   "cell_type": "code",
   "execution_count": 95,
   "metadata": {},
   "outputs": [
    {
     "data": {
      "text/html": [
       "<div>\n",
       "<style scoped>\n",
       "    .dataframe tbody tr th:only-of-type {\n",
       "        vertical-align: middle;\n",
       "    }\n",
       "\n",
       "    .dataframe tbody tr th {\n",
       "        vertical-align: top;\n",
       "    }\n",
       "\n",
       "    .dataframe thead th {\n",
       "        text-align: right;\n",
       "    }\n",
       "</style>\n",
       "<table border=\"1\" class=\"dataframe\">\n",
       "  <thead>\n",
       "    <tr style=\"text-align: right;\">\n",
       "      <th></th>\n",
       "      <th>Number of Sales</th>\n",
       "      <th>Total Sales</th>\n",
       "      <th>Revenue Per Order</th>\n",
       "    </tr>\n",
       "  </thead>\n",
       "  <tbody>\n",
       "    <tr>\n",
       "      <th>count</th>\n",
       "      <td>4.000000</td>\n",
       "      <td>4.000000</td>\n",
       "      <td>4.000000</td>\n",
       "    </tr>\n",
       "    <tr>\n",
       "      <th>mean</th>\n",
       "      <td>336.500000</td>\n",
       "      <td>188668.392500</td>\n",
       "      <td>557.770000</td>\n",
       "    </tr>\n",
       "    <tr>\n",
       "      <th>std</th>\n",
       "      <td>66.174013</td>\n",
       "      <td>44674.819048</td>\n",
       "      <td>58.800807</td>\n",
       "    </tr>\n",
       "    <tr>\n",
       "      <th>min</th>\n",
       "      <td>260.000000</td>\n",
       "      <td>126862.270000</td>\n",
       "      <td>487.930000</td>\n",
       "    </tr>\n",
       "    <tr>\n",
       "      <th>25%</th>\n",
       "      <td>305.750000</td>\n",
       "      <td>175796.260000</td>\n",
       "      <td>537.857500</td>\n",
       "    </tr>\n",
       "    <tr>\n",
       "      <th>50%</th>\n",
       "      <td>333.000000</td>\n",
       "      <td>197460.210000</td>\n",
       "      <td>555.665000</td>\n",
       "    </tr>\n",
       "    <tr>\n",
       "      <th>75%</th>\n",
       "      <td>363.750000</td>\n",
       "      <td>210332.342500</td>\n",
       "      <td>575.577500</td>\n",
       "    </tr>\n",
       "    <tr>\n",
       "      <th>max</th>\n",
       "      <td>420.000000</td>\n",
       "      <td>232890.880000</td>\n",
       "      <td>631.820000</td>\n",
       "    </tr>\n",
       "  </tbody>\n",
       "</table>\n",
       "</div>"
      ],
      "text/plain": [
       "       Number of Sales    Total Sales  Revenue Per Order\n",
       "count         4.000000       4.000000           4.000000\n",
       "mean        336.500000  188668.392500         557.770000\n",
       "std          66.174013   44674.819048          58.800807\n",
       "min         260.000000  126862.270000         487.930000\n",
       "25%         305.750000  175796.260000         537.857500\n",
       "50%         333.000000  197460.210000         555.665000\n",
       "75%         363.750000  210332.342500         575.577500\n",
       "max         420.000000  232890.880000         631.820000"
      ]
     },
     "execution_count": 95,
     "metadata": {},
     "output_type": "execute_result"
    }
   ],
   "source": [
    "above_average.describe()"
   ]
  },
  {
   "cell_type": "markdown",
   "metadata": {},
   "source": [
    "- t value: -1.1017\n",
    "- t-critical value: 1.894578605061305\n",
    "- p-value: 0.3070\n",
    "- cohen's d: -0.7390, medium to large effect\n",
    "- power: 0.25837368305419806\n",
    "\n",
    "> $H_0$: Employees who make higher numbers of sales do not make more revenue per order.\n",
    "\n",
    "> $H_1$: There is a statistically significant difference in revenue per order for employees who make higher numbers of sales.\n",
    "    \n",
    "The findings are not significant! **We can fail to reject the null hypothesis and reject the alternative.** We find that employees who make higher than the median number of sales do not make more revenue per order on average. In fact, employees making above median number of sales have a lower average revenue per order. The mean revenue per order for 'high number of sales' employees is $557.77, while the average for employee with sales numbers below the median is $629.85. It is interesting to note that all the UK office employees have sales numbers below the median (241). Two employess hae average revenue per order above the mean ($597.81). Anne Dodsworth and Robert King have average revenue per order of $722.51 and $707.77. \n",
    "\n",
    "Margaret Peacock has the highest total number of sales (420) but only $554.50 average revenue per order. \n",
    "\n",
    "It is recommended to give all employees additional sales training and to re-evaluate and set new sales targets. The employees making higher than average revenue per order are encouraged to share best practices. \n",
    "\n",
    "The UK office overall makes fewer sales. Further investigation is needed to determine how to turn this around. "
   ]
  },
  {
   "cell_type": "markdown",
   "metadata": {},
   "source": [
    "## Business Recommendations\n",
    "\n",
    "   > 1. There is not enough evidence to suggest the discounts significantly impact average order quantity or revenue per order. Discounts should be limited to increase full price sales. Discounts above 5% did not incentivize. Discounts, when given judiciously, should be capped at 5%. \n",
    "   > 2. Marketing prograrms to target customers who purchase more frequently, regardless of how much they spend, should be developed. These customers spend more than infrequent shoppers and can bring in more revenue. Further investigation can be done to determine what the right level of discount is to encourage frequent shoppers to spend more per order. \n",
    "   > 3. It is recommended to give all employees additional sales training and to re-evaluate and set new sales targets. The employees making higher than average revenue per order are encouraged to share best practices with underperforming teammates. The UK office overall makes fewer sales. Further investigation is needed to determine what causes this lower performance and how to turn this around.   "
   ]
  }
 ],
 "metadata": {
  "kernelspec": {
   "display_name": "Python [conda env:learn-env] *",
   "language": "python",
   "name": "conda-env-learn-env-py"
  },
  "language_info": {
   "codemirror_mode": {
    "name": "ipython",
    "version": 3
   },
   "file_extension": ".py",
   "mimetype": "text/x-python",
   "name": "python",
   "nbconvert_exporter": "python",
   "pygments_lexer": "ipython3",
   "version": "3.6.6"
  }
 },
 "nbformat": 4,
 "nbformat_minor": 2
}
